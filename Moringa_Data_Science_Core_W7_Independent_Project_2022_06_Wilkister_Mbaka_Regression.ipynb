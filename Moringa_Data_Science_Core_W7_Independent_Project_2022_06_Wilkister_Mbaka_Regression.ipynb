{
  "nbformat": 4,
  "nbformat_minor": 0,
  "metadata": {
    "colab": {
      "name": "Moringa_Data_Science_Core_W7_Independent_Project_2022_06_Wilkister_Mbaka_Regression",
      "provenance": [],
      "toc_visible": true,
      "authorship_tag": "ABX9TyO29m+M5zq0tIabnyvVt8dJ",
      "include_colab_link": true
    },
    "kernelspec": {
      "name": "python3",
      "display_name": "Python 3"
    },
    "language_info": {
      "name": "python"
    }
  },
  "cells": [
    {
      "cell_type": "markdown",
      "metadata": {
        "id": "view-in-github",
        "colab_type": "text"
      },
      "source": [
        "<a href=\"https://colab.research.google.com/github/WilkisterMbaka/House-Sales-Analysis-and-Prediction-Hass-Consulting-Company/blob/main/Moringa_Data_Science_Core_W7_Independent_Project_2022_06_Wilkister_Mbaka_Regression.ipynb\" target=\"_parent\"><img src=\"https://colab.research.google.com/assets/colab-badge.svg\" alt=\"Open In Colab\"/></a>"
      ]
    },
    {
      "cell_type": "markdown",
      "source": [
        "# **Housing Prices Analysis and Prediction**"
      ],
      "metadata": {
        "id": "hW_Q-aKHr3cr"
      }
    },
    {
      "cell_type": "markdown",
      "source": [
        "## **1.0 Defining The Question**"
      ],
      "metadata": {
        "id": "dIOixREnr_sd"
      }
    },
    {
      "cell_type": "markdown",
      "source": [
        "**a) Specifying the Question**"
      ],
      "metadata": {
        "id": "kRK811UKsIEb"
      }
    },
    {
      "cell_type": "markdown",
      "source": [
        "1. Study the factors that affect housing prices\n",
        "2. Build a model that would allow the company to accurately predict the sale of prices upon being provided with the predictor variables."
      ],
      "metadata": {
        "id": "wnn7VNvZsINc"
      }
    },
    {
      "cell_type": "markdown",
      "source": [
        "**b) Defining the Metric for Success**"
      ],
      "metadata": {
        "id": "_35yeWDFsIVn"
      }
    },
    {
      "cell_type": "markdown",
      "source": [
        "* Exploratory Data Analysis\n",
        "* Building regression models\n",
        "    * Multiple Linear Regression\n",
        "    * Quantile Regression\n",
        "    * Ridge Regression\n",
        "    * Lasso Regression\n",
        "    * Elastic Net Regression\n",
        "* Model evaluation through cross validation, RMSE Scores, residual plots and Heteroscedascity"
      ],
      "metadata": {
        "id": "zEJSpOCysUfI"
      }
    },
    {
      "cell_type": "markdown",
      "source": [
        "**c) Understanding the context**"
      ],
      "metadata": {
        "id": "aDnblGk8sUkP"
      }
    },
    {
      "cell_type": "markdown",
      "source": [
        "As a Data Scientist, you work for Hass Consulting Company which is a real estate leader with over 25 years of experience. You have been tasked to study the factors that affect housing prices using the given information on real estate properties that was collected over the past few months. Later onwards, create a model that would allow the company to accurately predict the sale of prices upon being provided with the predictor variables. "
      ],
      "metadata": {
        "id": "VGromft2sUol"
      }
    },
    {
      "cell_type": "markdown",
      "source": [
        "**d) Recording the Experimental Design**"
      ],
      "metadata": {
        "id": "XKREQJSqsUrt"
      }
    },
    {
      "cell_type": "markdown",
      "source": [
        "1. Define the question, the metric for success, the context, experimental design taken.\n",
        "2. Read and explore the given dataset.\n",
        "3. Define the appropriateness of the available data to answer the given question.\n",
        "4. Find and deal with outliers, anomalies, and missing data within the dataset.\n",
        "5. Perform univariate, bivariate and multivariate analysis recording your observations.\n",
        "5. Performing regression analysis.\n",
        "6. Incorporate categorical independent variables into your models.\n",
        "7. Check for multicollinearity\n",
        "8. Provide a recommendation based on your analysis. \n",
        "9. Create residual plots for your models, and assess heteroskedasticity using Barlett's test.\n",
        "10. Challenge your solution by providing insights on how you can make improvements in model improvement."
      ],
      "metadata": {
        "id": "JLI4oE1bsUu1"
      }
    },
    {
      "cell_type": "markdown",
      "source": [
        "## **2.0 Reading Data**"
      ],
      "metadata": {
        "id": "JpwienKzt9DX"
      }
    },
    {
      "cell_type": "code",
      "source": [
        "#importing Libraries\n",
        "\n",
        "#importing pandas\n",
        "import pandas as pd\n",
        "\n",
        "# Importing Numpy\n",
        "#\n",
        "import numpy as np\n",
        "\n",
        "# Importing Seaborn\n",
        "#\n",
        "import seaborn as sns\n",
        "\n",
        "# Importing Matplotlib\n",
        "#\n",
        "import matplotlib.pyplot as plt\n",
        "%matplotlib inline"
      ],
      "metadata": {
        "id": "DzzAvZA7uG4z"
      },
      "execution_count": 1,
      "outputs": []
    },
    {
      "cell_type": "code",
      "source": [
        "# Loading the Data from the source i.e. csv\n",
        "#\n",
        "df = pd.read_csv('http://bit.ly/IndependentProjectWeek7Dataset')"
      ],
      "metadata": {
        "id": "GeCcqC2ouHdu"
      },
      "execution_count": 2,
      "outputs": []
    },
    {
      "cell_type": "markdown",
      "source": [
        "## **3.0 Checking the Data**"
      ],
      "metadata": {
        "id": "MqLZJhTxvWQV"
      }
    },
    {
      "cell_type": "code",
      "source": [
        "# Check top 5 records\n",
        "df.head()"
      ],
      "metadata": {
        "colab": {
          "base_uri": "https://localhost:8080/",
          "height": 270
        },
        "id": "7-_7_AbIu8R0",
        "outputId": "79bf2fd5-2f9e-41aa-8235-dd430af434a8"
      },
      "execution_count": 3,
      "outputs": [
        {
          "output_type": "execute_result",
          "data": {
            "text/plain": [
              "           id     price  bedrooms  bathrooms  sqft_living  sqft_lot  floors  \\\n",
              "0  7129300520  221900.0         3       1.00         1180      5650     1.0   \n",
              "1  6414100192  538000.0         3       2.25         2570      7242     2.0   \n",
              "2  5631500400  180000.0         2       1.00          770     10000     1.0   \n",
              "3  2487200875  604000.0         4       3.00         1960      5000     1.0   \n",
              "4  1954400510  510000.0         3       2.00         1680      8080     1.0   \n",
              "\n",
              "   waterfront  view  condition  grade  sqft_above  sqft_basement  yr_built  \\\n",
              "0           0     0          3      7        1180              0      1955   \n",
              "1           0     0          3      7        2170            400      1951   \n",
              "2           0     0          3      6         770              0      1933   \n",
              "3           0     0          5      7        1050            910      1965   \n",
              "4           0     0          3      8        1680              0      1987   \n",
              "\n",
              "   yr_renovated  zipcode      lat     long  sqft_living15  sqft_lot15  \n",
              "0             0    98178  47.5112 -122.257           1340        5650  \n",
              "1          1991    98125  47.7210 -122.319           1690        7639  \n",
              "2             0    98028  47.7379 -122.233           2720        8062  \n",
              "3             0    98136  47.5208 -122.393           1360        5000  \n",
              "4             0    98074  47.6168 -122.045           1800        7503  "
            ],
            "text/html": [
              "\n",
              "  <div id=\"df-5ab8faeb-6813-417e-950b-a22b70361eae\">\n",
              "    <div class=\"colab-df-container\">\n",
              "      <div>\n",
              "<style scoped>\n",
              "    .dataframe tbody tr th:only-of-type {\n",
              "        vertical-align: middle;\n",
              "    }\n",
              "\n",
              "    .dataframe tbody tr th {\n",
              "        vertical-align: top;\n",
              "    }\n",
              "\n",
              "    .dataframe thead th {\n",
              "        text-align: right;\n",
              "    }\n",
              "</style>\n",
              "<table border=\"1\" class=\"dataframe\">\n",
              "  <thead>\n",
              "    <tr style=\"text-align: right;\">\n",
              "      <th></th>\n",
              "      <th>id</th>\n",
              "      <th>price</th>\n",
              "      <th>bedrooms</th>\n",
              "      <th>bathrooms</th>\n",
              "      <th>sqft_living</th>\n",
              "      <th>sqft_lot</th>\n",
              "      <th>floors</th>\n",
              "      <th>waterfront</th>\n",
              "      <th>view</th>\n",
              "      <th>condition</th>\n",
              "      <th>grade</th>\n",
              "      <th>sqft_above</th>\n",
              "      <th>sqft_basement</th>\n",
              "      <th>yr_built</th>\n",
              "      <th>yr_renovated</th>\n",
              "      <th>zipcode</th>\n",
              "      <th>lat</th>\n",
              "      <th>long</th>\n",
              "      <th>sqft_living15</th>\n",
              "      <th>sqft_lot15</th>\n",
              "    </tr>\n",
              "  </thead>\n",
              "  <tbody>\n",
              "    <tr>\n",
              "      <th>0</th>\n",
              "      <td>7129300520</td>\n",
              "      <td>221900.0</td>\n",
              "      <td>3</td>\n",
              "      <td>1.00</td>\n",
              "      <td>1180</td>\n",
              "      <td>5650</td>\n",
              "      <td>1.0</td>\n",
              "      <td>0</td>\n",
              "      <td>0</td>\n",
              "      <td>3</td>\n",
              "      <td>7</td>\n",
              "      <td>1180</td>\n",
              "      <td>0</td>\n",
              "      <td>1955</td>\n",
              "      <td>0</td>\n",
              "      <td>98178</td>\n",
              "      <td>47.5112</td>\n",
              "      <td>-122.257</td>\n",
              "      <td>1340</td>\n",
              "      <td>5650</td>\n",
              "    </tr>\n",
              "    <tr>\n",
              "      <th>1</th>\n",
              "      <td>6414100192</td>\n",
              "      <td>538000.0</td>\n",
              "      <td>3</td>\n",
              "      <td>2.25</td>\n",
              "      <td>2570</td>\n",
              "      <td>7242</td>\n",
              "      <td>2.0</td>\n",
              "      <td>0</td>\n",
              "      <td>0</td>\n",
              "      <td>3</td>\n",
              "      <td>7</td>\n",
              "      <td>2170</td>\n",
              "      <td>400</td>\n",
              "      <td>1951</td>\n",
              "      <td>1991</td>\n",
              "      <td>98125</td>\n",
              "      <td>47.7210</td>\n",
              "      <td>-122.319</td>\n",
              "      <td>1690</td>\n",
              "      <td>7639</td>\n",
              "    </tr>\n",
              "    <tr>\n",
              "      <th>2</th>\n",
              "      <td>5631500400</td>\n",
              "      <td>180000.0</td>\n",
              "      <td>2</td>\n",
              "      <td>1.00</td>\n",
              "      <td>770</td>\n",
              "      <td>10000</td>\n",
              "      <td>1.0</td>\n",
              "      <td>0</td>\n",
              "      <td>0</td>\n",
              "      <td>3</td>\n",
              "      <td>6</td>\n",
              "      <td>770</td>\n",
              "      <td>0</td>\n",
              "      <td>1933</td>\n",
              "      <td>0</td>\n",
              "      <td>98028</td>\n",
              "      <td>47.7379</td>\n",
              "      <td>-122.233</td>\n",
              "      <td>2720</td>\n",
              "      <td>8062</td>\n",
              "    </tr>\n",
              "    <tr>\n",
              "      <th>3</th>\n",
              "      <td>2487200875</td>\n",
              "      <td>604000.0</td>\n",
              "      <td>4</td>\n",
              "      <td>3.00</td>\n",
              "      <td>1960</td>\n",
              "      <td>5000</td>\n",
              "      <td>1.0</td>\n",
              "      <td>0</td>\n",
              "      <td>0</td>\n",
              "      <td>5</td>\n",
              "      <td>7</td>\n",
              "      <td>1050</td>\n",
              "      <td>910</td>\n",
              "      <td>1965</td>\n",
              "      <td>0</td>\n",
              "      <td>98136</td>\n",
              "      <td>47.5208</td>\n",
              "      <td>-122.393</td>\n",
              "      <td>1360</td>\n",
              "      <td>5000</td>\n",
              "    </tr>\n",
              "    <tr>\n",
              "      <th>4</th>\n",
              "      <td>1954400510</td>\n",
              "      <td>510000.0</td>\n",
              "      <td>3</td>\n",
              "      <td>2.00</td>\n",
              "      <td>1680</td>\n",
              "      <td>8080</td>\n",
              "      <td>1.0</td>\n",
              "      <td>0</td>\n",
              "      <td>0</td>\n",
              "      <td>3</td>\n",
              "      <td>8</td>\n",
              "      <td>1680</td>\n",
              "      <td>0</td>\n",
              "      <td>1987</td>\n",
              "      <td>0</td>\n",
              "      <td>98074</td>\n",
              "      <td>47.6168</td>\n",
              "      <td>-122.045</td>\n",
              "      <td>1800</td>\n",
              "      <td>7503</td>\n",
              "    </tr>\n",
              "  </tbody>\n",
              "</table>\n",
              "</div>\n",
              "      <button class=\"colab-df-convert\" onclick=\"convertToInteractive('df-5ab8faeb-6813-417e-950b-a22b70361eae')\"\n",
              "              title=\"Convert this dataframe to an interactive table.\"\n",
              "              style=\"display:none;\">\n",
              "        \n",
              "  <svg xmlns=\"http://www.w3.org/2000/svg\" height=\"24px\"viewBox=\"0 0 24 24\"\n",
              "       width=\"24px\">\n",
              "    <path d=\"M0 0h24v24H0V0z\" fill=\"none\"/>\n",
              "    <path d=\"M18.56 5.44l.94 2.06.94-2.06 2.06-.94-2.06-.94-.94-2.06-.94 2.06-2.06.94zm-11 1L8.5 8.5l.94-2.06 2.06-.94-2.06-.94L8.5 2.5l-.94 2.06-2.06.94zm10 10l.94 2.06.94-2.06 2.06-.94-2.06-.94-.94-2.06-.94 2.06-2.06.94z\"/><path d=\"M17.41 7.96l-1.37-1.37c-.4-.4-.92-.59-1.43-.59-.52 0-1.04.2-1.43.59L10.3 9.45l-7.72 7.72c-.78.78-.78 2.05 0 2.83L4 21.41c.39.39.9.59 1.41.59.51 0 1.02-.2 1.41-.59l7.78-7.78 2.81-2.81c.8-.78.8-2.07 0-2.86zM5.41 20L4 18.59l7.72-7.72 1.47 1.35L5.41 20z\"/>\n",
              "  </svg>\n",
              "      </button>\n",
              "      \n",
              "  <style>\n",
              "    .colab-df-container {\n",
              "      display:flex;\n",
              "      flex-wrap:wrap;\n",
              "      gap: 12px;\n",
              "    }\n",
              "\n",
              "    .colab-df-convert {\n",
              "      background-color: #E8F0FE;\n",
              "      border: none;\n",
              "      border-radius: 50%;\n",
              "      cursor: pointer;\n",
              "      display: none;\n",
              "      fill: #1967D2;\n",
              "      height: 32px;\n",
              "      padding: 0 0 0 0;\n",
              "      width: 32px;\n",
              "    }\n",
              "\n",
              "    .colab-df-convert:hover {\n",
              "      background-color: #E2EBFA;\n",
              "      box-shadow: 0px 1px 2px rgba(60, 64, 67, 0.3), 0px 1px 3px 1px rgba(60, 64, 67, 0.15);\n",
              "      fill: #174EA6;\n",
              "    }\n",
              "\n",
              "    [theme=dark] .colab-df-convert {\n",
              "      background-color: #3B4455;\n",
              "      fill: #D2E3FC;\n",
              "    }\n",
              "\n",
              "    [theme=dark] .colab-df-convert:hover {\n",
              "      background-color: #434B5C;\n",
              "      box-shadow: 0px 1px 3px 1px rgba(0, 0, 0, 0.15);\n",
              "      filter: drop-shadow(0px 1px 2px rgba(0, 0, 0, 0.3));\n",
              "      fill: #FFFFFF;\n",
              "    }\n",
              "  </style>\n",
              "\n",
              "      <script>\n",
              "        const buttonEl =\n",
              "          document.querySelector('#df-5ab8faeb-6813-417e-950b-a22b70361eae button.colab-df-convert');\n",
              "        buttonEl.style.display =\n",
              "          google.colab.kernel.accessAllowed ? 'block' : 'none';\n",
              "\n",
              "        async function convertToInteractive(key) {\n",
              "          const element = document.querySelector('#df-5ab8faeb-6813-417e-950b-a22b70361eae');\n",
              "          const dataTable =\n",
              "            await google.colab.kernel.invokeFunction('convertToInteractive',\n",
              "                                                     [key], {});\n",
              "          if (!dataTable) return;\n",
              "\n",
              "          const docLinkHtml = 'Like what you see? Visit the ' +\n",
              "            '<a target=\"_blank\" href=https://colab.research.google.com/notebooks/data_table.ipynb>data table notebook</a>'\n",
              "            + ' to learn more about interactive tables.';\n",
              "          element.innerHTML = '';\n",
              "          dataTable['output_type'] = 'display_data';\n",
              "          await google.colab.output.renderOutput(dataTable, element);\n",
              "          const docLink = document.createElement('div');\n",
              "          docLink.innerHTML = docLinkHtml;\n",
              "          element.appendChild(docLink);\n",
              "        }\n",
              "      </script>\n",
              "    </div>\n",
              "  </div>\n",
              "  "
            ]
          },
          "metadata": {},
          "execution_count": 3
        }
      ]
    },
    {
      "cell_type": "code",
      "source": [
        "# Check bottom 5 records\n",
        "df.tail()"
      ],
      "metadata": {
        "colab": {
          "base_uri": "https://localhost:8080/",
          "height": 270
        },
        "id": "nZMZN745vkMo",
        "outputId": "bc08722d-e2e2-4e2c-8256-25888aa283dd"
      },
      "execution_count": 4,
      "outputs": [
        {
          "output_type": "execute_result",
          "data": {
            "text/plain": [
              "               id     price  bedrooms  bathrooms  sqft_living  sqft_lot  \\\n",
              "21608   263000018  360000.0         3       2.50         1530      1131   \n",
              "21609  6600060120  400000.0         4       2.50         2310      5813   \n",
              "21610  1523300141  402101.0         2       0.75         1020      1350   \n",
              "21611   291310100  400000.0         3       2.50         1600      2388   \n",
              "21612  1523300157  325000.0         2       0.75         1020      1076   \n",
              "\n",
              "       floors  waterfront  view  condition  grade  sqft_above  sqft_basement  \\\n",
              "21608     3.0           0     0          3      8        1530              0   \n",
              "21609     2.0           0     0          3      8        2310              0   \n",
              "21610     2.0           0     0          3      7        1020              0   \n",
              "21611     2.0           0     0          3      8        1600              0   \n",
              "21612     2.0           0     0          3      7        1020              0   \n",
              "\n",
              "       yr_built  yr_renovated  zipcode      lat     long  sqft_living15  \\\n",
              "21608      2009             0    98103  47.6993 -122.346           1530   \n",
              "21609      2014             0    98146  47.5107 -122.362           1830   \n",
              "21610      2009             0    98144  47.5944 -122.299           1020   \n",
              "21611      2004             0    98027  47.5345 -122.069           1410   \n",
              "21612      2008             0    98144  47.5941 -122.299           1020   \n",
              "\n",
              "       sqft_lot15  \n",
              "21608        1509  \n",
              "21609        7200  \n",
              "21610        2007  \n",
              "21611        1287  \n",
              "21612        1357  "
            ],
            "text/html": [
              "\n",
              "  <div id=\"df-7d7f3fd3-606c-4985-92d7-6f66723801fb\">\n",
              "    <div class=\"colab-df-container\">\n",
              "      <div>\n",
              "<style scoped>\n",
              "    .dataframe tbody tr th:only-of-type {\n",
              "        vertical-align: middle;\n",
              "    }\n",
              "\n",
              "    .dataframe tbody tr th {\n",
              "        vertical-align: top;\n",
              "    }\n",
              "\n",
              "    .dataframe thead th {\n",
              "        text-align: right;\n",
              "    }\n",
              "</style>\n",
              "<table border=\"1\" class=\"dataframe\">\n",
              "  <thead>\n",
              "    <tr style=\"text-align: right;\">\n",
              "      <th></th>\n",
              "      <th>id</th>\n",
              "      <th>price</th>\n",
              "      <th>bedrooms</th>\n",
              "      <th>bathrooms</th>\n",
              "      <th>sqft_living</th>\n",
              "      <th>sqft_lot</th>\n",
              "      <th>floors</th>\n",
              "      <th>waterfront</th>\n",
              "      <th>view</th>\n",
              "      <th>condition</th>\n",
              "      <th>grade</th>\n",
              "      <th>sqft_above</th>\n",
              "      <th>sqft_basement</th>\n",
              "      <th>yr_built</th>\n",
              "      <th>yr_renovated</th>\n",
              "      <th>zipcode</th>\n",
              "      <th>lat</th>\n",
              "      <th>long</th>\n",
              "      <th>sqft_living15</th>\n",
              "      <th>sqft_lot15</th>\n",
              "    </tr>\n",
              "  </thead>\n",
              "  <tbody>\n",
              "    <tr>\n",
              "      <th>21608</th>\n",
              "      <td>263000018</td>\n",
              "      <td>360000.0</td>\n",
              "      <td>3</td>\n",
              "      <td>2.50</td>\n",
              "      <td>1530</td>\n",
              "      <td>1131</td>\n",
              "      <td>3.0</td>\n",
              "      <td>0</td>\n",
              "      <td>0</td>\n",
              "      <td>3</td>\n",
              "      <td>8</td>\n",
              "      <td>1530</td>\n",
              "      <td>0</td>\n",
              "      <td>2009</td>\n",
              "      <td>0</td>\n",
              "      <td>98103</td>\n",
              "      <td>47.6993</td>\n",
              "      <td>-122.346</td>\n",
              "      <td>1530</td>\n",
              "      <td>1509</td>\n",
              "    </tr>\n",
              "    <tr>\n",
              "      <th>21609</th>\n",
              "      <td>6600060120</td>\n",
              "      <td>400000.0</td>\n",
              "      <td>4</td>\n",
              "      <td>2.50</td>\n",
              "      <td>2310</td>\n",
              "      <td>5813</td>\n",
              "      <td>2.0</td>\n",
              "      <td>0</td>\n",
              "      <td>0</td>\n",
              "      <td>3</td>\n",
              "      <td>8</td>\n",
              "      <td>2310</td>\n",
              "      <td>0</td>\n",
              "      <td>2014</td>\n",
              "      <td>0</td>\n",
              "      <td>98146</td>\n",
              "      <td>47.5107</td>\n",
              "      <td>-122.362</td>\n",
              "      <td>1830</td>\n",
              "      <td>7200</td>\n",
              "    </tr>\n",
              "    <tr>\n",
              "      <th>21610</th>\n",
              "      <td>1523300141</td>\n",
              "      <td>402101.0</td>\n",
              "      <td>2</td>\n",
              "      <td>0.75</td>\n",
              "      <td>1020</td>\n",
              "      <td>1350</td>\n",
              "      <td>2.0</td>\n",
              "      <td>0</td>\n",
              "      <td>0</td>\n",
              "      <td>3</td>\n",
              "      <td>7</td>\n",
              "      <td>1020</td>\n",
              "      <td>0</td>\n",
              "      <td>2009</td>\n",
              "      <td>0</td>\n",
              "      <td>98144</td>\n",
              "      <td>47.5944</td>\n",
              "      <td>-122.299</td>\n",
              "      <td>1020</td>\n",
              "      <td>2007</td>\n",
              "    </tr>\n",
              "    <tr>\n",
              "      <th>21611</th>\n",
              "      <td>291310100</td>\n",
              "      <td>400000.0</td>\n",
              "      <td>3</td>\n",
              "      <td>2.50</td>\n",
              "      <td>1600</td>\n",
              "      <td>2388</td>\n",
              "      <td>2.0</td>\n",
              "      <td>0</td>\n",
              "      <td>0</td>\n",
              "      <td>3</td>\n",
              "      <td>8</td>\n",
              "      <td>1600</td>\n",
              "      <td>0</td>\n",
              "      <td>2004</td>\n",
              "      <td>0</td>\n",
              "      <td>98027</td>\n",
              "      <td>47.5345</td>\n",
              "      <td>-122.069</td>\n",
              "      <td>1410</td>\n",
              "      <td>1287</td>\n",
              "    </tr>\n",
              "    <tr>\n",
              "      <th>21612</th>\n",
              "      <td>1523300157</td>\n",
              "      <td>325000.0</td>\n",
              "      <td>2</td>\n",
              "      <td>0.75</td>\n",
              "      <td>1020</td>\n",
              "      <td>1076</td>\n",
              "      <td>2.0</td>\n",
              "      <td>0</td>\n",
              "      <td>0</td>\n",
              "      <td>3</td>\n",
              "      <td>7</td>\n",
              "      <td>1020</td>\n",
              "      <td>0</td>\n",
              "      <td>2008</td>\n",
              "      <td>0</td>\n",
              "      <td>98144</td>\n",
              "      <td>47.5941</td>\n",
              "      <td>-122.299</td>\n",
              "      <td>1020</td>\n",
              "      <td>1357</td>\n",
              "    </tr>\n",
              "  </tbody>\n",
              "</table>\n",
              "</div>\n",
              "      <button class=\"colab-df-convert\" onclick=\"convertToInteractive('df-7d7f3fd3-606c-4985-92d7-6f66723801fb')\"\n",
              "              title=\"Convert this dataframe to an interactive table.\"\n",
              "              style=\"display:none;\">\n",
              "        \n",
              "  <svg xmlns=\"http://www.w3.org/2000/svg\" height=\"24px\"viewBox=\"0 0 24 24\"\n",
              "       width=\"24px\">\n",
              "    <path d=\"M0 0h24v24H0V0z\" fill=\"none\"/>\n",
              "    <path d=\"M18.56 5.44l.94 2.06.94-2.06 2.06-.94-2.06-.94-.94-2.06-.94 2.06-2.06.94zm-11 1L8.5 8.5l.94-2.06 2.06-.94-2.06-.94L8.5 2.5l-.94 2.06-2.06.94zm10 10l.94 2.06.94-2.06 2.06-.94-2.06-.94-.94-2.06-.94 2.06-2.06.94z\"/><path d=\"M17.41 7.96l-1.37-1.37c-.4-.4-.92-.59-1.43-.59-.52 0-1.04.2-1.43.59L10.3 9.45l-7.72 7.72c-.78.78-.78 2.05 0 2.83L4 21.41c.39.39.9.59 1.41.59.51 0 1.02-.2 1.41-.59l7.78-7.78 2.81-2.81c.8-.78.8-2.07 0-2.86zM5.41 20L4 18.59l7.72-7.72 1.47 1.35L5.41 20z\"/>\n",
              "  </svg>\n",
              "      </button>\n",
              "      \n",
              "  <style>\n",
              "    .colab-df-container {\n",
              "      display:flex;\n",
              "      flex-wrap:wrap;\n",
              "      gap: 12px;\n",
              "    }\n",
              "\n",
              "    .colab-df-convert {\n",
              "      background-color: #E8F0FE;\n",
              "      border: none;\n",
              "      border-radius: 50%;\n",
              "      cursor: pointer;\n",
              "      display: none;\n",
              "      fill: #1967D2;\n",
              "      height: 32px;\n",
              "      padding: 0 0 0 0;\n",
              "      width: 32px;\n",
              "    }\n",
              "\n",
              "    .colab-df-convert:hover {\n",
              "      background-color: #E2EBFA;\n",
              "      box-shadow: 0px 1px 2px rgba(60, 64, 67, 0.3), 0px 1px 3px 1px rgba(60, 64, 67, 0.15);\n",
              "      fill: #174EA6;\n",
              "    }\n",
              "\n",
              "    [theme=dark] .colab-df-convert {\n",
              "      background-color: #3B4455;\n",
              "      fill: #D2E3FC;\n",
              "    }\n",
              "\n",
              "    [theme=dark] .colab-df-convert:hover {\n",
              "      background-color: #434B5C;\n",
              "      box-shadow: 0px 1px 3px 1px rgba(0, 0, 0, 0.15);\n",
              "      filter: drop-shadow(0px 1px 2px rgba(0, 0, 0, 0.3));\n",
              "      fill: #FFFFFF;\n",
              "    }\n",
              "  </style>\n",
              "\n",
              "      <script>\n",
              "        const buttonEl =\n",
              "          document.querySelector('#df-7d7f3fd3-606c-4985-92d7-6f66723801fb button.colab-df-convert');\n",
              "        buttonEl.style.display =\n",
              "          google.colab.kernel.accessAllowed ? 'block' : 'none';\n",
              "\n",
              "        async function convertToInteractive(key) {\n",
              "          const element = document.querySelector('#df-7d7f3fd3-606c-4985-92d7-6f66723801fb');\n",
              "          const dataTable =\n",
              "            await google.colab.kernel.invokeFunction('convertToInteractive',\n",
              "                                                     [key], {});\n",
              "          if (!dataTable) return;\n",
              "\n",
              "          const docLinkHtml = 'Like what you see? Visit the ' +\n",
              "            '<a target=\"_blank\" href=https://colab.research.google.com/notebooks/data_table.ipynb>data table notebook</a>'\n",
              "            + ' to learn more about interactive tables.';\n",
              "          element.innerHTML = '';\n",
              "          dataTable['output_type'] = 'display_data';\n",
              "          await google.colab.output.renderOutput(dataTable, element);\n",
              "          const docLink = document.createElement('div');\n",
              "          docLink.innerHTML = docLinkHtml;\n",
              "          element.appendChild(docLink);\n",
              "        }\n",
              "      </script>\n",
              "    </div>\n",
              "  </div>\n",
              "  "
            ]
          },
          "metadata": {},
          "execution_count": 4
        }
      ]
    },
    {
      "cell_type": "code",
      "source": [
        "# Determining the no. of records in our dataset\n",
        "#\n",
        "print(f'Number of rows: {df.shape[0]} \\nNumber of columns: {df.shape[1]}')"
      ],
      "metadata": {
        "colab": {
          "base_uri": "https://localhost:8080/"
        },
        "id": "rEw9uzoRvoVN",
        "outputId": "834d809e-8cc3-4588-ebfa-aed8b9438375"
      },
      "execution_count": 5,
      "outputs": [
        {
          "output_type": "stream",
          "name": "stdout",
          "text": [
            "Number of rows: 21613 \n",
            "Number of columns: 20\n"
          ]
        }
      ]
    },
    {
      "cell_type": "code",
      "source": [
        "# Checking whether each column has an appropriate datatype\n",
        "#\n",
        "df.info()"
      ],
      "metadata": {
        "colab": {
          "base_uri": "https://localhost:8080/"
        },
        "id": "FhVUW8BMv2My",
        "outputId": "c9e45dd3-fb1f-453f-baef-21e65220cab0"
      },
      "execution_count": 6,
      "outputs": [
        {
          "output_type": "stream",
          "name": "stdout",
          "text": [
            "<class 'pandas.core.frame.DataFrame'>\n",
            "RangeIndex: 21613 entries, 0 to 21612\n",
            "Data columns (total 20 columns):\n",
            " #   Column         Non-Null Count  Dtype  \n",
            "---  ------         --------------  -----  \n",
            " 0   id             21613 non-null  int64  \n",
            " 1   price          21613 non-null  float64\n",
            " 2   bedrooms       21613 non-null  int64  \n",
            " 3   bathrooms      21613 non-null  float64\n",
            " 4   sqft_living    21613 non-null  int64  \n",
            " 5   sqft_lot       21613 non-null  int64  \n",
            " 6   floors         21613 non-null  float64\n",
            " 7   waterfront     21613 non-null  int64  \n",
            " 8   view           21613 non-null  int64  \n",
            " 9   condition      21613 non-null  int64  \n",
            " 10  grade          21613 non-null  int64  \n",
            " 11  sqft_above     21613 non-null  int64  \n",
            " 12  sqft_basement  21613 non-null  int64  \n",
            " 13  yr_built       21613 non-null  int64  \n",
            " 14  yr_renovated   21613 non-null  int64  \n",
            " 15  zipcode        21613 non-null  int64  \n",
            " 16  lat            21613 non-null  float64\n",
            " 17  long           21613 non-null  float64\n",
            " 18  sqft_living15  21613 non-null  int64  \n",
            " 19  sqft_lot15     21613 non-null  int64  \n",
            "dtypes: float64(5), int64(15)\n",
            "memory usage: 3.3 MB\n"
          ]
        }
      ]
    },
    {
      "cell_type": "code",
      "source": [
        "#Checking how many unique value are in a column\n",
        "df.nunique()"
      ],
      "metadata": {
        "colab": {
          "base_uri": "https://localhost:8080/"
        },
        "id": "kqBl_ikvv7KA",
        "outputId": "5f1680cd-e14e-4f5a-b4ab-1d084d90aaec"
      },
      "execution_count": 7,
      "outputs": [
        {
          "output_type": "execute_result",
          "data": {
            "text/plain": [
              "id               21436\n",
              "price             3625\n",
              "bedrooms            13\n",
              "bathrooms           30\n",
              "sqft_living       1038\n",
              "sqft_lot          9782\n",
              "floors               6\n",
              "waterfront           2\n",
              "view                 5\n",
              "condition            5\n",
              "grade               12\n",
              "sqft_above         946\n",
              "sqft_basement      306\n",
              "yr_built           116\n",
              "yr_renovated        70\n",
              "zipcode             70\n",
              "lat               5034\n",
              "long               752\n",
              "sqft_living15      777\n",
              "sqft_lot15        8689\n",
              "dtype: int64"
            ]
          },
          "metadata": {},
          "execution_count": 7
        }
      ]
    },
    {
      "cell_type": "code",
      "source": [
        "df.columns"
      ],
      "metadata": {
        "colab": {
          "base_uri": "https://localhost:8080/"
        },
        "id": "qEcAw6BlwLr7",
        "outputId": "a9fc376a-774f-479a-d129-0629d0db41b5"
      },
      "execution_count": 8,
      "outputs": [
        {
          "output_type": "execute_result",
          "data": {
            "text/plain": [
              "Index(['id', 'price', 'bedrooms', 'bathrooms', 'sqft_living', 'sqft_lot',\n",
              "       'floors', 'waterfront', 'view', 'condition', 'grade', 'sqft_above',\n",
              "       'sqft_basement', 'yr_built', 'yr_renovated', 'zipcode', 'lat', 'long',\n",
              "       'sqft_living15', 'sqft_lot15'],\n",
              "      dtype='object')"
            ]
          },
          "metadata": {},
          "execution_count": 8
        }
      ]
    },
    {
      "cell_type": "code",
      "source": [
        "# Check for unique values in each column\n",
        "column_list = ['bedrooms', 'bathrooms', 'floors', 'waterfront', 'view', 'condition', 'grade', 'yr_built', 'yr_renovated', 'zipcode', 'sqft_basement' ]\n",
        "for col in column_list:\n",
        "  print(f'{col} column unique values: \\n')\n",
        "  print(df[col].unique(), end='\\n')\n",
        "  print('**********')\n",
        "  print('\\n')"
      ],
      "metadata": {
        "colab": {
          "base_uri": "https://localhost:8080/"
        },
        "id": "31DfMsP-wCLQ",
        "outputId": "7a55ff61-cc20-4265-c0ee-1b95809ba616"
      },
      "execution_count": 9,
      "outputs": [
        {
          "output_type": "stream",
          "name": "stdout",
          "text": [
            "bedrooms column unique values: \n",
            "\n",
            "[ 3  2  4  5  1  6  7  0  8  9 11 10 33]\n",
            "**********\n",
            "\n",
            "\n",
            "bathrooms column unique values: \n",
            "\n",
            "[1.   2.25 3.   2.   4.5  1.5  2.5  1.75 2.75 3.25 4.   3.5  0.75 4.75\n",
            " 5.   4.25 3.75 0.   1.25 5.25 6.   0.5  5.5  6.75 5.75 8.   7.5  7.75\n",
            " 6.25 6.5 ]\n",
            "**********\n",
            "\n",
            "\n",
            "floors column unique values: \n",
            "\n",
            "[1.  2.  1.5 3.  2.5 3.5]\n",
            "**********\n",
            "\n",
            "\n",
            "waterfront column unique values: \n",
            "\n",
            "[0 1]\n",
            "**********\n",
            "\n",
            "\n",
            "view column unique values: \n",
            "\n",
            "[0 3 4 2 1]\n",
            "**********\n",
            "\n",
            "\n",
            "condition column unique values: \n",
            "\n",
            "[3 5 4 1 2]\n",
            "**********\n",
            "\n",
            "\n",
            "grade column unique values: \n",
            "\n",
            "[ 7  6  8 11  9  5 10 12  4  3 13  1]\n",
            "**********\n",
            "\n",
            "\n",
            "yr_built column unique values: \n",
            "\n",
            "[1955 1951 1933 1965 1987 2001 1995 1963 1960 2003 1942 1927 1977 1900\n",
            " 1979 1994 1916 1921 1969 1947 1968 1985 1941 1915 1909 1948 2005 1929\n",
            " 1981 1930 1904 1996 2000 1984 2014 1922 1959 1966 1953 1950 2008 1991\n",
            " 1954 1973 1925 1989 1972 1986 1956 2002 1992 1964 1952 1961 2006 1988\n",
            " 1962 1939 1946 1967 1975 1980 1910 1983 1978 1905 1971 2010 1945 1924\n",
            " 1990 1914 1926 2004 1923 2007 1976 1949 1999 1901 1993 1920 1997 1943\n",
            " 1957 1940 1918 1928 1974 1911 1936 1937 1982 1908 1931 1998 1913 2013\n",
            " 1907 1958 2012 1912 2011 1917 1932 1944 1902 2009 1903 1970 2015 1934\n",
            " 1938 1919 1906 1935]\n",
            "**********\n",
            "\n",
            "\n",
            "yr_renovated column unique values: \n",
            "\n",
            "[   0 1991 2002 2010 1999 1992 2013 1994 1978 2005 2008 2003 1984 1954\n",
            " 2014 2011 1974 1983 1945 1990 1988 1957 1977 1981 1995 2000 1998 1970\n",
            " 1989 2004 1986 2009 2007 1987 1973 2006 1985 2001 1980 1971 1979 1997\n",
            " 1950 1969 1948 2015 1968 2012 1963 1951 1993 1962 1996 1972 1953 1955\n",
            " 1982 1956 1940 1976 1946 1975 1958 1964 1959 1960 1967 1965 1934 1944]\n",
            "**********\n",
            "\n",
            "\n",
            "zipcode column unique values: \n",
            "\n",
            "[98178 98125 98028 98136 98074 98053 98003 98198 98146 98038 98007 98115\n",
            " 98107 98126 98019 98103 98002 98133 98040 98092 98030 98119 98112 98052\n",
            " 98027 98117 98058 98001 98056 98166 98023 98070 98148 98105 98042 98008\n",
            " 98059 98122 98144 98004 98005 98034 98075 98116 98010 98118 98199 98032\n",
            " 98045 98102 98077 98108 98168 98177 98065 98029 98006 98109 98022 98033\n",
            " 98155 98024 98011 98031 98106 98072 98188 98014 98055 98039]\n",
            "**********\n",
            "\n",
            "\n",
            "sqft_basement column unique values: \n",
            "\n",
            "[   0  400  910 1530  730 1700  300  970  760  720  700  820  780  790\n",
            "  330 1620  360  588 1510  410  990  600  560  550 1000 1600  500 1040\n",
            "  880 1010  240  265  290  800  540  380  710  840  770  480  570 1490\n",
            "  620 1250 1270  120  650  180 1130  450 1640 1460 1020 1030  750  640\n",
            " 1070  490 1310  630 2000  390  430  850  210 1430 1950  440  220 1160\n",
            "  860  580 2060 1820 1180  200 1150 1200  680  530 1450 1170 1080  960\n",
            " 1100  280  870  460 1400 1320  660 1220  900  420 1580 1380  475  690\n",
            "  270  350  935 1370  980 1470  160  950   50  740 1780 1900  340  470\n",
            "  370  140 1760  130  610  520  890 1110  150 1720  810  190 1290  670\n",
            " 1800 1120 1810   60 1050  940  310  930 1390 1830 1300  510 1330 1590\n",
            "  920 1420 1240 1960 1560 2020 1190 2110 1280  250 2390 1230  170  830\n",
            " 1260 1410 1340  590 1500 1140  260  100  320 1480 1060 1284 1670 1350\n",
            " 2570 2590 1090  110 2500   90 1940 1550 2350 2490 1481 1360 1135 1520\n",
            " 1850 1660 2130 2600 1690  243 1210 2620 1024 1798 1610 1440 1570 1650\n",
            "  704 1910 1630 2360 1852 2090 2400 1790 2150  230   70 1680 2100 3000\n",
            " 1870 1710 2030  875 1540 2850 2170  506  906  145 2040  784 1750  374\n",
            "  518 2720 2730 1840 3480 2160 1920 2330 1860 2050 4820 1913   80 2010\n",
            " 3260 2200  415 1730  652 2196 1930  515   40 2080 2580 1548 1740  235\n",
            "  861 1890 2220  792 2070 4130 2250 2240  894 1990  768 2550  435 1008\n",
            " 2300 2610  666 3500  172 1816 2190 1245 1525 1880  862  946 1281  414\n",
            " 2180  276 1248  602  516  176  225 1275  266  283   65 2310   10 1770\n",
            " 2120  295  207  915  556  417  143  508 2810   20  274  248]\n",
            "**********\n",
            "\n",
            "\n"
          ]
        }
      ]
    },
    {
      "cell_type": "markdown",
      "source": [
        "**Observations**\n",
        "1. Bedrooms has a value of 33 which is too large\n"
      ],
      "metadata": {
        "id": "b9ccj___x6gO"
      }
    },
    {
      "cell_type": "markdown",
      "source": [
        "## **4.0 Tidying the Dataset**"
      ],
      "metadata": {
        "id": "c3ygAbNQyfPR"
      }
    },
    {
      "cell_type": "code",
      "source": [
        "# dropping the unnecessary columns \n",
        "df=df.drop(['id'],axis=1)\n",
        "df.head(3)"
      ],
      "metadata": {
        "colab": {
          "base_uri": "https://localhost:8080/",
          "height": 207
        },
        "id": "zuDBTuRFysQl",
        "outputId": "51796467-b0b9-4205-fb0f-0ba27dd7624d"
      },
      "execution_count": 10,
      "outputs": [
        {
          "output_type": "execute_result",
          "data": {
            "text/plain": [
              "      price  bedrooms  bathrooms  sqft_living  sqft_lot  floors  waterfront  \\\n",
              "0  221900.0         3       1.00         1180      5650     1.0           0   \n",
              "1  538000.0         3       2.25         2570      7242     2.0           0   \n",
              "2  180000.0         2       1.00          770     10000     1.0           0   \n",
              "\n",
              "   view  condition  grade  sqft_above  sqft_basement  yr_built  yr_renovated  \\\n",
              "0     0          3      7        1180              0      1955             0   \n",
              "1     0          3      7        2170            400      1951          1991   \n",
              "2     0          3      6         770              0      1933             0   \n",
              "\n",
              "   zipcode      lat     long  sqft_living15  sqft_lot15  \n",
              "0    98178  47.5112 -122.257           1340        5650  \n",
              "1    98125  47.7210 -122.319           1690        7639  \n",
              "2    98028  47.7379 -122.233           2720        8062  "
            ],
            "text/html": [
              "\n",
              "  <div id=\"df-2bf9d4f5-c7e9-48fe-9a3a-c40933d4e6e8\">\n",
              "    <div class=\"colab-df-container\">\n",
              "      <div>\n",
              "<style scoped>\n",
              "    .dataframe tbody tr th:only-of-type {\n",
              "        vertical-align: middle;\n",
              "    }\n",
              "\n",
              "    .dataframe tbody tr th {\n",
              "        vertical-align: top;\n",
              "    }\n",
              "\n",
              "    .dataframe thead th {\n",
              "        text-align: right;\n",
              "    }\n",
              "</style>\n",
              "<table border=\"1\" class=\"dataframe\">\n",
              "  <thead>\n",
              "    <tr style=\"text-align: right;\">\n",
              "      <th></th>\n",
              "      <th>price</th>\n",
              "      <th>bedrooms</th>\n",
              "      <th>bathrooms</th>\n",
              "      <th>sqft_living</th>\n",
              "      <th>sqft_lot</th>\n",
              "      <th>floors</th>\n",
              "      <th>waterfront</th>\n",
              "      <th>view</th>\n",
              "      <th>condition</th>\n",
              "      <th>grade</th>\n",
              "      <th>sqft_above</th>\n",
              "      <th>sqft_basement</th>\n",
              "      <th>yr_built</th>\n",
              "      <th>yr_renovated</th>\n",
              "      <th>zipcode</th>\n",
              "      <th>lat</th>\n",
              "      <th>long</th>\n",
              "      <th>sqft_living15</th>\n",
              "      <th>sqft_lot15</th>\n",
              "    </tr>\n",
              "  </thead>\n",
              "  <tbody>\n",
              "    <tr>\n",
              "      <th>0</th>\n",
              "      <td>221900.0</td>\n",
              "      <td>3</td>\n",
              "      <td>1.00</td>\n",
              "      <td>1180</td>\n",
              "      <td>5650</td>\n",
              "      <td>1.0</td>\n",
              "      <td>0</td>\n",
              "      <td>0</td>\n",
              "      <td>3</td>\n",
              "      <td>7</td>\n",
              "      <td>1180</td>\n",
              "      <td>0</td>\n",
              "      <td>1955</td>\n",
              "      <td>0</td>\n",
              "      <td>98178</td>\n",
              "      <td>47.5112</td>\n",
              "      <td>-122.257</td>\n",
              "      <td>1340</td>\n",
              "      <td>5650</td>\n",
              "    </tr>\n",
              "    <tr>\n",
              "      <th>1</th>\n",
              "      <td>538000.0</td>\n",
              "      <td>3</td>\n",
              "      <td>2.25</td>\n",
              "      <td>2570</td>\n",
              "      <td>7242</td>\n",
              "      <td>2.0</td>\n",
              "      <td>0</td>\n",
              "      <td>0</td>\n",
              "      <td>3</td>\n",
              "      <td>7</td>\n",
              "      <td>2170</td>\n",
              "      <td>400</td>\n",
              "      <td>1951</td>\n",
              "      <td>1991</td>\n",
              "      <td>98125</td>\n",
              "      <td>47.7210</td>\n",
              "      <td>-122.319</td>\n",
              "      <td>1690</td>\n",
              "      <td>7639</td>\n",
              "    </tr>\n",
              "    <tr>\n",
              "      <th>2</th>\n",
              "      <td>180000.0</td>\n",
              "      <td>2</td>\n",
              "      <td>1.00</td>\n",
              "      <td>770</td>\n",
              "      <td>10000</td>\n",
              "      <td>1.0</td>\n",
              "      <td>0</td>\n",
              "      <td>0</td>\n",
              "      <td>3</td>\n",
              "      <td>6</td>\n",
              "      <td>770</td>\n",
              "      <td>0</td>\n",
              "      <td>1933</td>\n",
              "      <td>0</td>\n",
              "      <td>98028</td>\n",
              "      <td>47.7379</td>\n",
              "      <td>-122.233</td>\n",
              "      <td>2720</td>\n",
              "      <td>8062</td>\n",
              "    </tr>\n",
              "  </tbody>\n",
              "</table>\n",
              "</div>\n",
              "      <button class=\"colab-df-convert\" onclick=\"convertToInteractive('df-2bf9d4f5-c7e9-48fe-9a3a-c40933d4e6e8')\"\n",
              "              title=\"Convert this dataframe to an interactive table.\"\n",
              "              style=\"display:none;\">\n",
              "        \n",
              "  <svg xmlns=\"http://www.w3.org/2000/svg\" height=\"24px\"viewBox=\"0 0 24 24\"\n",
              "       width=\"24px\">\n",
              "    <path d=\"M0 0h24v24H0V0z\" fill=\"none\"/>\n",
              "    <path d=\"M18.56 5.44l.94 2.06.94-2.06 2.06-.94-2.06-.94-.94-2.06-.94 2.06-2.06.94zm-11 1L8.5 8.5l.94-2.06 2.06-.94-2.06-.94L8.5 2.5l-.94 2.06-2.06.94zm10 10l.94 2.06.94-2.06 2.06-.94-2.06-.94-.94-2.06-.94 2.06-2.06.94z\"/><path d=\"M17.41 7.96l-1.37-1.37c-.4-.4-.92-.59-1.43-.59-.52 0-1.04.2-1.43.59L10.3 9.45l-7.72 7.72c-.78.78-.78 2.05 0 2.83L4 21.41c.39.39.9.59 1.41.59.51 0 1.02-.2 1.41-.59l7.78-7.78 2.81-2.81c.8-.78.8-2.07 0-2.86zM5.41 20L4 18.59l7.72-7.72 1.47 1.35L5.41 20z\"/>\n",
              "  </svg>\n",
              "      </button>\n",
              "      \n",
              "  <style>\n",
              "    .colab-df-container {\n",
              "      display:flex;\n",
              "      flex-wrap:wrap;\n",
              "      gap: 12px;\n",
              "    }\n",
              "\n",
              "    .colab-df-convert {\n",
              "      background-color: #E8F0FE;\n",
              "      border: none;\n",
              "      border-radius: 50%;\n",
              "      cursor: pointer;\n",
              "      display: none;\n",
              "      fill: #1967D2;\n",
              "      height: 32px;\n",
              "      padding: 0 0 0 0;\n",
              "      width: 32px;\n",
              "    }\n",
              "\n",
              "    .colab-df-convert:hover {\n",
              "      background-color: #E2EBFA;\n",
              "      box-shadow: 0px 1px 2px rgba(60, 64, 67, 0.3), 0px 1px 3px 1px rgba(60, 64, 67, 0.15);\n",
              "      fill: #174EA6;\n",
              "    }\n",
              "\n",
              "    [theme=dark] .colab-df-convert {\n",
              "      background-color: #3B4455;\n",
              "      fill: #D2E3FC;\n",
              "    }\n",
              "\n",
              "    [theme=dark] .colab-df-convert:hover {\n",
              "      background-color: #434B5C;\n",
              "      box-shadow: 0px 1px 3px 1px rgba(0, 0, 0, 0.15);\n",
              "      filter: drop-shadow(0px 1px 2px rgba(0, 0, 0, 0.3));\n",
              "      fill: #FFFFFF;\n",
              "    }\n",
              "  </style>\n",
              "\n",
              "      <script>\n",
              "        const buttonEl =\n",
              "          document.querySelector('#df-2bf9d4f5-c7e9-48fe-9a3a-c40933d4e6e8 button.colab-df-convert');\n",
              "        buttonEl.style.display =\n",
              "          google.colab.kernel.accessAllowed ? 'block' : 'none';\n",
              "\n",
              "        async function convertToInteractive(key) {\n",
              "          const element = document.querySelector('#df-2bf9d4f5-c7e9-48fe-9a3a-c40933d4e6e8');\n",
              "          const dataTable =\n",
              "            await google.colab.kernel.invokeFunction('convertToInteractive',\n",
              "                                                     [key], {});\n",
              "          if (!dataTable) return;\n",
              "\n",
              "          const docLinkHtml = 'Like what you see? Visit the ' +\n",
              "            '<a target=\"_blank\" href=https://colab.research.google.com/notebooks/data_table.ipynb>data table notebook</a>'\n",
              "            + ' to learn more about interactive tables.';\n",
              "          element.innerHTML = '';\n",
              "          dataTable['output_type'] = 'display_data';\n",
              "          await google.colab.output.renderOutput(dataTable, element);\n",
              "          const docLink = document.createElement('div');\n",
              "          docLink.innerHTML = docLinkHtml;\n",
              "          element.appendChild(docLink);\n",
              "        }\n",
              "      </script>\n",
              "    </div>\n",
              "  </div>\n",
              "  "
            ]
          },
          "metadata": {},
          "execution_count": 10
        }
      ]
    },
    {
      "cell_type": "code",
      "source": [
        "# Check for missing values in the dataset\n",
        "df.isnull().sum()"
      ],
      "metadata": {
        "colab": {
          "base_uri": "https://localhost:8080/"
        },
        "id": "VjuNXjRP3D4N",
        "outputId": "88a3a8f8-3a22-4b0e-8145-408c160dc8a5"
      },
      "execution_count": 11,
      "outputs": [
        {
          "output_type": "execute_result",
          "data": {
            "text/plain": [
              "price            0\n",
              "bedrooms         0\n",
              "bathrooms        0\n",
              "sqft_living      0\n",
              "sqft_lot         0\n",
              "floors           0\n",
              "waterfront       0\n",
              "view             0\n",
              "condition        0\n",
              "grade            0\n",
              "sqft_above       0\n",
              "sqft_basement    0\n",
              "yr_built         0\n",
              "yr_renovated     0\n",
              "zipcode          0\n",
              "lat              0\n",
              "long             0\n",
              "sqft_living15    0\n",
              "sqft_lot15       0\n",
              "dtype: int64"
            ]
          },
          "metadata": {},
          "execution_count": 11
        }
      ]
    },
    {
      "cell_type": "markdown",
      "source": [
        "There are no missing values in the dataset"
      ],
      "metadata": {
        "id": "_X77Tk_K4WPH"
      }
    },
    {
      "cell_type": "code",
      "source": [
        "# Check for duplicates\n",
        "duplicate = df[df.duplicated()]\n",
        "\n",
        "duplicate"
      ],
      "metadata": {
        "colab": {
          "base_uri": "https://localhost:8080/",
          "height": 270
        },
        "id": "SXl7WJxH3Vux",
        "outputId": "17482253-6367-4bf9-9647-0de737f1db37"
      },
      "execution_count": 12,
      "outputs": [
        {
          "output_type": "execute_result",
          "data": {
            "text/plain": [
              "          price  bedrooms  bathrooms  sqft_living  sqft_lot  floors  \\\n",
              "3951   550000.0         4       1.75         2410      8447     2.0   \n",
              "4352   259950.0         2       2.00         1070       649     2.0   \n",
              "14983  585000.0         3       2.50         2290      5089     2.0   \n",
              "20054  555000.0         3       2.50         1940      3211     2.0   \n",
              "20524  529500.0         3       2.25         1410       905     3.0   \n",
              "\n",
              "       waterfront  view  condition  grade  sqft_above  sqft_basement  \\\n",
              "3951            0     3          4      8        2060            350   \n",
              "4352            0     0          3      9         720            350   \n",
              "14983           0     0          3      9        2290              0   \n",
              "20054           0     0          3      8        1940              0   \n",
              "20524           0     0          3      9        1410              0   \n",
              "\n",
              "       yr_built  yr_renovated  zipcode      lat     long  sqft_living15  \\\n",
              "3951       1936          1980    98074  47.6499 -122.088           2520   \n",
              "4352       2008             0    98106  47.5213 -122.357           1070   \n",
              "14983      2001             0    98006  47.5443 -122.172           2290   \n",
              "20054      2009             0    98027  47.5644 -122.093           1880   \n",
              "20524      2014             0    98116  47.5818 -122.402           1510   \n",
              "\n",
              "       sqft_lot15  \n",
              "3951        14789  \n",
              "4352          928  \n",
              "14983        7984  \n",
              "20054        3078  \n",
              "20524        1352  "
            ],
            "text/html": [
              "\n",
              "  <div id=\"df-eb26fb78-c3f8-4777-aa6a-e0b95bff923e\">\n",
              "    <div class=\"colab-df-container\">\n",
              "      <div>\n",
              "<style scoped>\n",
              "    .dataframe tbody tr th:only-of-type {\n",
              "        vertical-align: middle;\n",
              "    }\n",
              "\n",
              "    .dataframe tbody tr th {\n",
              "        vertical-align: top;\n",
              "    }\n",
              "\n",
              "    .dataframe thead th {\n",
              "        text-align: right;\n",
              "    }\n",
              "</style>\n",
              "<table border=\"1\" class=\"dataframe\">\n",
              "  <thead>\n",
              "    <tr style=\"text-align: right;\">\n",
              "      <th></th>\n",
              "      <th>price</th>\n",
              "      <th>bedrooms</th>\n",
              "      <th>bathrooms</th>\n",
              "      <th>sqft_living</th>\n",
              "      <th>sqft_lot</th>\n",
              "      <th>floors</th>\n",
              "      <th>waterfront</th>\n",
              "      <th>view</th>\n",
              "      <th>condition</th>\n",
              "      <th>grade</th>\n",
              "      <th>sqft_above</th>\n",
              "      <th>sqft_basement</th>\n",
              "      <th>yr_built</th>\n",
              "      <th>yr_renovated</th>\n",
              "      <th>zipcode</th>\n",
              "      <th>lat</th>\n",
              "      <th>long</th>\n",
              "      <th>sqft_living15</th>\n",
              "      <th>sqft_lot15</th>\n",
              "    </tr>\n",
              "  </thead>\n",
              "  <tbody>\n",
              "    <tr>\n",
              "      <th>3951</th>\n",
              "      <td>550000.0</td>\n",
              "      <td>4</td>\n",
              "      <td>1.75</td>\n",
              "      <td>2410</td>\n",
              "      <td>8447</td>\n",
              "      <td>2.0</td>\n",
              "      <td>0</td>\n",
              "      <td>3</td>\n",
              "      <td>4</td>\n",
              "      <td>8</td>\n",
              "      <td>2060</td>\n",
              "      <td>350</td>\n",
              "      <td>1936</td>\n",
              "      <td>1980</td>\n",
              "      <td>98074</td>\n",
              "      <td>47.6499</td>\n",
              "      <td>-122.088</td>\n",
              "      <td>2520</td>\n",
              "      <td>14789</td>\n",
              "    </tr>\n",
              "    <tr>\n",
              "      <th>4352</th>\n",
              "      <td>259950.0</td>\n",
              "      <td>2</td>\n",
              "      <td>2.00</td>\n",
              "      <td>1070</td>\n",
              "      <td>649</td>\n",
              "      <td>2.0</td>\n",
              "      <td>0</td>\n",
              "      <td>0</td>\n",
              "      <td>3</td>\n",
              "      <td>9</td>\n",
              "      <td>720</td>\n",
              "      <td>350</td>\n",
              "      <td>2008</td>\n",
              "      <td>0</td>\n",
              "      <td>98106</td>\n",
              "      <td>47.5213</td>\n",
              "      <td>-122.357</td>\n",
              "      <td>1070</td>\n",
              "      <td>928</td>\n",
              "    </tr>\n",
              "    <tr>\n",
              "      <th>14983</th>\n",
              "      <td>585000.0</td>\n",
              "      <td>3</td>\n",
              "      <td>2.50</td>\n",
              "      <td>2290</td>\n",
              "      <td>5089</td>\n",
              "      <td>2.0</td>\n",
              "      <td>0</td>\n",
              "      <td>0</td>\n",
              "      <td>3</td>\n",
              "      <td>9</td>\n",
              "      <td>2290</td>\n",
              "      <td>0</td>\n",
              "      <td>2001</td>\n",
              "      <td>0</td>\n",
              "      <td>98006</td>\n",
              "      <td>47.5443</td>\n",
              "      <td>-122.172</td>\n",
              "      <td>2290</td>\n",
              "      <td>7984</td>\n",
              "    </tr>\n",
              "    <tr>\n",
              "      <th>20054</th>\n",
              "      <td>555000.0</td>\n",
              "      <td>3</td>\n",
              "      <td>2.50</td>\n",
              "      <td>1940</td>\n",
              "      <td>3211</td>\n",
              "      <td>2.0</td>\n",
              "      <td>0</td>\n",
              "      <td>0</td>\n",
              "      <td>3</td>\n",
              "      <td>8</td>\n",
              "      <td>1940</td>\n",
              "      <td>0</td>\n",
              "      <td>2009</td>\n",
              "      <td>0</td>\n",
              "      <td>98027</td>\n",
              "      <td>47.5644</td>\n",
              "      <td>-122.093</td>\n",
              "      <td>1880</td>\n",
              "      <td>3078</td>\n",
              "    </tr>\n",
              "    <tr>\n",
              "      <th>20524</th>\n",
              "      <td>529500.0</td>\n",
              "      <td>3</td>\n",
              "      <td>2.25</td>\n",
              "      <td>1410</td>\n",
              "      <td>905</td>\n",
              "      <td>3.0</td>\n",
              "      <td>0</td>\n",
              "      <td>0</td>\n",
              "      <td>3</td>\n",
              "      <td>9</td>\n",
              "      <td>1410</td>\n",
              "      <td>0</td>\n",
              "      <td>2014</td>\n",
              "      <td>0</td>\n",
              "      <td>98116</td>\n",
              "      <td>47.5818</td>\n",
              "      <td>-122.402</td>\n",
              "      <td>1510</td>\n",
              "      <td>1352</td>\n",
              "    </tr>\n",
              "  </tbody>\n",
              "</table>\n",
              "</div>\n",
              "      <button class=\"colab-df-convert\" onclick=\"convertToInteractive('df-eb26fb78-c3f8-4777-aa6a-e0b95bff923e')\"\n",
              "              title=\"Convert this dataframe to an interactive table.\"\n",
              "              style=\"display:none;\">\n",
              "        \n",
              "  <svg xmlns=\"http://www.w3.org/2000/svg\" height=\"24px\"viewBox=\"0 0 24 24\"\n",
              "       width=\"24px\">\n",
              "    <path d=\"M0 0h24v24H0V0z\" fill=\"none\"/>\n",
              "    <path d=\"M18.56 5.44l.94 2.06.94-2.06 2.06-.94-2.06-.94-.94-2.06-.94 2.06-2.06.94zm-11 1L8.5 8.5l.94-2.06 2.06-.94-2.06-.94L8.5 2.5l-.94 2.06-2.06.94zm10 10l.94 2.06.94-2.06 2.06-.94-2.06-.94-.94-2.06-.94 2.06-2.06.94z\"/><path d=\"M17.41 7.96l-1.37-1.37c-.4-.4-.92-.59-1.43-.59-.52 0-1.04.2-1.43.59L10.3 9.45l-7.72 7.72c-.78.78-.78 2.05 0 2.83L4 21.41c.39.39.9.59 1.41.59.51 0 1.02-.2 1.41-.59l7.78-7.78 2.81-2.81c.8-.78.8-2.07 0-2.86zM5.41 20L4 18.59l7.72-7.72 1.47 1.35L5.41 20z\"/>\n",
              "  </svg>\n",
              "      </button>\n",
              "      \n",
              "  <style>\n",
              "    .colab-df-container {\n",
              "      display:flex;\n",
              "      flex-wrap:wrap;\n",
              "      gap: 12px;\n",
              "    }\n",
              "\n",
              "    .colab-df-convert {\n",
              "      background-color: #E8F0FE;\n",
              "      border: none;\n",
              "      border-radius: 50%;\n",
              "      cursor: pointer;\n",
              "      display: none;\n",
              "      fill: #1967D2;\n",
              "      height: 32px;\n",
              "      padding: 0 0 0 0;\n",
              "      width: 32px;\n",
              "    }\n",
              "\n",
              "    .colab-df-convert:hover {\n",
              "      background-color: #E2EBFA;\n",
              "      box-shadow: 0px 1px 2px rgba(60, 64, 67, 0.3), 0px 1px 3px 1px rgba(60, 64, 67, 0.15);\n",
              "      fill: #174EA6;\n",
              "    }\n",
              "\n",
              "    [theme=dark] .colab-df-convert {\n",
              "      background-color: #3B4455;\n",
              "      fill: #D2E3FC;\n",
              "    }\n",
              "\n",
              "    [theme=dark] .colab-df-convert:hover {\n",
              "      background-color: #434B5C;\n",
              "      box-shadow: 0px 1px 3px 1px rgba(0, 0, 0, 0.15);\n",
              "      filter: drop-shadow(0px 1px 2px rgba(0, 0, 0, 0.3));\n",
              "      fill: #FFFFFF;\n",
              "    }\n",
              "  </style>\n",
              "\n",
              "      <script>\n",
              "        const buttonEl =\n",
              "          document.querySelector('#df-eb26fb78-c3f8-4777-aa6a-e0b95bff923e button.colab-df-convert');\n",
              "        buttonEl.style.display =\n",
              "          google.colab.kernel.accessAllowed ? 'block' : 'none';\n",
              "\n",
              "        async function convertToInteractive(key) {\n",
              "          const element = document.querySelector('#df-eb26fb78-c3f8-4777-aa6a-e0b95bff923e');\n",
              "          const dataTable =\n",
              "            await google.colab.kernel.invokeFunction('convertToInteractive',\n",
              "                                                     [key], {});\n",
              "          if (!dataTable) return;\n",
              "\n",
              "          const docLinkHtml = 'Like what you see? Visit the ' +\n",
              "            '<a target=\"_blank\" href=https://colab.research.google.com/notebooks/data_table.ipynb>data table notebook</a>'\n",
              "            + ' to learn more about interactive tables.';\n",
              "          element.innerHTML = '';\n",
              "          dataTable['output_type'] = 'display_data';\n",
              "          await google.colab.output.renderOutput(dataTable, element);\n",
              "          const docLink = document.createElement('div');\n",
              "          docLink.innerHTML = docLinkHtml;\n",
              "          element.appendChild(docLink);\n",
              "        }\n",
              "      </script>\n",
              "    </div>\n",
              "  </div>\n",
              "  "
            ]
          },
          "metadata": {},
          "execution_count": 12
        }
      ]
    },
    {
      "cell_type": "markdown",
      "source": [
        "There are 5 duplicates in this dataset"
      ],
      "metadata": {
        "id": "yoajXIv54Owv"
      }
    },
    {
      "cell_type": "code",
      "source": [
        "# Drop duplicates in ranking dataset\n",
        "df.drop_duplicates(inplace=True)"
      ],
      "metadata": {
        "id": "qDEz9H1p3eFD"
      },
      "execution_count": 13,
      "outputs": []
    },
    {
      "cell_type": "code",
      "source": [
        "# Check for duplicates\n",
        "df.duplicated().sum()"
      ],
      "metadata": {
        "colab": {
          "base_uri": "https://localhost:8080/"
        },
        "id": "rXnSK-UT4f7z",
        "outputId": "a51b8e86-ae7e-40ef-9010-ebee851b6827"
      },
      "execution_count": 14,
      "outputs": [
        {
          "output_type": "execute_result",
          "data": {
            "text/plain": [
              "0"
            ]
          },
          "metadata": {},
          "execution_count": 14
        }
      ]
    },
    {
      "cell_type": "code",
      "source": [
        "# Check the house with 33 bedrooms\n",
        "df[df['bedrooms'] == 33]"
      ],
      "metadata": {
        "colab": {
          "base_uri": "https://localhost:8080/",
          "height": 145
        },
        "id": "dN9IIBvjX6AX",
        "outputId": "1b7440d4-ac38-4ec1-f3ad-313b980bff37"
      },
      "execution_count": 15,
      "outputs": [
        {
          "output_type": "execute_result",
          "data": {
            "text/plain": [
              "          price  bedrooms  bathrooms  sqft_living  sqft_lot  floors  \\\n",
              "15870  640000.0        33       1.75         1620      6000     1.0   \n",
              "\n",
              "       waterfront  view  condition  grade  sqft_above  sqft_basement  \\\n",
              "15870           0     0          5      7        1040            580   \n",
              "\n",
              "       yr_built  yr_renovated  zipcode      lat     long  sqft_living15  \\\n",
              "15870      1947             0    98103  47.6878 -122.331           1330   \n",
              "\n",
              "       sqft_lot15  \n",
              "15870        4700  "
            ],
            "text/html": [
              "\n",
              "  <div id=\"df-1619a744-d6f5-4ced-abfd-492d3784ff04\">\n",
              "    <div class=\"colab-df-container\">\n",
              "      <div>\n",
              "<style scoped>\n",
              "    .dataframe tbody tr th:only-of-type {\n",
              "        vertical-align: middle;\n",
              "    }\n",
              "\n",
              "    .dataframe tbody tr th {\n",
              "        vertical-align: top;\n",
              "    }\n",
              "\n",
              "    .dataframe thead th {\n",
              "        text-align: right;\n",
              "    }\n",
              "</style>\n",
              "<table border=\"1\" class=\"dataframe\">\n",
              "  <thead>\n",
              "    <tr style=\"text-align: right;\">\n",
              "      <th></th>\n",
              "      <th>price</th>\n",
              "      <th>bedrooms</th>\n",
              "      <th>bathrooms</th>\n",
              "      <th>sqft_living</th>\n",
              "      <th>sqft_lot</th>\n",
              "      <th>floors</th>\n",
              "      <th>waterfront</th>\n",
              "      <th>view</th>\n",
              "      <th>condition</th>\n",
              "      <th>grade</th>\n",
              "      <th>sqft_above</th>\n",
              "      <th>sqft_basement</th>\n",
              "      <th>yr_built</th>\n",
              "      <th>yr_renovated</th>\n",
              "      <th>zipcode</th>\n",
              "      <th>lat</th>\n",
              "      <th>long</th>\n",
              "      <th>sqft_living15</th>\n",
              "      <th>sqft_lot15</th>\n",
              "    </tr>\n",
              "  </thead>\n",
              "  <tbody>\n",
              "    <tr>\n",
              "      <th>15870</th>\n",
              "      <td>640000.0</td>\n",
              "      <td>33</td>\n",
              "      <td>1.75</td>\n",
              "      <td>1620</td>\n",
              "      <td>6000</td>\n",
              "      <td>1.0</td>\n",
              "      <td>0</td>\n",
              "      <td>0</td>\n",
              "      <td>5</td>\n",
              "      <td>7</td>\n",
              "      <td>1040</td>\n",
              "      <td>580</td>\n",
              "      <td>1947</td>\n",
              "      <td>0</td>\n",
              "      <td>98103</td>\n",
              "      <td>47.6878</td>\n",
              "      <td>-122.331</td>\n",
              "      <td>1330</td>\n",
              "      <td>4700</td>\n",
              "    </tr>\n",
              "  </tbody>\n",
              "</table>\n",
              "</div>\n",
              "      <button class=\"colab-df-convert\" onclick=\"convertToInteractive('df-1619a744-d6f5-4ced-abfd-492d3784ff04')\"\n",
              "              title=\"Convert this dataframe to an interactive table.\"\n",
              "              style=\"display:none;\">\n",
              "        \n",
              "  <svg xmlns=\"http://www.w3.org/2000/svg\" height=\"24px\"viewBox=\"0 0 24 24\"\n",
              "       width=\"24px\">\n",
              "    <path d=\"M0 0h24v24H0V0z\" fill=\"none\"/>\n",
              "    <path d=\"M18.56 5.44l.94 2.06.94-2.06 2.06-.94-2.06-.94-.94-2.06-.94 2.06-2.06.94zm-11 1L8.5 8.5l.94-2.06 2.06-.94-2.06-.94L8.5 2.5l-.94 2.06-2.06.94zm10 10l.94 2.06.94-2.06 2.06-.94-2.06-.94-.94-2.06-.94 2.06-2.06.94z\"/><path d=\"M17.41 7.96l-1.37-1.37c-.4-.4-.92-.59-1.43-.59-.52 0-1.04.2-1.43.59L10.3 9.45l-7.72 7.72c-.78.78-.78 2.05 0 2.83L4 21.41c.39.39.9.59 1.41.59.51 0 1.02-.2 1.41-.59l7.78-7.78 2.81-2.81c.8-.78.8-2.07 0-2.86zM5.41 20L4 18.59l7.72-7.72 1.47 1.35L5.41 20z\"/>\n",
              "  </svg>\n",
              "      </button>\n",
              "      \n",
              "  <style>\n",
              "    .colab-df-container {\n",
              "      display:flex;\n",
              "      flex-wrap:wrap;\n",
              "      gap: 12px;\n",
              "    }\n",
              "\n",
              "    .colab-df-convert {\n",
              "      background-color: #E8F0FE;\n",
              "      border: none;\n",
              "      border-radius: 50%;\n",
              "      cursor: pointer;\n",
              "      display: none;\n",
              "      fill: #1967D2;\n",
              "      height: 32px;\n",
              "      padding: 0 0 0 0;\n",
              "      width: 32px;\n",
              "    }\n",
              "\n",
              "    .colab-df-convert:hover {\n",
              "      background-color: #E2EBFA;\n",
              "      box-shadow: 0px 1px 2px rgba(60, 64, 67, 0.3), 0px 1px 3px 1px rgba(60, 64, 67, 0.15);\n",
              "      fill: #174EA6;\n",
              "    }\n",
              "\n",
              "    [theme=dark] .colab-df-convert {\n",
              "      background-color: #3B4455;\n",
              "      fill: #D2E3FC;\n",
              "    }\n",
              "\n",
              "    [theme=dark] .colab-df-convert:hover {\n",
              "      background-color: #434B5C;\n",
              "      box-shadow: 0px 1px 3px 1px rgba(0, 0, 0, 0.15);\n",
              "      filter: drop-shadow(0px 1px 2px rgba(0, 0, 0, 0.3));\n",
              "      fill: #FFFFFF;\n",
              "    }\n",
              "  </style>\n",
              "\n",
              "      <script>\n",
              "        const buttonEl =\n",
              "          document.querySelector('#df-1619a744-d6f5-4ced-abfd-492d3784ff04 button.colab-df-convert');\n",
              "        buttonEl.style.display =\n",
              "          google.colab.kernel.accessAllowed ? 'block' : 'none';\n",
              "\n",
              "        async function convertToInteractive(key) {\n",
              "          const element = document.querySelector('#df-1619a744-d6f5-4ced-abfd-492d3784ff04');\n",
              "          const dataTable =\n",
              "            await google.colab.kernel.invokeFunction('convertToInteractive',\n",
              "                                                     [key], {});\n",
              "          if (!dataTable) return;\n",
              "\n",
              "          const docLinkHtml = 'Like what you see? Visit the ' +\n",
              "            '<a target=\"_blank\" href=https://colab.research.google.com/notebooks/data_table.ipynb>data table notebook</a>'\n",
              "            + ' to learn more about interactive tables.';\n",
              "          element.innerHTML = '';\n",
              "          dataTable['output_type'] = 'display_data';\n",
              "          await google.colab.output.renderOutput(dataTable, element);\n",
              "          const docLink = document.createElement('div');\n",
              "          docLink.innerHTML = docLinkHtml;\n",
              "          element.appendChild(docLink);\n",
              "        }\n",
              "      </script>\n",
              "    </div>\n",
              "  </div>\n",
              "  "
            ]
          },
          "metadata": {},
          "execution_count": 15
        }
      ]
    },
    {
      "cell_type": "markdown",
      "source": [
        "It is unlikely that this house has 33 bedrooms given the Square feet area of living area. So we will drop this record"
      ],
      "metadata": {
        "id": "UgD7TnFxayky"
      }
    },
    {
      "cell_type": "code",
      "source": [
        "# Drop row\n",
        "df.drop(df[df['bedrooms'] == 33].index, inplace = True)\n",
        "df[df['bedrooms'] == 33]"
      ],
      "metadata": {
        "colab": {
          "base_uri": "https://localhost:8080/",
          "height": 113
        },
        "id": "vw20Qo6zbDEi",
        "outputId": "caead6db-bfc6-4269-cd17-a051163376fc"
      },
      "execution_count": 16,
      "outputs": [
        {
          "output_type": "execute_result",
          "data": {
            "text/plain": [
              "Empty DataFrame\n",
              "Columns: [price, bedrooms, bathrooms, sqft_living, sqft_lot, floors, waterfront, view, condition, grade, sqft_above, sqft_basement, yr_built, yr_renovated, zipcode, lat, long, sqft_living15, sqft_lot15]\n",
              "Index: []"
            ],
            "text/html": [
              "\n",
              "  <div id=\"df-c2a2c489-cfe2-4115-a228-f00e92de7f66\">\n",
              "    <div class=\"colab-df-container\">\n",
              "      <div>\n",
              "<style scoped>\n",
              "    .dataframe tbody tr th:only-of-type {\n",
              "        vertical-align: middle;\n",
              "    }\n",
              "\n",
              "    .dataframe tbody tr th {\n",
              "        vertical-align: top;\n",
              "    }\n",
              "\n",
              "    .dataframe thead th {\n",
              "        text-align: right;\n",
              "    }\n",
              "</style>\n",
              "<table border=\"1\" class=\"dataframe\">\n",
              "  <thead>\n",
              "    <tr style=\"text-align: right;\">\n",
              "      <th></th>\n",
              "      <th>price</th>\n",
              "      <th>bedrooms</th>\n",
              "      <th>bathrooms</th>\n",
              "      <th>sqft_living</th>\n",
              "      <th>sqft_lot</th>\n",
              "      <th>floors</th>\n",
              "      <th>waterfront</th>\n",
              "      <th>view</th>\n",
              "      <th>condition</th>\n",
              "      <th>grade</th>\n",
              "      <th>sqft_above</th>\n",
              "      <th>sqft_basement</th>\n",
              "      <th>yr_built</th>\n",
              "      <th>yr_renovated</th>\n",
              "      <th>zipcode</th>\n",
              "      <th>lat</th>\n",
              "      <th>long</th>\n",
              "      <th>sqft_living15</th>\n",
              "      <th>sqft_lot15</th>\n",
              "    </tr>\n",
              "  </thead>\n",
              "  <tbody>\n",
              "  </tbody>\n",
              "</table>\n",
              "</div>\n",
              "      <button class=\"colab-df-convert\" onclick=\"convertToInteractive('df-c2a2c489-cfe2-4115-a228-f00e92de7f66')\"\n",
              "              title=\"Convert this dataframe to an interactive table.\"\n",
              "              style=\"display:none;\">\n",
              "        \n",
              "  <svg xmlns=\"http://www.w3.org/2000/svg\" height=\"24px\"viewBox=\"0 0 24 24\"\n",
              "       width=\"24px\">\n",
              "    <path d=\"M0 0h24v24H0V0z\" fill=\"none\"/>\n",
              "    <path d=\"M18.56 5.44l.94 2.06.94-2.06 2.06-.94-2.06-.94-.94-2.06-.94 2.06-2.06.94zm-11 1L8.5 8.5l.94-2.06 2.06-.94-2.06-.94L8.5 2.5l-.94 2.06-2.06.94zm10 10l.94 2.06.94-2.06 2.06-.94-2.06-.94-.94-2.06-.94 2.06-2.06.94z\"/><path d=\"M17.41 7.96l-1.37-1.37c-.4-.4-.92-.59-1.43-.59-.52 0-1.04.2-1.43.59L10.3 9.45l-7.72 7.72c-.78.78-.78 2.05 0 2.83L4 21.41c.39.39.9.59 1.41.59.51 0 1.02-.2 1.41-.59l7.78-7.78 2.81-2.81c.8-.78.8-2.07 0-2.86zM5.41 20L4 18.59l7.72-7.72 1.47 1.35L5.41 20z\"/>\n",
              "  </svg>\n",
              "      </button>\n",
              "      \n",
              "  <style>\n",
              "    .colab-df-container {\n",
              "      display:flex;\n",
              "      flex-wrap:wrap;\n",
              "      gap: 12px;\n",
              "    }\n",
              "\n",
              "    .colab-df-convert {\n",
              "      background-color: #E8F0FE;\n",
              "      border: none;\n",
              "      border-radius: 50%;\n",
              "      cursor: pointer;\n",
              "      display: none;\n",
              "      fill: #1967D2;\n",
              "      height: 32px;\n",
              "      padding: 0 0 0 0;\n",
              "      width: 32px;\n",
              "    }\n",
              "\n",
              "    .colab-df-convert:hover {\n",
              "      background-color: #E2EBFA;\n",
              "      box-shadow: 0px 1px 2px rgba(60, 64, 67, 0.3), 0px 1px 3px 1px rgba(60, 64, 67, 0.15);\n",
              "      fill: #174EA6;\n",
              "    }\n",
              "\n",
              "    [theme=dark] .colab-df-convert {\n",
              "      background-color: #3B4455;\n",
              "      fill: #D2E3FC;\n",
              "    }\n",
              "\n",
              "    [theme=dark] .colab-df-convert:hover {\n",
              "      background-color: #434B5C;\n",
              "      box-shadow: 0px 1px 3px 1px rgba(0, 0, 0, 0.15);\n",
              "      filter: drop-shadow(0px 1px 2px rgba(0, 0, 0, 0.3));\n",
              "      fill: #FFFFFF;\n",
              "    }\n",
              "  </style>\n",
              "\n",
              "      <script>\n",
              "        const buttonEl =\n",
              "          document.querySelector('#df-c2a2c489-cfe2-4115-a228-f00e92de7f66 button.colab-df-convert');\n",
              "        buttonEl.style.display =\n",
              "          google.colab.kernel.accessAllowed ? 'block' : 'none';\n",
              "\n",
              "        async function convertToInteractive(key) {\n",
              "          const element = document.querySelector('#df-c2a2c489-cfe2-4115-a228-f00e92de7f66');\n",
              "          const dataTable =\n",
              "            await google.colab.kernel.invokeFunction('convertToInteractive',\n",
              "                                                     [key], {});\n",
              "          if (!dataTable) return;\n",
              "\n",
              "          const docLinkHtml = 'Like what you see? Visit the ' +\n",
              "            '<a target=\"_blank\" href=https://colab.research.google.com/notebooks/data_table.ipynb>data table notebook</a>'\n",
              "            + ' to learn more about interactive tables.';\n",
              "          element.innerHTML = '';\n",
              "          dataTable['output_type'] = 'display_data';\n",
              "          await google.colab.output.renderOutput(dataTable, element);\n",
              "          const docLink = document.createElement('div');\n",
              "          docLink.innerHTML = docLinkHtml;\n",
              "          element.appendChild(docLink);\n",
              "        }\n",
              "      </script>\n",
              "    </div>\n",
              "  </div>\n",
              "  "
            ]
          },
          "metadata": {},
          "execution_count": 16
        }
      ]
    },
    {
      "cell_type": "code",
      "source": [
        "# Check for outliers\n",
        "fig, ax= plt.subplots(5,2,figsize=[20, 30])\n",
        "\n",
        "sns.boxplot(data=df, x='price', ax=ax[0,0]).set_title('Distribution of Housing Price')\n",
        "sns.boxplot(data=df, x='bedrooms', ax=ax[0,1]).set_title('Distribution of Bedrooms')\n",
        "sns.boxplot(data=df, x='bathrooms', ax=ax[1,0]).set_title('Distribution of sqft_living')\n",
        "sns.boxplot(data=df, x='sqft_living', ax=ax[1,1]).set_title('Distribution of sqft_living')\n",
        "sns.boxplot(data=df, x='sqft_lot', ax=ax[2,0]).set_title('Distribution of sqft_lot')\n",
        "sns.boxplot(data=df, x='floors', ax=ax[2,1]).set_title('Distribution of floors')\n",
        "sns.boxplot(data=df, x='waterfront', ax=ax[3,0]).set_title('Distribution of waterfront')\n",
        "sns.boxplot(data=df, x='view', ax=ax[3,1]).set_title('Distribution of view')\n",
        "sns.boxplot(data=df, x='condition', ax=ax[4,0]).set_title('Distribution of condition')\n",
        "sns.boxplot(data=df, x='grade', ax=ax[4,1]).set_title('Distribution of grade')\n",
        "plt.show()\n",
        "\n"
      ],
      "metadata": {
        "colab": {
          "base_uri": "https://localhost:8080/",
          "height": 1000
        },
        "id": "5Qk5yUbD5tnl",
        "outputId": "27c74a2a-59e3-4a02-b09c-9026f5879f08"
      },
      "execution_count": 17,
      "outputs": [
        {
          "output_type": "display_data",
          "data": {
            "text/plain": [
              "<Figure size 1440x2160 with 10 Axes>"
            ],
            "image/png": "[encoded data removed]"
          },
          "metadata": {
            "needs_background": "light"
          }
        }
      ]
    },
    {
      "cell_type": "code",
      "source": [
        "# Check for outliers\n",
        "fig, ax= plt.subplots(4,2,figsize=[20, 20])\n",
        "\n",
        "sns.boxplot(data=df, x='sqft_above', ax=ax[0,0]).set_title('Distribution of sqft_above')\n",
        "sns.boxplot(data=df, x='sqft_basement', ax=ax[0,1]).set_title('Distribution of sqft_basement')\n",
        "sns.boxplot(data=df, x='yr_built', ax=ax[1,0]).set_title('Distribution of yr_built')\n",
        "sns.boxplot(data=df, x='yr_renovated', ax=ax[1,1]).set_title('Distribution of yr_renovated')\n",
        "sns.boxplot(data=df, x='zipcode', ax=ax[2,0]).set_title('Distribution of zipcode')\n",
        "sns.boxplot(data=df, x='lat', ax=ax[2,1]).set_title('Distribution of lat')\n",
        "sns.boxplot(data=df, x='long', ax=ax[3,0]).set_title('Distribution of long')\n",
        "sns.boxplot(data=df, x='sqft_living15', ax=ax[3,1]).set_title('Distribution of sqft_living15')\n",
        "plt.show()"
      ],
      "metadata": {
        "colab": {
          "base_uri": "https://localhost:8080/",
          "height": 1000
        },
        "id": "0QgeoeBzKPWS",
        "outputId": "b34a4d9e-4405-48ca-e29e-24070954c31c"
      },
      "execution_count": 18,
      "outputs": [
        {
          "output_type": "display_data",
          "data": {
            "text/plain": [
              "<Figure size 1440x1440 with 8 Axes>"
            ],
            "image/png": "[encoded data removed]"
          },
          "metadata": {
            "needs_background": "light"
          }
        }
      ]
    },
    {
      "cell_type": "code",
      "source": [
        "fig= plt.subplots(figsize=[10, 5])\n",
        "sns.boxplot(data=df, x='sqft_lot15').set_title('Distribution of sqft_lot15')"
      ],
      "metadata": {
        "colab": {
          "base_uri": "https://localhost:8080/",
          "height": 368
        },
        "id": "R5M4JzkvWOld",
        "outputId": "e2d5c49b-2e8a-44fc-a47c-0209cd63d5fd"
      },
      "execution_count": 19,
      "outputs": [
        {
          "output_type": "execute_result",
          "data": {
            "text/plain": [
              "Text(0.5, 1.0, 'Distribution of sqft_lot15')"
            ]
          },
          "metadata": {},
          "execution_count": 19
        },
        {
          "output_type": "display_data",
          "data": {
            "text/plain": [
              "<Figure size 720x360 with 1 Axes>"
            ],
            "image/png": "[encoded data removed]"
          },
          "metadata": {
            "needs_background": "light"
          }
        }
      ]
    },
    {
      "cell_type": "code",
      "source": [
        "#There seems to be very many outliers but lets count them to be sure\n",
        "\n",
        "df = df[['price', 'bedrooms', 'bathrooms', 'sqft_living', 'sqft_lot',\n",
        "       'floors', 'waterfront', 'view', 'condition', 'grade', 'sqft_above',\n",
        "       'sqft_basement', 'yr_built', 'yr_renovated', 'zipcode', 'lat', 'long',\n",
        "       'sqft_living15', 'sqft_lot15']]\n",
        "Q1 = df.quantile(0.25)\n",
        "Q3 = df.quantile(0.75)\n",
        "IQR = Q3 - Q1\n",
        "(((df < (Q1 - 1.5 * IQR)) | (df > (Q3 + 1.5 * IQR))).sum())/df.shape[0] * 100"
      ],
      "metadata": {
        "colab": {
          "base_uri": "https://localhost:8080/"
        },
        "id": "Wan66J-Jnqtv",
        "outputId": "45ef17e5-21b8-4043-95da-d07612e0beb1"
      },
      "execution_count": 20,
      "outputs": [
        {
          "output_type": "execute_result",
          "data": {
            "text/plain": [
              "price             5.364002\n",
              "bedrooms          2.522331\n",
              "bathrooms         2.642662\n",
              "sqft_living       2.647290\n",
              "sqft_lot         11.213958\n",
              "floors            0.000000\n",
              "waterfront        0.754385\n",
              "view              9.825520\n",
              "condition         0.138844\n",
              "grade             8.844356\n",
              "sqft_above        2.827787\n",
              "sqft_basement     2.295552\n",
              "yr_built          0.000000\n",
              "yr_renovated      4.225482\n",
              "zipcode           0.000000\n",
              "lat               0.009256\n",
              "long              1.184801\n",
              "sqft_living15     2.517703\n",
              "sqft_lot15       10.154117\n",
              "dtype: float64"
            ]
          },
          "metadata": {},
          "execution_count": 20
        }
      ]
    },
    {
      "cell_type": "markdown",
      "source": [
        "## **5.0 Exploratory Data Analysis**"
      ],
      "metadata": {
        "id": "DNTzKSHwbzAw"
      }
    },
    {
      "cell_type": "markdown",
      "source": [
        "### **5.1 Univariate Analysis**"
      ],
      "metadata": {
        "id": "jc9sIeXKcDA5"
      }
    },
    {
      "cell_type": "markdown",
      "source": [
        "This data only has numerical attributes"
      ],
      "metadata": {
        "id": "Z-vvobdscKZF"
      }
    },
    {
      "cell_type": "code",
      "source": [
        "# Getting the univariate describe summary\n",
        "\n",
        "df.describe()"
      ],
      "metadata": {
        "colab": {
          "base_uri": "https://localhost:8080/",
          "height": 364
        },
        "id": "rtyToIBfXB1e",
        "outputId": "16fffb37-6891-447b-f7cd-65c6ee215ba3"
      },
      "execution_count": 21,
      "outputs": [
        {
          "output_type": "execute_result",
          "data": {
            "text/plain": [
              "              price      bedrooms     bathrooms   sqft_living      sqft_lot  \\\n",
              "count  2.160700e+04  21607.000000  21607.000000  21607.000000  2.160700e+04   \n",
              "mean   5.401878e+05      3.369556      2.114754   2079.980238  1.511004e+04   \n",
              "std    3.674075e+05      0.908018      0.770252    918.521730  4.142583e+04   \n",
              "min    7.500000e+04      0.000000      0.000000    290.000000  5.200000e+02   \n",
              "25%    3.217250e+05      3.000000      1.750000   1428.500000  5.040000e+03   \n",
              "50%    4.500000e+05      3.000000      2.250000   1910.000000  7.620000e+03   \n",
              "75%    6.450000e+05      4.000000      2.500000   2550.000000  1.069200e+04   \n",
              "max    7.700000e+06     11.000000      8.000000  13540.000000  1.651359e+06   \n",
              "\n",
              "             floors    waterfront          view     condition         grade  \\\n",
              "count  21607.000000  21607.000000  21607.000000  21607.000000  21607.000000   \n",
              "mean       1.494169      0.007544      0.234230      3.409404      7.656685   \n",
              "std        0.539912      0.086529      0.766185      0.650707      1.175502   \n",
              "min        1.000000      0.000000      0.000000      1.000000      1.000000   \n",
              "25%        1.000000      0.000000      0.000000      3.000000      7.000000   \n",
              "50%        1.500000      0.000000      0.000000      3.000000      7.000000   \n",
              "75%        2.000000      0.000000      0.000000      4.000000      8.000000   \n",
              "max        3.500000      1.000000      4.000000      5.000000     13.000000   \n",
              "\n",
              "         sqft_above  sqft_basement      yr_built  yr_renovated       zipcode  \\\n",
              "count  21607.000000   21607.000000  21607.000000  21607.000000  21607.000000   \n",
              "mean    1788.449484     291.530754   1971.001018     84.334058  98077.941454   \n",
              "std      828.144667     442.618452     29.371689    401.525908     53.507849   \n",
              "min      290.000000       0.000000   1900.000000      0.000000  98001.000000   \n",
              "25%     1190.000000       0.000000   1951.000000      0.000000  98033.000000   \n",
              "50%     1560.000000       0.000000   1975.000000      0.000000  98065.000000   \n",
              "75%     2210.000000     560.000000   1997.000000      0.000000  98118.000000   \n",
              "max     9410.000000    4820.000000   2015.000000   2015.000000  98199.000000   \n",
              "\n",
              "                lat          long  sqft_living15     sqft_lot15  \n",
              "count  21607.000000  21607.000000   21607.000000   21607.000000  \n",
              "mean      47.560044   -122.213889    1986.613551   12770.481835  \n",
              "std        0.138579      0.140831     685.422780   27307.583622  \n",
              "min       47.155900   -122.519000     399.000000     651.000000  \n",
              "25%       47.470850   -122.328000    1490.000000    5100.000000  \n",
              "50%       47.571800   -122.230000    1840.000000    7620.000000  \n",
              "75%       47.678000   -122.125000    2360.000000   10083.500000  \n",
              "max       47.777600   -121.315000    6210.000000  871200.000000  "
            ],
            "text/html": [
              "\n",
              "  <div id=\"df-cae833d5-dbb0-4eda-acf7-0a8711eb6bc2\">\n",
              "    <div class=\"colab-df-container\">\n",
              "      <div>\n",
              "<style scoped>\n",
              "    .dataframe tbody tr th:only-of-type {\n",
              "        vertical-align: middle;\n",
              "    }\n",
              "\n",
              "    .dataframe tbody tr th {\n",
              "        vertical-align: top;\n",
              "    }\n",
              "\n",
              "    .dataframe thead th {\n",
              "        text-align: right;\n",
              "    }\n",
              "</style>\n",
              "<table border=\"1\" class=\"dataframe\">\n",
              "  <thead>\n",
              "    <tr style=\"text-align: right;\">\n",
              "      <th></th>\n",
              "      <th>price</th>\n",
              "      <th>bedrooms</th>\n",
              "      <th>bathrooms</th>\n",
              "      <th>sqft_living</th>\n",
              "      <th>sqft_lot</th>\n",
              "      <th>floors</th>\n",
              "      <th>waterfront</th>\n",
              "      <th>view</th>\n",
              "      <th>condition</th>\n",
              "      <th>grade</th>\n",
              "      <th>sqft_above</th>\n",
              "      <th>sqft_basement</th>\n",
              "      <th>yr_built</th>\n",
              "      <th>yr_renovated</th>\n",
              "      <th>zipcode</th>\n",
              "      <th>lat</th>\n",
              "      <th>long</th>\n",
              "      <th>sqft_living15</th>\n",
              "      <th>sqft_lot15</th>\n",
              "    </tr>\n",
              "  </thead>\n",
              "  <tbody>\n",
              "    <tr>\n",
              "      <th>count</th>\n",
              "      <td>2.160700e+04</td>\n",
              "      <td>21607.000000</td>\n",
              "      <td>21607.000000</td>\n",
              "      <td>21607.000000</td>\n",
              "      <td>2.160700e+04</td>\n",
              "      <td>21607.000000</td>\n",
              "      <td>21607.000000</td>\n",
              "      <td>21607.000000</td>\n",
              "      <td>21607.000000</td>\n",
              "      <td>21607.000000</td>\n",
              "      <td>21607.000000</td>\n",
              "      <td>21607.000000</td>\n",
              "      <td>21607.000000</td>\n",
              "      <td>21607.000000</td>\n",
              "      <td>21607.000000</td>\n",
              "      <td>21607.000000</td>\n",
              "      <td>21607.000000</td>\n",
              "      <td>21607.000000</td>\n",
              "      <td>21607.000000</td>\n",
              "    </tr>\n",
              "    <tr>\n",
              "      <th>mean</th>\n",
              "      <td>5.401878e+05</td>\n",
              "      <td>3.369556</td>\n",
              "      <td>2.114754</td>\n",
              "      <td>2079.980238</td>\n",
              "      <td>1.511004e+04</td>\n",
              "      <td>1.494169</td>\n",
              "      <td>0.007544</td>\n",
              "      <td>0.234230</td>\n",
              "      <td>3.409404</td>\n",
              "      <td>7.656685</td>\n",
              "      <td>1788.449484</td>\n",
              "      <td>291.530754</td>\n",
              "      <td>1971.001018</td>\n",
              "      <td>84.334058</td>\n",
              "      <td>98077.941454</td>\n",
              "      <td>47.560044</td>\n",
              "      <td>-122.213889</td>\n",
              "      <td>1986.613551</td>\n",
              "      <td>12770.481835</td>\n",
              "    </tr>\n",
              "    <tr>\n",
              "      <th>std</th>\n",
              "      <td>3.674075e+05</td>\n",
              "      <td>0.908018</td>\n",
              "      <td>0.770252</td>\n",
              "      <td>918.521730</td>\n",
              "      <td>4.142583e+04</td>\n",
              "      <td>0.539912</td>\n",
              "      <td>0.086529</td>\n",
              "      <td>0.766185</td>\n",
              "      <td>0.650707</td>\n",
              "      <td>1.175502</td>\n",
              "      <td>828.144667</td>\n",
              "      <td>442.618452</td>\n",
              "      <td>29.371689</td>\n",
              "      <td>401.525908</td>\n",
              "      <td>53.507849</td>\n",
              "      <td>0.138579</td>\n",
              "      <td>0.140831</td>\n",
              "      <td>685.422780</td>\n",
              "      <td>27307.583622</td>\n",
              "    </tr>\n",
              "    <tr>\n",
              "      <th>min</th>\n",
              "      <td>7.500000e+04</td>\n",
              "      <td>0.000000</td>\n",
              "      <td>0.000000</td>\n",
              "      <td>290.000000</td>\n",
              "      <td>5.200000e+02</td>\n",
              "      <td>1.000000</td>\n",
              "      <td>0.000000</td>\n",
              "      <td>0.000000</td>\n",
              "      <td>1.000000</td>\n",
              "      <td>1.000000</td>\n",
              "      <td>290.000000</td>\n",
              "      <td>0.000000</td>\n",
              "      <td>1900.000000</td>\n",
              "      <td>0.000000</td>\n",
              "      <td>98001.000000</td>\n",
              "      <td>47.155900</td>\n",
              "      <td>-122.519000</td>\n",
              "      <td>399.000000</td>\n",
              "      <td>651.000000</td>\n",
              "    </tr>\n",
              "    <tr>\n",
              "      <th>25%</th>\n",
              "      <td>3.217250e+05</td>\n",
              "      <td>3.000000</td>\n",
              "      <td>1.750000</td>\n",
              "      <td>1428.500000</td>\n",
              "      <td>5.040000e+03</td>\n",
              "      <td>1.000000</td>\n",
              "      <td>0.000000</td>\n",
              "      <td>0.000000</td>\n",
              "      <td>3.000000</td>\n",
              "      <td>7.000000</td>\n",
              "      <td>1190.000000</td>\n",
              "      <td>0.000000</td>\n",
              "      <td>1951.000000</td>\n",
              "      <td>0.000000</td>\n",
              "      <td>98033.000000</td>\n",
              "      <td>47.470850</td>\n",
              "      <td>-122.328000</td>\n",
              "      <td>1490.000000</td>\n",
              "      <td>5100.000000</td>\n",
              "    </tr>\n",
              "    <tr>\n",
              "      <th>50%</th>\n",
              "      <td>4.500000e+05</td>\n",
              "      <td>3.000000</td>\n",
              "      <td>2.250000</td>\n",
              "      <td>1910.000000</td>\n",
              "      <td>7.620000e+03</td>\n",
              "      <td>1.500000</td>\n",
              "      <td>0.000000</td>\n",
              "      <td>0.000000</td>\n",
              "      <td>3.000000</td>\n",
              "      <td>7.000000</td>\n",
              "      <td>1560.000000</td>\n",
              "      <td>0.000000</td>\n",
              "      <td>1975.000000</td>\n",
              "      <td>0.000000</td>\n",
              "      <td>98065.000000</td>\n",
              "      <td>47.571800</td>\n",
              "      <td>-122.230000</td>\n",
              "      <td>1840.000000</td>\n",
              "      <td>7620.000000</td>\n",
              "    </tr>\n",
              "    <tr>\n",
              "      <th>75%</th>\n",
              "      <td>6.450000e+05</td>\n",
              "      <td>4.000000</td>\n",
              "      <td>2.500000</td>\n",
              "      <td>2550.000000</td>\n",
              "      <td>1.069200e+04</td>\n",
              "      <td>2.000000</td>\n",
              "      <td>0.000000</td>\n",
              "      <td>0.000000</td>\n",
              "      <td>4.000000</td>\n",
              "      <td>8.000000</td>\n",
              "      <td>2210.000000</td>\n",
              "      <td>560.000000</td>\n",
              "      <td>1997.000000</td>\n",
              "      <td>0.000000</td>\n",
              "      <td>98118.000000</td>\n",
              "      <td>47.678000</td>\n",
              "      <td>-122.125000</td>\n",
              "      <td>2360.000000</td>\n",
              "      <td>10083.500000</td>\n",
              "    </tr>\n",
              "    <tr>\n",
              "      <th>max</th>\n",
              "      <td>7.700000e+06</td>\n",
              "      <td>11.000000</td>\n",
              "      <td>8.000000</td>\n",
              "      <td>13540.000000</td>\n",
              "      <td>1.651359e+06</td>\n",
              "      <td>3.500000</td>\n",
              "      <td>1.000000</td>\n",
              "      <td>4.000000</td>\n",
              "      <td>5.000000</td>\n",
              "      <td>13.000000</td>\n",
              "      <td>9410.000000</td>\n",
              "      <td>4820.000000</td>\n",
              "      <td>2015.000000</td>\n",
              "      <td>2015.000000</td>\n",
              "      <td>98199.000000</td>\n",
              "      <td>47.777600</td>\n",
              "      <td>-121.315000</td>\n",
              "      <td>6210.000000</td>\n",
              "      <td>871200.000000</td>\n",
              "    </tr>\n",
              "  </tbody>\n",
              "</table>\n",
              "</div>\n",
              "      <button class=\"colab-df-convert\" onclick=\"convertToInteractive('df-cae833d5-dbb0-4eda-acf7-0a8711eb6bc2')\"\n",
              "              title=\"Convert this dataframe to an interactive table.\"\n",
              "              style=\"display:none;\">\n",
              "        \n",
              "  <svg xmlns=\"http://www.w3.org/2000/svg\" height=\"24px\"viewBox=\"0 0 24 24\"\n",
              "       width=\"24px\">\n",
              "    <path d=\"M0 0h24v24H0V0z\" fill=\"none\"/>\n",
              "    <path d=\"M18.56 5.44l.94 2.06.94-2.06 2.06-.94-2.06-.94-.94-2.06-.94 2.06-2.06.94zm-11 1L8.5 8.5l.94-2.06 2.06-.94-2.06-.94L8.5 2.5l-.94 2.06-2.06.94zm10 10l.94 2.06.94-2.06 2.06-.94-2.06-.94-.94-2.06-.94 2.06-2.06.94z\"/><path d=\"M17.41 7.96l-1.37-1.37c-.4-.4-.92-.59-1.43-.59-.52 0-1.04.2-1.43.59L10.3 9.45l-7.72 7.72c-.78.78-.78 2.05 0 2.83L4 21.41c.39.39.9.59 1.41.59.51 0 1.02-.2 1.41-.59l7.78-7.78 2.81-2.81c.8-.78.8-2.07 0-2.86zM5.41 20L4 18.59l7.72-7.72 1.47 1.35L5.41 20z\"/>\n",
              "  </svg>\n",
              "      </button>\n",
              "      \n",
              "  <style>\n",
              "    .colab-df-container {\n",
              "      display:flex;\n",
              "      flex-wrap:wrap;\n",
              "      gap: 12px;\n",
              "    }\n",
              "\n",
              "    .colab-df-convert {\n",
              "      background-color: #E8F0FE;\n",
              "      border: none;\n",
              "      border-radius: 50%;\n",
              "      cursor: pointer;\n",
              "      display: none;\n",
              "      fill: #1967D2;\n",
              "      height: 32px;\n",
              "      padding: 0 0 0 0;\n",
              "      width: 32px;\n",
              "    }\n",
              "\n",
              "    .colab-df-convert:hover {\n",
              "      background-color: #E2EBFA;\n",
              "      box-shadow: 0px 1px 2px rgba(60, 64, 67, 0.3), 0px 1px 3px 1px rgba(60, 64, 67, 0.15);\n",
              "      fill: #174EA6;\n",
              "    }\n",
              "\n",
              "    [theme=dark] .colab-df-convert {\n",
              "      background-color: #3B4455;\n",
              "      fill: #D2E3FC;\n",
              "    }\n",
              "\n",
              "    [theme=dark] .colab-df-convert:hover {\n",
              "      background-color: #434B5C;\n",
              "      box-shadow: 0px 1px 3px 1px rgba(0, 0, 0, 0.15);\n",
              "      filter: drop-shadow(0px 1px 2px rgba(0, 0, 0, 0.3));\n",
              "      fill: #FFFFFF;\n",
              "    }\n",
              "  </style>\n",
              "\n",
              "      <script>\n",
              "        const buttonEl =\n",
              "          document.querySelector('#df-cae833d5-dbb0-4eda-acf7-0a8711eb6bc2 button.colab-df-convert');\n",
              "        buttonEl.style.display =\n",
              "          google.colab.kernel.accessAllowed ? 'block' : 'none';\n",
              "\n",
              "        async function convertToInteractive(key) {\n",
              "          const element = document.querySelector('#df-cae833d5-dbb0-4eda-acf7-0a8711eb6bc2');\n",
              "          const dataTable =\n",
              "            await google.colab.kernel.invokeFunction('convertToInteractive',\n",
              "                                                     [key], {});\n",
              "          if (!dataTable) return;\n",
              "\n",
              "          const docLinkHtml = 'Like what you see? Visit the ' +\n",
              "            '<a target=\"_blank\" href=https://colab.research.google.com/notebooks/data_table.ipynb>data table notebook</a>'\n",
              "            + ' to learn more about interactive tables.';\n",
              "          element.innerHTML = '';\n",
              "          dataTable['output_type'] = 'display_data';\n",
              "          await google.colab.output.renderOutput(dataTable, element);\n",
              "          const docLink = document.createElement('div');\n",
              "          docLink.innerHTML = docLinkHtml;\n",
              "          element.appendChild(docLink);\n",
              "        }\n",
              "      </script>\n",
              "    </div>\n",
              "  </div>\n",
              "  "
            ]
          },
          "metadata": {},
          "execution_count": 21
        }
      ]
    },
    {
      "cell_type": "code",
      "source": [
        "# Dispersion - std, var, max, range, skew, kurtosis\n",
        "d1 = pd.DataFrame( df.apply( np.std ) ).T\n",
        "d2 = pd.DataFrame( df.apply( np.var ) ).T\n",
        "d3 = pd.DataFrame( df.apply( lambda x: x.max() - x.min() ) ).T\n",
        "d4 = pd.DataFrame( df.apply( lambda x: x.skew() ) ).T\n",
        "d5 = pd.DataFrame( df.apply( lambda x: x.kurtosis() ) ).T\n",
        "\n",
        "# concatenate\n",
        "m = pd.concat( [d2, d3, d1, d4, d5] ).T.reset_index()\n",
        "m.columns = ( ['columns', 'variance', 'range', 'std', 'skew', 'kurtosis'])\n",
        "m"
      ],
      "metadata": {
        "colab": {
          "base_uri": "https://localhost:8080/",
          "height": 645
        },
        "id": "zawKw250cUvf",
        "outputId": "0e4e3e6e-c0e8-42c0-f75c-2b2b8930b7ba"
      },
      "execution_count": 22,
      "outputs": [
        {
          "output_type": "execute_result",
          "data": {
            "text/plain": [
              "          columns      variance         range            std       skew  \\\n",
              "0           price  1.349820e+11  7.625000e+06  367399.006882   4.021319   \n",
              "1        bedrooms  8.244594e-01  1.100000e+01       0.907997   0.518396   \n",
              "2       bathrooms  5.932610e-01  8.000000e+00       0.770234   0.511081   \n",
              "3     sqft_living  8.436431e+05  1.325000e+04     918.500475   1.471395   \n",
              "4        sqft_lot  1.716020e+09  1.650839e+06   41424.867951  13.058402   \n",
              "5          floors  2.914919e-01  2.500000e+00       0.539900   0.616270   \n",
              "6      waterfront  7.486942e-03  1.000000e+00       0.086527  11.383491   \n",
              "7            view  5.870118e-01  4.000000e+00       0.766167   3.396579   \n",
              "8       condition  4.234002e-01  4.000000e+00       0.650692   1.032714   \n",
              "9           grade  1.381742e+00  1.200000e+01       1.175475   0.771510   \n",
              "10     sqft_above  6.857918e+05  9.120000e+03     828.125503   1.446698   \n",
              "11  sqft_basement  1.959020e+05  4.820000e+03     442.608209   1.577818   \n",
              "12       yr_built  8.626562e+02  1.150000e+02      29.371009  -0.469881   \n",
              "13   yr_renovated  1.612156e+05  2.015000e+03     401.516616   4.551614   \n",
              "14        zipcode  2.862957e+03  1.980000e+02      53.506611   0.405742   \n",
              "15            lat  1.920311e-02  6.217000e-01       0.138575  -0.485108   \n",
              "16           long  1.983250e-02  1.204000e+00       0.140828   0.885210   \n",
              "17  sqft_living15  4.697826e+05  5.811000e+03     685.406919   1.108210   \n",
              "18     sqft_lot15  7.456696e+08  8.705490e+05   27306.951699   9.505616   \n",
              "\n",
              "      kurtosis  \n",
              "0    34.514107  \n",
              "1     1.838883  \n",
              "2     1.279108  \n",
              "3     5.241880  \n",
              "4   285.006109  \n",
              "5    -0.484932  \n",
              "6   127.595686  \n",
              "7    10.899971  \n",
              "8     0.525967  \n",
              "9     1.191727  \n",
              "10    3.401842  \n",
              "11    2.714575  \n",
              "12   -0.657094  \n",
              "13   18.720452  \n",
              "14   -0.853593  \n",
              "15   -0.676824  \n",
              "16    1.049841  \n",
              "17    1.596916  \n",
              "18  150.726320  "
            ],
            "text/html": [
              "\n",
              "  <div id=\"df-02c6067d-516d-412d-a0db-a658f0b79f60\">\n",
              "    <div class=\"colab-df-container\">\n",
              "      <div>\n",
              "<style scoped>\n",
              "    .dataframe tbody tr th:only-of-type {\n",
              "        vertical-align: middle;\n",
              "    }\n",
              "\n",
              "    .dataframe tbody tr th {\n",
              "        vertical-align: top;\n",
              "    }\n",
              "\n",
              "    .dataframe thead th {\n",
              "        text-align: right;\n",
              "    }\n",
              "</style>\n",
              "<table border=\"1\" class=\"dataframe\">\n",
              "  <thead>\n",
              "    <tr style=\"text-align: right;\">\n",
              "      <th></th>\n",
              "      <th>columns</th>\n",
              "      <th>variance</th>\n",
              "      <th>range</th>\n",
              "      <th>std</th>\n",
              "      <th>skew</th>\n",
              "      <th>kurtosis</th>\n",
              "    </tr>\n",
              "  </thead>\n",
              "  <tbody>\n",
              "    <tr>\n",
              "      <th>0</th>\n",
              "      <td>price</td>\n",
              "      <td>1.349820e+11</td>\n",
              "      <td>7.625000e+06</td>\n",
              "      <td>367399.006882</td>\n",
              "      <td>4.021319</td>\n",
              "      <td>34.514107</td>\n",
              "    </tr>\n",
              "    <tr>\n",
              "      <th>1</th>\n",
              "      <td>bedrooms</td>\n",
              "      <td>8.244594e-01</td>\n",
              "      <td>1.100000e+01</td>\n",
              "      <td>0.907997</td>\n",
              "      <td>0.518396</td>\n",
              "      <td>1.838883</td>\n",
              "    </tr>\n",
              "    <tr>\n",
              "      <th>2</th>\n",
              "      <td>bathrooms</td>\n",
              "      <td>5.932610e-01</td>\n",
              "      <td>8.000000e+00</td>\n",
              "      <td>0.770234</td>\n",
              "      <td>0.511081</td>\n",
              "      <td>1.279108</td>\n",
              "    </tr>\n",
              "    <tr>\n",
              "      <th>3</th>\n",
              "      <td>sqft_living</td>\n",
              "      <td>8.436431e+05</td>\n",
              "      <td>1.325000e+04</td>\n",
              "      <td>918.500475</td>\n",
              "      <td>1.471395</td>\n",
              "      <td>5.241880</td>\n",
              "    </tr>\n",
              "    <tr>\n",
              "      <th>4</th>\n",
              "      <td>sqft_lot</td>\n",
              "      <td>1.716020e+09</td>\n",
              "      <td>1.650839e+06</td>\n",
              "      <td>41424.867951</td>\n",
              "      <td>13.058402</td>\n",
              "      <td>285.006109</td>\n",
              "    </tr>\n",
              "    <tr>\n",
              "      <th>5</th>\n",
              "      <td>floors</td>\n",
              "      <td>2.914919e-01</td>\n",
              "      <td>2.500000e+00</td>\n",
              "      <td>0.539900</td>\n",
              "      <td>0.616270</td>\n",
              "      <td>-0.484932</td>\n",
              "    </tr>\n",
              "    <tr>\n",
              "      <th>6</th>\n",
              "      <td>waterfront</td>\n",
              "      <td>7.486942e-03</td>\n",
              "      <td>1.000000e+00</td>\n",
              "      <td>0.086527</td>\n",
              "      <td>11.383491</td>\n",
              "      <td>127.595686</td>\n",
              "    </tr>\n",
              "    <tr>\n",
              "      <th>7</th>\n",
              "      <td>view</td>\n",
              "      <td>5.870118e-01</td>\n",
              "      <td>4.000000e+00</td>\n",
              "      <td>0.766167</td>\n",
              "      <td>3.396579</td>\n",
              "      <td>10.899971</td>\n",
              "    </tr>\n",
              "    <tr>\n",
              "      <th>8</th>\n",
              "      <td>condition</td>\n",
              "      <td>4.234002e-01</td>\n",
              "      <td>4.000000e+00</td>\n",
              "      <td>0.650692</td>\n",
              "      <td>1.032714</td>\n",
              "      <td>0.525967</td>\n",
              "    </tr>\n",
              "    <tr>\n",
              "      <th>9</th>\n",
              "      <td>grade</td>\n",
              "      <td>1.381742e+00</td>\n",
              "      <td>1.200000e+01</td>\n",
              "      <td>1.175475</td>\n",
              "      <td>0.771510</td>\n",
              "      <td>1.191727</td>\n",
              "    </tr>\n",
              "    <tr>\n",
              "      <th>10</th>\n",
              "      <td>sqft_above</td>\n",
              "      <td>6.857918e+05</td>\n",
              "      <td>9.120000e+03</td>\n",
              "      <td>828.125503</td>\n",
              "      <td>1.446698</td>\n",
              "      <td>3.401842</td>\n",
              "    </tr>\n",
              "    <tr>\n",
              "      <th>11</th>\n",
              "      <td>sqft_basement</td>\n",
              "      <td>1.959020e+05</td>\n",
              "      <td>4.820000e+03</td>\n",
              "      <td>442.608209</td>\n",
              "      <td>1.577818</td>\n",
              "      <td>2.714575</td>\n",
              "    </tr>\n",
              "    <tr>\n",
              "      <th>12</th>\n",
              "      <td>yr_built</td>\n",
              "      <td>8.626562e+02</td>\n",
              "      <td>1.150000e+02</td>\n",
              "      <td>29.371009</td>\n",
              "      <td>-0.469881</td>\n",
              "      <td>-0.657094</td>\n",
              "    </tr>\n",
              "    <tr>\n",
              "      <th>13</th>\n",
              "      <td>yr_renovated</td>\n",
              "      <td>1.612156e+05</td>\n",
              "      <td>2.015000e+03</td>\n",
              "      <td>401.516616</td>\n",
              "      <td>4.551614</td>\n",
              "      <td>18.720452</td>\n",
              "    </tr>\n",
              "    <tr>\n",
              "      <th>14</th>\n",
              "      <td>zipcode</td>\n",
              "      <td>2.862957e+03</td>\n",
              "      <td>1.980000e+02</td>\n",
              "      <td>53.506611</td>\n",
              "      <td>0.405742</td>\n",
              "      <td>-0.853593</td>\n",
              "    </tr>\n",
              "    <tr>\n",
              "      <th>15</th>\n",
              "      <td>lat</td>\n",
              "      <td>1.920311e-02</td>\n",
              "      <td>6.217000e-01</td>\n",
              "      <td>0.138575</td>\n",
              "      <td>-0.485108</td>\n",
              "      <td>-0.676824</td>\n",
              "    </tr>\n",
              "    <tr>\n",
              "      <th>16</th>\n",
              "      <td>long</td>\n",
              "      <td>1.983250e-02</td>\n",
              "      <td>1.204000e+00</td>\n",
              "      <td>0.140828</td>\n",
              "      <td>0.885210</td>\n",
              "      <td>1.049841</td>\n",
              "    </tr>\n",
              "    <tr>\n",
              "      <th>17</th>\n",
              "      <td>sqft_living15</td>\n",
              "      <td>4.697826e+05</td>\n",
              "      <td>5.811000e+03</td>\n",
              "      <td>685.406919</td>\n",
              "      <td>1.108210</td>\n",
              "      <td>1.596916</td>\n",
              "    </tr>\n",
              "    <tr>\n",
              "      <th>18</th>\n",
              "      <td>sqft_lot15</td>\n",
              "      <td>7.456696e+08</td>\n",
              "      <td>8.705490e+05</td>\n",
              "      <td>27306.951699</td>\n",
              "      <td>9.505616</td>\n",
              "      <td>150.726320</td>\n",
              "    </tr>\n",
              "  </tbody>\n",
              "</table>\n",
              "</div>\n",
              "      <button class=\"colab-df-convert\" onclick=\"convertToInteractive('df-02c6067d-516d-412d-a0db-a658f0b79f60')\"\n",
              "              title=\"Convert this dataframe to an interactive table.\"\n",
              "              style=\"display:none;\">\n",
              "        \n",
              "  <svg xmlns=\"http://www.w3.org/2000/svg\" height=\"24px\"viewBox=\"0 0 24 24\"\n",
              "       width=\"24px\">\n",
              "    <path d=\"M0 0h24v24H0V0z\" fill=\"none\"/>\n",
              "    <path d=\"M18.56 5.44l.94 2.06.94-2.06 2.06-.94-2.06-.94-.94-2.06-.94 2.06-2.06.94zm-11 1L8.5 8.5l.94-2.06 2.06-.94-2.06-.94L8.5 2.5l-.94 2.06-2.06.94zm10 10l.94 2.06.94-2.06 2.06-.94-2.06-.94-.94-2.06-.94 2.06-2.06.94z\"/><path d=\"M17.41 7.96l-1.37-1.37c-.4-.4-.92-.59-1.43-.59-.52 0-1.04.2-1.43.59L10.3 9.45l-7.72 7.72c-.78.78-.78 2.05 0 2.83L4 21.41c.39.39.9.59 1.41.59.51 0 1.02-.2 1.41-.59l7.78-7.78 2.81-2.81c.8-.78.8-2.07 0-2.86zM5.41 20L4 18.59l7.72-7.72 1.47 1.35L5.41 20z\"/>\n",
              "  </svg>\n",
              "      </button>\n",
              "      \n",
              "  <style>\n",
              "    .colab-df-container {\n",
              "      display:flex;\n",
              "      flex-wrap:wrap;\n",
              "      gap: 12px;\n",
              "    }\n",
              "\n",
              "    .colab-df-convert {\n",
              "      background-color: #E8F0FE;\n",
              "      border: none;\n",
              "      border-radius: 50%;\n",
              "      cursor: pointer;\n",
              "      display: none;\n",
              "      fill: #1967D2;\n",
              "      height: 32px;\n",
              "      padding: 0 0 0 0;\n",
              "      width: 32px;\n",
              "    }\n",
              "\n",
              "    .colab-df-convert:hover {\n",
              "      background-color: #E2EBFA;\n",
              "      box-shadow: 0px 1px 2px rgba(60, 64, 67, 0.3), 0px 1px 3px 1px rgba(60, 64, 67, 0.15);\n",
              "      fill: #174EA6;\n",
              "    }\n",
              "\n",
              "    [theme=dark] .colab-df-convert {\n",
              "      background-color: #3B4455;\n",
              "      fill: #D2E3FC;\n",
              "    }\n",
              "\n",
              "    [theme=dark] .colab-df-convert:hover {\n",
              "      background-color: #434B5C;\n",
              "      box-shadow: 0px 1px 3px 1px rgba(0, 0, 0, 0.15);\n",
              "      filter: drop-shadow(0px 1px 2px rgba(0, 0, 0, 0.3));\n",
              "      fill: #FFFFFF;\n",
              "    }\n",
              "  </style>\n",
              "\n",
              "      <script>\n",
              "        const buttonEl =\n",
              "          document.querySelector('#df-02c6067d-516d-412d-a0db-a658f0b79f60 button.colab-df-convert');\n",
              "        buttonEl.style.display =\n",
              "          google.colab.kernel.accessAllowed ? 'block' : 'none';\n",
              "\n",
              "        async function convertToInteractive(key) {\n",
              "          const element = document.querySelector('#df-02c6067d-516d-412d-a0db-a658f0b79f60');\n",
              "          const dataTable =\n",
              "            await google.colab.kernel.invokeFunction('convertToInteractive',\n",
              "                                                     [key], {});\n",
              "          if (!dataTable) return;\n",
              "\n",
              "          const docLinkHtml = 'Like what you see? Visit the ' +\n",
              "            '<a target=\"_blank\" href=https://colab.research.google.com/notebooks/data_table.ipynb>data table notebook</a>'\n",
              "            + ' to learn more about interactive tables.';\n",
              "          element.innerHTML = '';\n",
              "          dataTable['output_type'] = 'display_data';\n",
              "          await google.colab.output.renderOutput(dataTable, element);\n",
              "          const docLink = document.createElement('div');\n",
              "          docLink.innerHTML = docLinkHtml;\n",
              "          element.appendChild(docLink);\n",
              "        }\n",
              "      </script>\n",
              "    </div>\n",
              "  </div>\n",
              "  "
            ]
          },
          "metadata": {},
          "execution_count": 22
        }
      ]
    },
    {
      "cell_type": "code",
      "source": [
        "# Plotting the numerical variables on histogram to view their distributions.\n",
        "\n",
        "df.hist(bins=10, figsize=(20,20))\n",
        "plt.suptitle(\"Histogram of numeric variables\")\n",
        "plt.savefig('Fifa Histogram')\n",
        "plt.show()"
      ],
      "metadata": {
        "colab": {
          "base_uri": "https://localhost:8080/",
          "height": 1000
        },
        "id": "a7yuHcTycdW_",
        "outputId": "6db7e49a-8ea0-4d73-b4a9-599be89f5afc"
      },
      "execution_count": 23,
      "outputs": [
        {
          "output_type": "display_data",
          "data": {
            "text/plain": [
              "<Figure size 1440x1440 with 20 Axes>"
            ],
            "image/png": "[encoded data removed]"
          },
          "metadata": {
            "needs_background": "light"
          }
        }
      ]
    },
    {
      "cell_type": "code",
      "source": [
        "# Number of houses with different bedrooms\n",
        "sns.countplot(x ='bedrooms', data = df).set(title='Count of houses per number of bedroom')"
      ],
      "metadata": {
        "colab": {
          "base_uri": "https://localhost:8080/",
          "height": 312
        },
        "id": "k6-ZVaJdiTl9",
        "outputId": "3ed098d0-880c-4d4e-9772-81b41c0acdd5"
      },
      "execution_count": 24,
      "outputs": [
        {
          "output_type": "execute_result",
          "data": {
            "text/plain": [
              "[Text(0.5, 1.0, 'Count of houses per number of bedroom')]"
            ]
          },
          "metadata": {},
          "execution_count": 24
        },
        {
          "output_type": "display_data",
          "data": {
            "text/plain": [
              "<Figure size 432x288 with 1 Axes>"
            ],
            "image/png": "[encoded data removed]"
          },
          "metadata": {
            "needs_background": "light"
          }
        }
      ]
    },
    {
      "cell_type": "code",
      "source": [
        "# Number of houses with different bedrooms\n",
        "fig= plt.subplots(figsize=[15, 5])\n",
        "sns.countplot(x ='bathrooms', data = df).set(title='Count of houses per number of bathrooms')"
      ],
      "metadata": {
        "colab": {
          "base_uri": "https://localhost:8080/",
          "height": 367
        },
        "id": "BTpQP8lQjG8j",
        "outputId": "92628081-9d42-4625-b341-029112b31dd9"
      },
      "execution_count": 25,
      "outputs": [
        {
          "output_type": "execute_result",
          "data": {
            "text/plain": [
              "[Text(0.5, 1.0, 'Count of houses per number of bathrooms')]"
            ]
          },
          "metadata": {},
          "execution_count": 25
        },
        {
          "output_type": "display_data",
          "data": {
            "text/plain": [
              "<Figure size 1080x360 with 1 Axes>"
            ],
            "image/png": "[encoded data removed]"
          },
          "metadata": {
            "needs_background": "light"
          }
        }
      ]
    },
    {
      "cell_type": "code",
      "source": [
        "# Number of houses with different bedrooms\n",
        "# fig= plt.subplots(figsize=[10, 5])\n",
        "sns.countplot(x ='floors', data = df).set(title='Count of houses per number of floors')"
      ],
      "metadata": {
        "colab": {
          "base_uri": "https://localhost:8080/",
          "height": 312
        },
        "id": "BLUErSuvjwXY",
        "outputId": "19e31c08-09af-4266-afba-4df3d3b124f0"
      },
      "execution_count": 26,
      "outputs": [
        {
          "output_type": "execute_result",
          "data": {
            "text/plain": [
              "[Text(0.5, 1.0, 'Count of houses per number of floors')]"
            ]
          },
          "metadata": {},
          "execution_count": 26
        },
        {
          "output_type": "display_data",
          "data": {
            "text/plain": [
              "<Figure size 432x288 with 1 Axes>"
            ],
            "image/png": "[encoded data removed]"
          },
          "metadata": {
            "needs_background": "light"
          }
        }
      ]
    },
    {
      "cell_type": "code",
      "source": [
        "# Number of houses with different bedrooms\n",
        "# fig= plt.subplots(figsize=[10, 5])\n",
        "sns.countplot(x ='waterfront', data = df).set(title='Count of houses with waterfront view')"
      ],
      "metadata": {
        "colab": {
          "base_uri": "https://localhost:8080/",
          "height": 312
        },
        "id": "ZRoMyEqMkYfk",
        "outputId": "317f2ab5-62d7-42f2-c96e-4da3f7868bdb"
      },
      "execution_count": 27,
      "outputs": [
        {
          "output_type": "execute_result",
          "data": {
            "text/plain": [
              "[Text(0.5, 1.0, 'Count of houses with waterfront view')]"
            ]
          },
          "metadata": {},
          "execution_count": 27
        },
        {
          "output_type": "display_data",
          "data": {
            "text/plain": [
              "<Figure size 432x288 with 1 Axes>"
            ],
            "image/png": "[encoded data removed]"
          },
          "metadata": {
            "needs_background": "light"
          }
        }
      ]
    },
    {
      "cell_type": "code",
      "source": [
        "# Number of houses with different bedrooms\n",
        "# fig= plt.subplots(figsize=[10, 5])\n",
        "sns.countplot(x ='view', data = df).set(title='Count of houses per number of views')"
      ],
      "metadata": {
        "colab": {
          "base_uri": "https://localhost:8080/",
          "height": 312
        },
        "id": "TUH110m3kwxc",
        "outputId": "896c7d6a-29d1-408c-a218-bd2842cef327"
      },
      "execution_count": 28,
      "outputs": [
        {
          "output_type": "execute_result",
          "data": {
            "text/plain": [
              "[Text(0.5, 1.0, 'Count of houses per number of views')]"
            ]
          },
          "metadata": {},
          "execution_count": 28
        },
        {
          "output_type": "display_data",
          "data": {
            "text/plain": [
              "<Figure size 432x288 with 1 Axes>"
            ],
            "image/png": "[encoded data removed]"
          },
          "metadata": {
            "needs_background": "light"
          }
        }
      ]
    },
    {
      "cell_type": "code",
      "source": [
        "# Number of houses with different bedrooms\n",
        "# fig= plt.subplots(figsize=[10, 5])\n",
        "sns.countplot(x ='condition', data = df).set(title='Count of houses per condition')"
      ],
      "metadata": {
        "colab": {
          "base_uri": "https://localhost:8080/",
          "height": 312
        },
        "id": "HPuc6dGplXSK",
        "outputId": "29374797-f9fa-4738-99d9-b831dc033282"
      },
      "execution_count": 29,
      "outputs": [
        {
          "output_type": "execute_result",
          "data": {
            "text/plain": [
              "[Text(0.5, 1.0, 'Count of houses per condition')]"
            ]
          },
          "metadata": {},
          "execution_count": 29
        },
        {
          "output_type": "display_data",
          "data": {
            "text/plain": [
              "<Figure size 432x288 with 1 Axes>"
            ],
            "image/png": "[encoded data removed]"
          },
          "metadata": {
            "needs_background": "light"
          }
        }
      ]
    },
    {
      "cell_type": "code",
      "source": [
        "# Number of houses with different bedrooms\n",
        "fig= plt.subplots(figsize=[6, 6])\n",
        "sns.countplot(x ='grade', data = df).set(title='Count of houses per number of views')"
      ],
      "metadata": {
        "colab": {
          "base_uri": "https://localhost:8080/",
          "height": 421
        },
        "id": "mr6jfg7clgXq",
        "outputId": "eaaf764d-ffb6-464f-ffa4-2560b2428526"
      },
      "execution_count": 30,
      "outputs": [
        {
          "output_type": "execute_result",
          "data": {
            "text/plain": [
              "[Text(0.5, 1.0, 'Count of houses per number of views')]"
            ]
          },
          "metadata": {},
          "execution_count": 30
        },
        {
          "output_type": "display_data",
          "data": {
            "text/plain": [
              "<Figure size 432x432 with 1 Axes>"
            ],
            "image/png": "[encoded data removed]"
          },
          "metadata": {
            "needs_background": "light"
          }
        }
      ]
    },
    {
      "cell_type": "code",
      "source": [
        "# Number of houses with different bedrooms\n",
        "fig= plt.subplots(figsize=[20, 20])\n",
        "sns.countplot(y ='zipcode', data = df).set(title='Count of houses per zipcode')"
      ],
      "metadata": {
        "colab": {
          "base_uri": "https://localhost:8080/",
          "height": 1000
        },
        "id": "Bxsb5ZMjl2Yc",
        "outputId": "3520c86b-ac75-4683-c4c1-6abb3e9d54ec"
      },
      "execution_count": 31,
      "outputs": [
        {
          "output_type": "execute_result",
          "data": {
            "text/plain": [
              "[Text(0.5, 1.0, 'Count of houses per zipcode')]"
            ]
          },
          "metadata": {},
          "execution_count": 31
        },
        {
          "output_type": "display_data",
          "data": {
            "text/plain": [
              "<Figure size 1440x1440 with 1 Axes>"
            ],
            "image/png": "[encoded data removed]"
          },
          "metadata": {
            "needs_background": "light"
          }
        }
      ]
    },
    {
      "cell_type": "code",
      "source": [
        "df.columns"
      ],
      "metadata": {
        "colab": {
          "base_uri": "https://localhost:8080/"
        },
        "id": "VdmnY1VgiV5E",
        "outputId": "4d8f49ed-9d77-400a-d544-df0d574ca27d"
      },
      "execution_count": 32,
      "outputs": [
        {
          "output_type": "execute_result",
          "data": {
            "text/plain": [
              "Index(['price', 'bedrooms', 'bathrooms', 'sqft_living', 'sqft_lot', 'floors',\n",
              "       'waterfront', 'view', 'condition', 'grade', 'sqft_above',\n",
              "       'sqft_basement', 'yr_built', 'yr_renovated', 'zipcode', 'lat', 'long',\n",
              "       'sqft_living15', 'sqft_lot15'],\n",
              "      dtype='object')"
            ]
          },
          "metadata": {},
          "execution_count": 32
        }
      ]
    },
    {
      "cell_type": "markdown",
      "source": [
        "### **5.2 Bivariate Analysis**"
      ],
      "metadata": {
        "id": "O9yRFt75eljQ"
      }
    },
    {
      "cell_type": "code",
      "source": [
        "# Pair plot analysis for the whole dataframe\n",
        "# sns.pairplot(df)\n",
        "# plt.show()"
      ],
      "metadata": {
        "id": "s_gaNoY4cpTh"
      },
      "execution_count": 33,
      "outputs": []
    },
    {
      "cell_type": "code",
      "source": [
        "# Check correlation of all columns\n",
        "plt.figure(figsize=(17,17))\n",
        "\n",
        "sns.heatmap(df.corr(), square=True,annot=True)\n",
        "\n",
        "plt.title('Correlation between All Features')"
      ],
      "metadata": {
        "colab": {
          "base_uri": "https://localhost:8080/",
          "height": 976
        },
        "id": "J1bID100fBqi",
        "outputId": "6229b7cb-5ae5-44a0-9513-f299125df2b0"
      },
      "execution_count": 34,
      "outputs": [
        {
          "output_type": "execute_result",
          "data": {
            "text/plain": [
              "Text(0.5, 1.0, 'Correlation between All Features')"
            ]
          },
          "metadata": {},
          "execution_count": 34
        },
        {
          "output_type": "display_data",
          "data": {
            "text/plain": [
              "<Figure size 1224x1224 with 2 Axes>"
            ],
            "image/png": "[encoded data removed]"
          },
          "metadata": {
            "needs_background": "light"
          }
        }
      ]
    },
    {
      "cell_type": "markdown",
      "source": [
        "## **6.0 Linear Regression**"
      ],
      "metadata": {
        "id": "Fk5DN5IFmYr_"
      }
    },
    {
      "cell_type": "code",
      "source": [
        "# Change zipcode to categoriacal data and encode\n",
        "df_copy = df.copy()\n",
        "\n",
        "df['zipcode'] = df['zipcode'].astype(str)\n",
        "\n",
        "#Converting the categoricals to numericals:\n",
        "# Import label encoder\n",
        "from sklearn import preprocessing\n",
        "# label_encoder object knows how to understand word labels.\n",
        "label_encoder = preprocessing.LabelEncoder()\n",
        "\n",
        "df['zipcode'] = label_encoder.fit_transform (df['zipcode'])"
      ],
      "metadata": {
        "id": "g7jN_MJS2fp0"
      },
      "execution_count": 35,
      "outputs": []
    },
    {
      "cell_type": "code",
      "source": [
        "# Preparing the Data\n",
        "# ---\n",
        "# Dividing the data into attributes and labels as we did previously. \n",
        "\n",
        "# Removed latitude, longitude, yr_built and yr_renovated columns .. because they are not numerical values\n",
        "\n",
        "# X = df.drop(['price'], axis = 1) , 'lat', 'long'\n",
        "X =df[['bedrooms', 'bathrooms', 'sqft_living', 'sqft_lot', 'floors','waterfront', 'view', 'condition', 'grade', 'sqft_above',\n",
        "'sqft_basement', 'zipcode','sqft_living15', 'sqft_lot15']]\n",
        "y = df['price']\n"
      ],
      "metadata": {
        "id": "skkXSRS-mh2E"
      },
      "execution_count": 76,
      "outputs": []
    },
    {
      "cell_type": "code",
      "source": [
        "# Let's display the VIF between the variables\n",
        "correlations = X.corr()\n",
        "pd.DataFrame(np.linalg.inv(correlations.values), index = correlations.index, columns=correlations.columns)"
      ],
      "metadata": {
        "colab": {
          "base_uri": "https://localhost:8080/",
          "height": 552
        },
        "id": "0N7sk616yBB0",
        "outputId": "e0fd03c0-1a5b-4146-d42d-bcf83cf59e59"
      },
      "execution_count": 77,
      "outputs": [
        {
          "output_type": "execute_result",
          "data": {
            "text/plain": [
              "               bedrooms  bathrooms           sqft_living  sqft_lot  floors  \\\n",
              "bedrooms          1.697     -0.430               -13.841     0.048   0.079   \n",
              "bathrooms        -0.430      2.977                11.981     0.000  -0.852   \n",
              "sqft_living     -13.866     12.049  2303511616825040.500    -3.560  -4.489   \n",
              "sqft_lot          0.048      0.000                -3.739     2.089   0.072   \n",
              "floors            0.079     -0.852                -4.648     0.072   1.914   \n",
              "waterfront        0.068     -0.002                 0.800     0.029  -0.008   \n",
              "view              0.106      0.018                -8.244    -0.060  -0.008   \n",
              "condition        -0.084      0.092                 2.065     0.015   0.194   \n",
              "grade             0.364     -0.480                47.759    -0.001  -0.381   \n",
              "sqft_above       11.549    -11.950 -2076859803765789.750     2.968   3.660   \n",
              "sqft_basement     6.154     -6.757 -1110019189158908.250     1.680   2.813   \n",
              "zipcode           0.066      0.212                 0.200     0.044  -0.177   \n",
              "sqft_living15     0.032      0.100               -25.091     0.140   0.292   \n",
              "sqft_lot15        0.096      0.040                -0.056    -1.470   0.074   \n",
              "\n",
              "               waterfront   view  condition   grade            sqft_above  \\\n",
              "bedrooms            0.068  0.106     -0.084   0.364                11.907   \n",
              "bathrooms          -0.002  0.018      0.092  -0.480               -11.633   \n",
              "sqft_living         0.808 -8.202      2.142  47.336 -2076859803765791.000   \n",
              "sqft_lot            0.029 -0.060      0.015  -0.001                 3.132   \n",
              "floors             -0.008 -0.008      0.194  -0.381                 3.843   \n",
              "waterfront          1.200 -0.497     -0.005   0.048                -0.842   \n",
              "view               -0.497  1.400     -0.056  -0.136                 7.445   \n",
              "condition          -0.005 -0.056      1.106   0.071                -1.904   \n",
              "grade               0.048 -0.136      0.071   3.162               -44.479   \n",
              "sqft_above         -0.843  7.396     -1.972 -44.105  1872509178157837.000   \n",
              "sqft_basement      -0.397  3.665     -1.193 -23.292  1000799917193530.000   \n",
              "zipcode             0.009 -0.156      0.055  -0.025                -0.186   \n",
              "sqft_living15       0.065 -0.285      0.071  -0.867                21.043   \n",
              "sqft_lot15         -0.018  0.002     -0.009   0.099                -0.150   \n",
              "\n",
              "                      sqft_basement  zipcode  sqft_living15  sqft_lot15  \n",
              "bedrooms                      6.209    0.066          0.032       0.096  \n",
              "bathrooms                    -6.772    0.212          0.100       0.040  \n",
              "sqft_living   -1110019189158908.625    0.206        -24.438      -0.287  \n",
              "sqft_lot                      1.770    0.044          0.140      -1.470  \n",
              "floors                        2.913   -0.177          0.292       0.074  \n",
              "waterfront                   -0.392    0.009          0.065      -0.018  \n",
              "view                          3.679   -0.156         -0.285       0.002  \n",
              "condition                    -1.166    0.055          0.071      -0.009  \n",
              "grade                       -23.508   -0.025         -0.867       0.099  \n",
              "sqft_above     1000799917193530.000   -0.192         20.454       0.058  \n",
              "sqft_basement   534897497933734.312   -0.317         11.340       0.103  \n",
              "zipcode                      -0.314    1.161          0.306       0.077  \n",
              "sqft_living15                11.655    0.306          2.880      -0.154  \n",
              "sqft_lot15                   -0.009    0.077         -0.154       2.118  "
            ],
            "text/html": [
              "\n",
              "  <div id=\"df-fd623ecc-391a-489c-979d-48f894073e4c\">\n",
              "    <div class=\"colab-df-container\">\n",
              "      <div>\n",
              "<style scoped>\n",
              "    .dataframe tbody tr th:only-of-type {\n",
              "        vertical-align: middle;\n",
              "    }\n",
              "\n",
              "    .dataframe tbody tr th {\n",
              "        vertical-align: top;\n",
              "    }\n",
              "\n",
              "    .dataframe thead th {\n",
              "        text-align: right;\n",
              "    }\n",
              "</style>\n",
              "<table border=\"1\" class=\"dataframe\">\n",
              "  <thead>\n",
              "    <tr style=\"text-align: right;\">\n",
              "      <th></th>\n",
              "      <th>bedrooms</th>\n",
              "      <th>bathrooms</th>\n",
              "      <th>sqft_living</th>\n",
              "      <th>sqft_lot</th>\n",
              "      <th>floors</th>\n",
              "      <th>waterfront</th>\n",
              "      <th>view</th>\n",
              "      <th>condition</th>\n",
              "      <th>grade</th>\n",
              "      <th>sqft_above</th>\n",
              "      <th>sqft_basement</th>\n",
              "      <th>zipcode</th>\n",
              "      <th>sqft_living15</th>\n",
              "      <th>sqft_lot15</th>\n",
              "    </tr>\n",
              "  </thead>\n",
              "  <tbody>\n",
              "    <tr>\n",
              "      <th>bedrooms</th>\n",
              "      <td>1.697</td>\n",
              "      <td>-0.430</td>\n",
              "      <td>-13.841</td>\n",
              "      <td>0.048</td>\n",
              "      <td>0.079</td>\n",
              "      <td>0.068</td>\n",
              "      <td>0.106</td>\n",
              "      <td>-0.084</td>\n",
              "      <td>0.364</td>\n",
              "      <td>11.907</td>\n",
              "      <td>6.209</td>\n",
              "      <td>0.066</td>\n",
              "      <td>0.032</td>\n",
              "      <td>0.096</td>\n",
              "    </tr>\n",
              "    <tr>\n",
              "      <th>bathrooms</th>\n",
              "      <td>-0.430</td>\n",
              "      <td>2.977</td>\n",
              "      <td>11.981</td>\n",
              "      <td>0.000</td>\n",
              "      <td>-0.852</td>\n",
              "      <td>-0.002</td>\n",
              "      <td>0.018</td>\n",
              "      <td>0.092</td>\n",
              "      <td>-0.480</td>\n",
              "      <td>-11.633</td>\n",
              "      <td>-6.772</td>\n",
              "      <td>0.212</td>\n",
              "      <td>0.100</td>\n",
              "      <td>0.040</td>\n",
              "    </tr>\n",
              "    <tr>\n",
              "      <th>sqft_living</th>\n",
              "      <td>-13.866</td>\n",
              "      <td>12.049</td>\n",
              "      <td>2303511616825040.500</td>\n",
              "      <td>-3.560</td>\n",
              "      <td>-4.489</td>\n",
              "      <td>0.808</td>\n",
              "      <td>-8.202</td>\n",
              "      <td>2.142</td>\n",
              "      <td>47.336</td>\n",
              "      <td>-2076859803765791.000</td>\n",
              "      <td>-1110019189158908.625</td>\n",
              "      <td>0.206</td>\n",
              "      <td>-24.438</td>\n",
              "      <td>-0.287</td>\n",
              "    </tr>\n",
              "    <tr>\n",
              "      <th>sqft_lot</th>\n",
              "      <td>0.048</td>\n",
              "      <td>0.000</td>\n",
              "      <td>-3.739</td>\n",
              "      <td>2.089</td>\n",
              "      <td>0.072</td>\n",
              "      <td>0.029</td>\n",
              "      <td>-0.060</td>\n",
              "      <td>0.015</td>\n",
              "      <td>-0.001</td>\n",
              "      <td>3.132</td>\n",
              "      <td>1.770</td>\n",
              "      <td>0.044</td>\n",
              "      <td>0.140</td>\n",
              "      <td>-1.470</td>\n",
              "    </tr>\n",
              "    <tr>\n",
              "      <th>floors</th>\n",
              "      <td>0.079</td>\n",
              "      <td>-0.852</td>\n",
              "      <td>-4.648</td>\n",
              "      <td>0.072</td>\n",
              "      <td>1.914</td>\n",
              "      <td>-0.008</td>\n",
              "      <td>-0.008</td>\n",
              "      <td>0.194</td>\n",
              "      <td>-0.381</td>\n",
              "      <td>3.843</td>\n",
              "      <td>2.913</td>\n",
              "      <td>-0.177</td>\n",
              "      <td>0.292</td>\n",
              "      <td>0.074</td>\n",
              "    </tr>\n",
              "    <tr>\n",
              "      <th>waterfront</th>\n",
              "      <td>0.068</td>\n",
              "      <td>-0.002</td>\n",
              "      <td>0.800</td>\n",
              "      <td>0.029</td>\n",
              "      <td>-0.008</td>\n",
              "      <td>1.200</td>\n",
              "      <td>-0.497</td>\n",
              "      <td>-0.005</td>\n",
              "      <td>0.048</td>\n",
              "      <td>-0.842</td>\n",
              "      <td>-0.392</td>\n",
              "      <td>0.009</td>\n",
              "      <td>0.065</td>\n",
              "      <td>-0.018</td>\n",
              "    </tr>\n",
              "    <tr>\n",
              "      <th>view</th>\n",
              "      <td>0.106</td>\n",
              "      <td>0.018</td>\n",
              "      <td>-8.244</td>\n",
              "      <td>-0.060</td>\n",
              "      <td>-0.008</td>\n",
              "      <td>-0.497</td>\n",
              "      <td>1.400</td>\n",
              "      <td>-0.056</td>\n",
              "      <td>-0.136</td>\n",
              "      <td>7.445</td>\n",
              "      <td>3.679</td>\n",
              "      <td>-0.156</td>\n",
              "      <td>-0.285</td>\n",
              "      <td>0.002</td>\n",
              "    </tr>\n",
              "    <tr>\n",
              "      <th>condition</th>\n",
              "      <td>-0.084</td>\n",
              "      <td>0.092</td>\n",
              "      <td>2.065</td>\n",
              "      <td>0.015</td>\n",
              "      <td>0.194</td>\n",
              "      <td>-0.005</td>\n",
              "      <td>-0.056</td>\n",
              "      <td>1.106</td>\n",
              "      <td>0.071</td>\n",
              "      <td>-1.904</td>\n",
              "      <td>-1.166</td>\n",
              "      <td>0.055</td>\n",
              "      <td>0.071</td>\n",
              "      <td>-0.009</td>\n",
              "    </tr>\n",
              "    <tr>\n",
              "      <th>grade</th>\n",
              "      <td>0.364</td>\n",
              "      <td>-0.480</td>\n",
              "      <td>47.759</td>\n",
              "      <td>-0.001</td>\n",
              "      <td>-0.381</td>\n",
              "      <td>0.048</td>\n",
              "      <td>-0.136</td>\n",
              "      <td>0.071</td>\n",
              "      <td>3.162</td>\n",
              "      <td>-44.479</td>\n",
              "      <td>-23.508</td>\n",
              "      <td>-0.025</td>\n",
              "      <td>-0.867</td>\n",
              "      <td>0.099</td>\n",
              "    </tr>\n",
              "    <tr>\n",
              "      <th>sqft_above</th>\n",
              "      <td>11.549</td>\n",
              "      <td>-11.950</td>\n",
              "      <td>-2076859803765789.750</td>\n",
              "      <td>2.968</td>\n",
              "      <td>3.660</td>\n",
              "      <td>-0.843</td>\n",
              "      <td>7.396</td>\n",
              "      <td>-1.972</td>\n",
              "      <td>-44.105</td>\n",
              "      <td>1872509178157837.000</td>\n",
              "      <td>1000799917193530.000</td>\n",
              "      <td>-0.192</td>\n",
              "      <td>20.454</td>\n",
              "      <td>0.058</td>\n",
              "    </tr>\n",
              "    <tr>\n",
              "      <th>sqft_basement</th>\n",
              "      <td>6.154</td>\n",
              "      <td>-6.757</td>\n",
              "      <td>-1110019189158908.250</td>\n",
              "      <td>1.680</td>\n",
              "      <td>2.813</td>\n",
              "      <td>-0.397</td>\n",
              "      <td>3.665</td>\n",
              "      <td>-1.193</td>\n",
              "      <td>-23.292</td>\n",
              "      <td>1000799917193530.000</td>\n",
              "      <td>534897497933734.312</td>\n",
              "      <td>-0.317</td>\n",
              "      <td>11.340</td>\n",
              "      <td>0.103</td>\n",
              "    </tr>\n",
              "    <tr>\n",
              "      <th>zipcode</th>\n",
              "      <td>0.066</td>\n",
              "      <td>0.212</td>\n",
              "      <td>0.200</td>\n",
              "      <td>0.044</td>\n",
              "      <td>-0.177</td>\n",
              "      <td>0.009</td>\n",
              "      <td>-0.156</td>\n",
              "      <td>0.055</td>\n",
              "      <td>-0.025</td>\n",
              "      <td>-0.186</td>\n",
              "      <td>-0.314</td>\n",
              "      <td>1.161</td>\n",
              "      <td>0.306</td>\n",
              "      <td>0.077</td>\n",
              "    </tr>\n",
              "    <tr>\n",
              "      <th>sqft_living15</th>\n",
              "      <td>0.032</td>\n",
              "      <td>0.100</td>\n",
              "      <td>-25.091</td>\n",
              "      <td>0.140</td>\n",
              "      <td>0.292</td>\n",
              "      <td>0.065</td>\n",
              "      <td>-0.285</td>\n",
              "      <td>0.071</td>\n",
              "      <td>-0.867</td>\n",
              "      <td>21.043</td>\n",
              "      <td>11.655</td>\n",
              "      <td>0.306</td>\n",
              "      <td>2.880</td>\n",
              "      <td>-0.154</td>\n",
              "    </tr>\n",
              "    <tr>\n",
              "      <th>sqft_lot15</th>\n",
              "      <td>0.096</td>\n",
              "      <td>0.040</td>\n",
              "      <td>-0.056</td>\n",
              "      <td>-1.470</td>\n",
              "      <td>0.074</td>\n",
              "      <td>-0.018</td>\n",
              "      <td>0.002</td>\n",
              "      <td>-0.009</td>\n",
              "      <td>0.099</td>\n",
              "      <td>-0.150</td>\n",
              "      <td>-0.009</td>\n",
              "      <td>0.077</td>\n",
              "      <td>-0.154</td>\n",
              "      <td>2.118</td>\n",
              "    </tr>\n",
              "  </tbody>\n",
              "</table>\n",
              "</div>\n",
              "      <button class=\"colab-df-convert\" onclick=\"convertToInteractive('df-fd623ecc-391a-489c-979d-48f894073e4c')\"\n",
              "              title=\"Convert this dataframe to an interactive table.\"\n",
              "              style=\"display:none;\">\n",
              "        \n",
              "  <svg xmlns=\"http://www.w3.org/2000/svg\" height=\"24px\"viewBox=\"0 0 24 24\"\n",
              "       width=\"24px\">\n",
              "    <path d=\"M0 0h24v24H0V0z\" fill=\"none\"/>\n",
              "    <path d=\"M18.56 5.44l.94 2.06.94-2.06 2.06-.94-2.06-.94-.94-2.06-.94 2.06-2.06.94zm-11 1L8.5 8.5l.94-2.06 2.06-.94-2.06-.94L8.5 2.5l-.94 2.06-2.06.94zm10 10l.94 2.06.94-2.06 2.06-.94-2.06-.94-.94-2.06-.94 2.06-2.06.94z\"/><path d=\"M17.41 7.96l-1.37-1.37c-.4-.4-.92-.59-1.43-.59-.52 0-1.04.2-1.43.59L10.3 9.45l-7.72 7.72c-.78.78-.78 2.05 0 2.83L4 21.41c.39.39.9.59 1.41.59.51 0 1.02-.2 1.41-.59l7.78-7.78 2.81-2.81c.8-.78.8-2.07 0-2.86zM5.41 20L4 18.59l7.72-7.72 1.47 1.35L5.41 20z\"/>\n",
              "  </svg>\n",
              "      </button>\n",
              "      \n",
              "  <style>\n",
              "    .colab-df-container {\n",
              "      display:flex;\n",
              "      flex-wrap:wrap;\n",
              "      gap: 12px;\n",
              "    }\n",
              "\n",
              "    .colab-df-convert {\n",
              "      background-color: #E8F0FE;\n",
              "      border: none;\n",
              "      border-radius: 50%;\n",
              "      cursor: pointer;\n",
              "      display: none;\n",
              "      fill: #1967D2;\n",
              "      height: 32px;\n",
              "      padding: 0 0 0 0;\n",
              "      width: 32px;\n",
              "    }\n",
              "\n",
              "    .colab-df-convert:hover {\n",
              "      background-color: #E2EBFA;\n",
              "      box-shadow: 0px 1px 2px rgba(60, 64, 67, 0.3), 0px 1px 3px 1px rgba(60, 64, 67, 0.15);\n",
              "      fill: #174EA6;\n",
              "    }\n",
              "\n",
              "    [theme=dark] .colab-df-convert {\n",
              "      background-color: #3B4455;\n",
              "      fill: #D2E3FC;\n",
              "    }\n",
              "\n",
              "    [theme=dark] .colab-df-convert:hover {\n",
              "      background-color: #434B5C;\n",
              "      box-shadow: 0px 1px 3px 1px rgba(0, 0, 0, 0.15);\n",
              "      filter: drop-shadow(0px 1px 2px rgba(0, 0, 0, 0.3));\n",
              "      fill: #FFFFFF;\n",
              "    }\n",
              "  </style>\n",
              "\n",
              "      <script>\n",
              "        const buttonEl =\n",
              "          document.querySelector('#df-fd623ecc-391a-489c-979d-48f894073e4c button.colab-df-convert');\n",
              "        buttonEl.style.display =\n",
              "          google.colab.kernel.accessAllowed ? 'block' : 'none';\n",
              "\n",
              "        async function convertToInteractive(key) {\n",
              "          const element = document.querySelector('#df-fd623ecc-391a-489c-979d-48f894073e4c');\n",
              "          const dataTable =\n",
              "            await google.colab.kernel.invokeFunction('convertToInteractive',\n",
              "                                                     [key], {});\n",
              "          if (!dataTable) return;\n",
              "\n",
              "          const docLinkHtml = 'Like what you see? Visit the ' +\n",
              "            '<a target=\"_blank\" href=https://colab.research.google.com/notebooks/data_table.ipynb>data table notebook</a>'\n",
              "            + ' to learn more about interactive tables.';\n",
              "          element.innerHTML = '';\n",
              "          dataTable['output_type'] = 'display_data';\n",
              "          await google.colab.output.renderOutput(dataTable, element);\n",
              "          const docLink = document.createElement('div');\n",
              "          docLink.innerHTML = docLinkHtml;\n",
              "          element.appendChild(docLink);\n",
              "        }\n",
              "      </script>\n",
              "    </div>\n",
              "  </div>\n",
              "  "
            ]
          },
          "metadata": {},
          "execution_count": 77
        }
      ]
    },
    {
      "cell_type": "markdown",
      "source": [
        "drop sqft_basement cz it is above 5"
      ],
      "metadata": {
        "id": "nIojwpq1na4q"
      }
    },
    {
      "cell_type": "code",
      "source": [
        "X = X.drop(['sqft_basement'], axis = 1)"
      ],
      "metadata": {
        "id": "WxQ0QBbGnnXR"
      },
      "execution_count": 78,
      "outputs": []
    },
    {
      "cell_type": "code",
      "source": [
        "# Let's display the VIF between the variables\n",
        "correlations = X.corr()\n",
        "pd.DataFrame(np.linalg.inv(correlations.values), index = correlations.index, columns=correlations.columns)\n"
      ],
      "metadata": {
        "colab": {
          "base_uri": "https://localhost:8080/",
          "height": 521
        },
        "id": "q4vC-oYAd45I",
        "outputId": "666b3718-97cd-4cb5-9aaa-9db1e31331b7"
      },
      "execution_count": 79,
      "outputs": [
        {
          "output_type": "execute_result",
          "data": {
            "text/plain": [
              "               bedrooms  bathrooms  sqft_living  sqft_lot  floors  waterfront  \\\n",
              "bedrooms          1.697     -0.430       -1.095     0.048   0.079       0.068   \n",
              "bathrooms        -0.430      2.977       -1.973     0.000  -0.852      -0.002   \n",
              "sqft_living      -1.095     -1.973        8.411    -0.073   1.350      -0.016   \n",
              "sqft_lot          0.048      0.000       -0.073     2.089   0.072       0.029   \n",
              "floors            0.079     -0.852        1.350     0.072   1.914      -0.008   \n",
              "waterfront        0.068     -0.002       -0.016     0.029  -0.008       1.200   \n",
              "view              0.106      0.018       -0.597    -0.060  -0.008      -0.497   \n",
              "condition        -0.084      0.092       -0.334     0.015   0.194      -0.005   \n",
              "grade             0.364     -0.480       -1.001    -0.001  -0.381       0.048   \n",
              "sqft_above        0.035      0.692       -4.807    -0.176  -1.604      -0.100   \n",
              "zipcode           0.066      0.212       -0.453     0.044  -0.177       0.009   \n",
              "sqft_living15     0.032      0.100       -0.904     0.140   0.292       0.065   \n",
              "sqft_lot15        0.096      0.040       -0.074    -1.470   0.074      -0.018   \n",
              "\n",
              "                view  condition  grade  sqft_above  zipcode  sqft_living15  \\\n",
              "bedrooms       0.106     -0.084  0.364       0.035    0.066          0.032   \n",
              "bathrooms      0.018      0.092 -0.480       0.692    0.212          0.100   \n",
              "sqft_living   -0.597     -0.334 -1.001      -4.807   -0.453         -0.904   \n",
              "sqft_lot      -0.060      0.015 -0.001      -0.176    0.044          0.140   \n",
              "floors        -0.008      0.194 -0.381      -1.604   -0.177          0.292   \n",
              "waterfront    -0.497     -0.005  0.048      -0.100    0.009          0.065   \n",
              "view           1.400     -0.056 -0.136       0.539   -0.156         -0.285   \n",
              "condition     -0.056      1.106  0.071       0.260    0.055          0.071   \n",
              "grade         -0.136      0.071  3.162      -0.525   -0.025         -0.867   \n",
              "sqft_above     0.539      0.260 -0.525       6.633    0.401         -0.764   \n",
              "zipcode       -0.156      0.055 -0.025       0.401    1.161          0.306   \n",
              "sqft_living15 -0.285      0.071 -0.867      -0.764    0.306          2.880   \n",
              "sqft_lot15     0.002     -0.009  0.099      -0.134    0.077         -0.154   \n",
              "\n",
              "               sqft_lot15  \n",
              "bedrooms            0.096  \n",
              "bathrooms           0.040  \n",
              "sqft_living        -0.074  \n",
              "sqft_lot           -1.470  \n",
              "floors              0.074  \n",
              "waterfront         -0.018  \n",
              "view                0.002  \n",
              "condition          -0.009  \n",
              "grade               0.099  \n",
              "sqft_above         -0.134  \n",
              "zipcode             0.077  \n",
              "sqft_living15      -0.154  \n",
              "sqft_lot15          2.118  "
            ],
            "text/html": [
              "\n",
              "  <div id=\"df-edc2cb9d-70b0-4968-ac82-f225b4eff91e\">\n",
              "    <div class=\"colab-df-container\">\n",
              "      <div>\n",
              "<style scoped>\n",
              "    .dataframe tbody tr th:only-of-type {\n",
              "        vertical-align: middle;\n",
              "    }\n",
              "\n",
              "    .dataframe tbody tr th {\n",
              "        vertical-align: top;\n",
              "    }\n",
              "\n",
              "    .dataframe thead th {\n",
              "        text-align: right;\n",
              "    }\n",
              "</style>\n",
              "<table border=\"1\" class=\"dataframe\">\n",
              "  <thead>\n",
              "    <tr style=\"text-align: right;\">\n",
              "      <th></th>\n",
              "      <th>bedrooms</th>\n",
              "      <th>bathrooms</th>\n",
              "      <th>sqft_living</th>\n",
              "      <th>sqft_lot</th>\n",
              "      <th>floors</th>\n",
              "      <th>waterfront</th>\n",
              "      <th>view</th>\n",
              "      <th>condition</th>\n",
              "      <th>grade</th>\n",
              "      <th>sqft_above</th>\n",
              "      <th>zipcode</th>\n",
              "      <th>sqft_living15</th>\n",
              "      <th>sqft_lot15</th>\n",
              "    </tr>\n",
              "  </thead>\n",
              "  <tbody>\n",
              "    <tr>\n",
              "      <th>bedrooms</th>\n",
              "      <td>1.697</td>\n",
              "      <td>-0.430</td>\n",
              "      <td>-1.095</td>\n",
              "      <td>0.048</td>\n",
              "      <td>0.079</td>\n",
              "      <td>0.068</td>\n",
              "      <td>0.106</td>\n",
              "      <td>-0.084</td>\n",
              "      <td>0.364</td>\n",
              "      <td>0.035</td>\n",
              "      <td>0.066</td>\n",
              "      <td>0.032</td>\n",
              "      <td>0.096</td>\n",
              "    </tr>\n",
              "    <tr>\n",
              "      <th>bathrooms</th>\n",
              "      <td>-0.430</td>\n",
              "      <td>2.977</td>\n",
              "      <td>-1.973</td>\n",
              "      <td>0.000</td>\n",
              "      <td>-0.852</td>\n",
              "      <td>-0.002</td>\n",
              "      <td>0.018</td>\n",
              "      <td>0.092</td>\n",
              "      <td>-0.480</td>\n",
              "      <td>0.692</td>\n",
              "      <td>0.212</td>\n",
              "      <td>0.100</td>\n",
              "      <td>0.040</td>\n",
              "    </tr>\n",
              "    <tr>\n",
              "      <th>sqft_living</th>\n",
              "      <td>-1.095</td>\n",
              "      <td>-1.973</td>\n",
              "      <td>8.411</td>\n",
              "      <td>-0.073</td>\n",
              "      <td>1.350</td>\n",
              "      <td>-0.016</td>\n",
              "      <td>-0.597</td>\n",
              "      <td>-0.334</td>\n",
              "      <td>-1.001</td>\n",
              "      <td>-4.807</td>\n",
              "      <td>-0.453</td>\n",
              "      <td>-0.904</td>\n",
              "      <td>-0.074</td>\n",
              "    </tr>\n",
              "    <tr>\n",
              "      <th>sqft_lot</th>\n",
              "      <td>0.048</td>\n",
              "      <td>0.000</td>\n",
              "      <td>-0.073</td>\n",
              "      <td>2.089</td>\n",
              "      <td>0.072</td>\n",
              "      <td>0.029</td>\n",
              "      <td>-0.060</td>\n",
              "      <td>0.015</td>\n",
              "      <td>-0.001</td>\n",
              "      <td>-0.176</td>\n",
              "      <td>0.044</td>\n",
              "      <td>0.140</td>\n",
              "      <td>-1.470</td>\n",
              "    </tr>\n",
              "    <tr>\n",
              "      <th>floors</th>\n",
              "      <td>0.079</td>\n",
              "      <td>-0.852</td>\n",
              "      <td>1.350</td>\n",
              "      <td>0.072</td>\n",
              "      <td>1.914</td>\n",
              "      <td>-0.008</td>\n",
              "      <td>-0.008</td>\n",
              "      <td>0.194</td>\n",
              "      <td>-0.381</td>\n",
              "      <td>-1.604</td>\n",
              "      <td>-0.177</td>\n",
              "      <td>0.292</td>\n",
              "      <td>0.074</td>\n",
              "    </tr>\n",
              "    <tr>\n",
              "      <th>waterfront</th>\n",
              "      <td>0.068</td>\n",
              "      <td>-0.002</td>\n",
              "      <td>-0.016</td>\n",
              "      <td>0.029</td>\n",
              "      <td>-0.008</td>\n",
              "      <td>1.200</td>\n",
              "      <td>-0.497</td>\n",
              "      <td>-0.005</td>\n",
              "      <td>0.048</td>\n",
              "      <td>-0.100</td>\n",
              "      <td>0.009</td>\n",
              "      <td>0.065</td>\n",
              "      <td>-0.018</td>\n",
              "    </tr>\n",
              "    <tr>\n",
              "      <th>view</th>\n",
              "      <td>0.106</td>\n",
              "      <td>0.018</td>\n",
              "      <td>-0.597</td>\n",
              "      <td>-0.060</td>\n",
              "      <td>-0.008</td>\n",
              "      <td>-0.497</td>\n",
              "      <td>1.400</td>\n",
              "      <td>-0.056</td>\n",
              "      <td>-0.136</td>\n",
              "      <td>0.539</td>\n",
              "      <td>-0.156</td>\n",
              "      <td>-0.285</td>\n",
              "      <td>0.002</td>\n",
              "    </tr>\n",
              "    <tr>\n",
              "      <th>condition</th>\n",
              "      <td>-0.084</td>\n",
              "      <td>0.092</td>\n",
              "      <td>-0.334</td>\n",
              "      <td>0.015</td>\n",
              "      <td>0.194</td>\n",
              "      <td>-0.005</td>\n",
              "      <td>-0.056</td>\n",
              "      <td>1.106</td>\n",
              "      <td>0.071</td>\n",
              "      <td>0.260</td>\n",
              "      <td>0.055</td>\n",
              "      <td>0.071</td>\n",
              "      <td>-0.009</td>\n",
              "    </tr>\n",
              "    <tr>\n",
              "      <th>grade</th>\n",
              "      <td>0.364</td>\n",
              "      <td>-0.480</td>\n",
              "      <td>-1.001</td>\n",
              "      <td>-0.001</td>\n",
              "      <td>-0.381</td>\n",
              "      <td>0.048</td>\n",
              "      <td>-0.136</td>\n",
              "      <td>0.071</td>\n",
              "      <td>3.162</td>\n",
              "      <td>-0.525</td>\n",
              "      <td>-0.025</td>\n",
              "      <td>-0.867</td>\n",
              "      <td>0.099</td>\n",
              "    </tr>\n",
              "    <tr>\n",
              "      <th>sqft_above</th>\n",
              "      <td>0.035</td>\n",
              "      <td>0.692</td>\n",
              "      <td>-4.807</td>\n",
              "      <td>-0.176</td>\n",
              "      <td>-1.604</td>\n",
              "      <td>-0.100</td>\n",
              "      <td>0.539</td>\n",
              "      <td>0.260</td>\n",
              "      <td>-0.525</td>\n",
              "      <td>6.633</td>\n",
              "      <td>0.401</td>\n",
              "      <td>-0.764</td>\n",
              "      <td>-0.134</td>\n",
              "    </tr>\n",
              "    <tr>\n",
              "      <th>zipcode</th>\n",
              "      <td>0.066</td>\n",
              "      <td>0.212</td>\n",
              "      <td>-0.453</td>\n",
              "      <td>0.044</td>\n",
              "      <td>-0.177</td>\n",
              "      <td>0.009</td>\n",
              "      <td>-0.156</td>\n",
              "      <td>0.055</td>\n",
              "      <td>-0.025</td>\n",
              "      <td>0.401</td>\n",
              "      <td>1.161</td>\n",
              "      <td>0.306</td>\n",
              "      <td>0.077</td>\n",
              "    </tr>\n",
              "    <tr>\n",
              "      <th>sqft_living15</th>\n",
              "      <td>0.032</td>\n",
              "      <td>0.100</td>\n",
              "      <td>-0.904</td>\n",
              "      <td>0.140</td>\n",
              "      <td>0.292</td>\n",
              "      <td>0.065</td>\n",
              "      <td>-0.285</td>\n",
              "      <td>0.071</td>\n",
              "      <td>-0.867</td>\n",
              "      <td>-0.764</td>\n",
              "      <td>0.306</td>\n",
              "      <td>2.880</td>\n",
              "      <td>-0.154</td>\n",
              "    </tr>\n",
              "    <tr>\n",
              "      <th>sqft_lot15</th>\n",
              "      <td>0.096</td>\n",
              "      <td>0.040</td>\n",
              "      <td>-0.074</td>\n",
              "      <td>-1.470</td>\n",
              "      <td>0.074</td>\n",
              "      <td>-0.018</td>\n",
              "      <td>0.002</td>\n",
              "      <td>-0.009</td>\n",
              "      <td>0.099</td>\n",
              "      <td>-0.134</td>\n",
              "      <td>0.077</td>\n",
              "      <td>-0.154</td>\n",
              "      <td>2.118</td>\n",
              "    </tr>\n",
              "  </tbody>\n",
              "</table>\n",
              "</div>\n",
              "      <button class=\"colab-df-convert\" onclick=\"convertToInteractive('df-edc2cb9d-70b0-4968-ac82-f225b4eff91e')\"\n",
              "              title=\"Convert this dataframe to an interactive table.\"\n",
              "              style=\"display:none;\">\n",
              "        \n",
              "  <svg xmlns=\"http://www.w3.org/2000/svg\" height=\"24px\"viewBox=\"0 0 24 24\"\n",
              "       width=\"24px\">\n",
              "    <path d=\"M0 0h24v24H0V0z\" fill=\"none\"/>\n",
              "    <path d=\"M18.56 5.44l.94 2.06.94-2.06 2.06-.94-2.06-.94-.94-2.06-.94 2.06-2.06.94zm-11 1L8.5 8.5l.94-2.06 2.06-.94-2.06-.94L8.5 2.5l-.94 2.06-2.06.94zm10 10l.94 2.06.94-2.06 2.06-.94-2.06-.94-.94-2.06-.94 2.06-2.06.94z\"/><path d=\"M17.41 7.96l-1.37-1.37c-.4-.4-.92-.59-1.43-.59-.52 0-1.04.2-1.43.59L10.3 9.45l-7.72 7.72c-.78.78-.78 2.05 0 2.83L4 21.41c.39.39.9.59 1.41.59.51 0 1.02-.2 1.41-.59l7.78-7.78 2.81-2.81c.8-.78.8-2.07 0-2.86zM5.41 20L4 18.59l7.72-7.72 1.47 1.35L5.41 20z\"/>\n",
              "  </svg>\n",
              "      </button>\n",
              "      \n",
              "  <style>\n",
              "    .colab-df-container {\n",
              "      display:flex;\n",
              "      flex-wrap:wrap;\n",
              "      gap: 12px;\n",
              "    }\n",
              "\n",
              "    .colab-df-convert {\n",
              "      background-color: #E8F0FE;\n",
              "      border: none;\n",
              "      border-radius: 50%;\n",
              "      cursor: pointer;\n",
              "      display: none;\n",
              "      fill: #1967D2;\n",
              "      height: 32px;\n",
              "      padding: 0 0 0 0;\n",
              "      width: 32px;\n",
              "    }\n",
              "\n",
              "    .colab-df-convert:hover {\n",
              "      background-color: #E2EBFA;\n",
              "      box-shadow: 0px 1px 2px rgba(60, 64, 67, 0.3), 0px 1px 3px 1px rgba(60, 64, 67, 0.15);\n",
              "      fill: #174EA6;\n",
              "    }\n",
              "\n",
              "    [theme=dark] .colab-df-convert {\n",
              "      background-color: #3B4455;\n",
              "      fill: #D2E3FC;\n",
              "    }\n",
              "\n",
              "    [theme=dark] .colab-df-convert:hover {\n",
              "      background-color: #434B5C;\n",
              "      box-shadow: 0px 1px 3px 1px rgba(0, 0, 0, 0.15);\n",
              "      filter: drop-shadow(0px 1px 2px rgba(0, 0, 0, 0.3));\n",
              "      fill: #FFFFFF;\n",
              "    }\n",
              "  </style>\n",
              "\n",
              "      <script>\n",
              "        const buttonEl =\n",
              "          document.querySelector('#df-edc2cb9d-70b0-4968-ac82-f225b4eff91e button.colab-df-convert');\n",
              "        buttonEl.style.display =\n",
              "          google.colab.kernel.accessAllowed ? 'block' : 'none';\n",
              "\n",
              "        async function convertToInteractive(key) {\n",
              "          const element = document.querySelector('#df-edc2cb9d-70b0-4968-ac82-f225b4eff91e');\n",
              "          const dataTable =\n",
              "            await google.colab.kernel.invokeFunction('convertToInteractive',\n",
              "                                                     [key], {});\n",
              "          if (!dataTable) return;\n",
              "\n",
              "          const docLinkHtml = 'Like what you see? Visit the ' +\n",
              "            '<a target=\"_blank\" href=https://colab.research.google.com/notebooks/data_table.ipynb>data table notebook</a>'\n",
              "            + ' to learn more about interactive tables.';\n",
              "          element.innerHTML = '';\n",
              "          dataTable['output_type'] = 'display_data';\n",
              "          await google.colab.output.renderOutput(dataTable, element);\n",
              "          const docLink = document.createElement('div');\n",
              "          docLink.innerHTML = docLinkHtml;\n",
              "          element.appendChild(docLink);\n",
              "        }\n",
              "      </script>\n",
              "    </div>\n",
              "  </div>\n",
              "  "
            ]
          },
          "metadata": {},
          "execution_count": 79
        }
      ]
    },
    {
      "cell_type": "markdown",
      "source": [
        "sqft_living has VIF of 8.706122\n",
        "\n",
        "sqft_above has VIF of 6.957657. Drop this column"
      ],
      "metadata": {
        "id": "9GOhBm2YoHQp"
      }
    },
    {
      "cell_type": "code",
      "source": [
        "X = X.drop(['sqft_above', 'sqft_living'], axis = 1)"
      ],
      "metadata": {
        "id": "LcskwfgbzDPB"
      },
      "execution_count": 80,
      "outputs": []
    },
    {
      "cell_type": "code",
      "source": [
        "# Let's display the VIF between the variables\n",
        "correlations = X.corr()\n",
        "pd.DataFrame(np.linalg.inv(correlations.values), index = correlations.index, columns=correlations.columns)"
      ],
      "metadata": {
        "colab": {
          "base_uri": "https://localhost:8080/",
          "height": 394
        },
        "id": "ky86q8eAzKWG",
        "outputId": "e4bcf9de-8a10-49ae-d18b-4f3e4aed05f8"
      },
      "execution_count": 81,
      "outputs": [
        {
          "output_type": "execute_result",
          "data": {
            "text/plain": [
              "               bedrooms  bathrooms  sqft_lot  floors  waterfront   view  \\\n",
              "bedrooms          1.465     -0.753     0.006   0.128       0.049  0.059   \n",
              "bathrooms        -0.753      2.465    -0.041  -0.629      -0.019 -0.100   \n",
              "sqft_lot          0.006     -0.041     2.077   0.037       0.023 -0.054   \n",
              "floors            0.128     -0.629     0.037   1.519      -0.028  0.131   \n",
              "waterfront        0.049     -0.019     0.023  -0.028       1.197 -0.493   \n",
              "view              0.059     -0.100    -0.054   0.131      -0.493  1.347   \n",
              "condition        -0.117      0.022     0.016   0.262      -0.004 -0.083   \n",
              "grade             0.067     -0.837    -0.071  -0.455       0.015 -0.151   \n",
              "zipcode           0.029      0.122     0.048  -0.074       0.013 -0.195   \n",
              "sqft_living15    -0.281     -0.256     0.060   0.162       0.027 -0.284   \n",
              "sqft_lot15        0.060      0.003    -1.481   0.048      -0.023  0.006   \n",
              "\n",
              "               condition  grade  zipcode  sqft_living15  sqft_lot15  \n",
              "bedrooms          -0.117  0.067    0.029         -0.281       0.060  \n",
              "bathrooms          0.022 -0.837    0.122         -0.256       0.003  \n",
              "sqft_lot           0.016 -0.071    0.048          0.060      -1.481  \n",
              "floors             0.262 -0.455   -0.074          0.162       0.048  \n",
              "waterfront        -0.004  0.015    0.013          0.027      -0.023  \n",
              "view              -0.083 -0.151   -0.195         -0.284       0.006  \n",
              "condition          1.092  0.051    0.034          0.058      -0.009  \n",
              "grade              0.051  2.734   -0.039         -1.335       0.041  \n",
              "zipcode            0.034 -0.039    1.131          0.304       0.080  \n",
              "sqft_living15      0.058 -1.335    0.304          2.361      -0.220  \n",
              "sqft_lot15        -0.009  0.041    0.080         -0.220       2.110  "
            ],
            "text/html": [
              "\n",
              "  <div id=\"df-2186e82b-d80f-4914-af38-088e6fdabbd8\">\n",
              "    <div class=\"colab-df-container\">\n",
              "      <div>\n",
              "<style scoped>\n",
              "    .dataframe tbody tr th:only-of-type {\n",
              "        vertical-align: middle;\n",
              "    }\n",
              "\n",
              "    .dataframe tbody tr th {\n",
              "        vertical-align: top;\n",
              "    }\n",
              "\n",
              "    .dataframe thead th {\n",
              "        text-align: right;\n",
              "    }\n",
              "</style>\n",
              "<table border=\"1\" class=\"dataframe\">\n",
              "  <thead>\n",
              "    <tr style=\"text-align: right;\">\n",
              "      <th></th>\n",
              "      <th>bedrooms</th>\n",
              "      <th>bathrooms</th>\n",
              "      <th>sqft_lot</th>\n",
              "      <th>floors</th>\n",
              "      <th>waterfront</th>\n",
              "      <th>view</th>\n",
              "      <th>condition</th>\n",
              "      <th>grade</th>\n",
              "      <th>zipcode</th>\n",
              "      <th>sqft_living15</th>\n",
              "      <th>sqft_lot15</th>\n",
              "    </tr>\n",
              "  </thead>\n",
              "  <tbody>\n",
              "    <tr>\n",
              "      <th>bedrooms</th>\n",
              "      <td>1.465</td>\n",
              "      <td>-0.753</td>\n",
              "      <td>0.006</td>\n",
              "      <td>0.128</td>\n",
              "      <td>0.049</td>\n",
              "      <td>0.059</td>\n",
              "      <td>-0.117</td>\n",
              "      <td>0.067</td>\n",
              "      <td>0.029</td>\n",
              "      <td>-0.281</td>\n",
              "      <td>0.060</td>\n",
              "    </tr>\n",
              "    <tr>\n",
              "      <th>bathrooms</th>\n",
              "      <td>-0.753</td>\n",
              "      <td>2.465</td>\n",
              "      <td>-0.041</td>\n",
              "      <td>-0.629</td>\n",
              "      <td>-0.019</td>\n",
              "      <td>-0.100</td>\n",
              "      <td>0.022</td>\n",
              "      <td>-0.837</td>\n",
              "      <td>0.122</td>\n",
              "      <td>-0.256</td>\n",
              "      <td>0.003</td>\n",
              "    </tr>\n",
              "    <tr>\n",
              "      <th>sqft_lot</th>\n",
              "      <td>0.006</td>\n",
              "      <td>-0.041</td>\n",
              "      <td>2.077</td>\n",
              "      <td>0.037</td>\n",
              "      <td>0.023</td>\n",
              "      <td>-0.054</td>\n",
              "      <td>0.016</td>\n",
              "      <td>-0.071</td>\n",
              "      <td>0.048</td>\n",
              "      <td>0.060</td>\n",
              "      <td>-1.481</td>\n",
              "    </tr>\n",
              "    <tr>\n",
              "      <th>floors</th>\n",
              "      <td>0.128</td>\n",
              "      <td>-0.629</td>\n",
              "      <td>0.037</td>\n",
              "      <td>1.519</td>\n",
              "      <td>-0.028</td>\n",
              "      <td>0.131</td>\n",
              "      <td>0.262</td>\n",
              "      <td>-0.455</td>\n",
              "      <td>-0.074</td>\n",
              "      <td>0.162</td>\n",
              "      <td>0.048</td>\n",
              "    </tr>\n",
              "    <tr>\n",
              "      <th>waterfront</th>\n",
              "      <td>0.049</td>\n",
              "      <td>-0.019</td>\n",
              "      <td>0.023</td>\n",
              "      <td>-0.028</td>\n",
              "      <td>1.197</td>\n",
              "      <td>-0.493</td>\n",
              "      <td>-0.004</td>\n",
              "      <td>0.015</td>\n",
              "      <td>0.013</td>\n",
              "      <td>0.027</td>\n",
              "      <td>-0.023</td>\n",
              "    </tr>\n",
              "    <tr>\n",
              "      <th>view</th>\n",
              "      <td>0.059</td>\n",
              "      <td>-0.100</td>\n",
              "      <td>-0.054</td>\n",
              "      <td>0.131</td>\n",
              "      <td>-0.493</td>\n",
              "      <td>1.347</td>\n",
              "      <td>-0.083</td>\n",
              "      <td>-0.151</td>\n",
              "      <td>-0.195</td>\n",
              "      <td>-0.284</td>\n",
              "      <td>0.006</td>\n",
              "    </tr>\n",
              "    <tr>\n",
              "      <th>condition</th>\n",
              "      <td>-0.117</td>\n",
              "      <td>0.022</td>\n",
              "      <td>0.016</td>\n",
              "      <td>0.262</td>\n",
              "      <td>-0.004</td>\n",
              "      <td>-0.083</td>\n",
              "      <td>1.092</td>\n",
              "      <td>0.051</td>\n",
              "      <td>0.034</td>\n",
              "      <td>0.058</td>\n",
              "      <td>-0.009</td>\n",
              "    </tr>\n",
              "    <tr>\n",
              "      <th>grade</th>\n",
              "      <td>0.067</td>\n",
              "      <td>-0.837</td>\n",
              "      <td>-0.071</td>\n",
              "      <td>-0.455</td>\n",
              "      <td>0.015</td>\n",
              "      <td>-0.151</td>\n",
              "      <td>0.051</td>\n",
              "      <td>2.734</td>\n",
              "      <td>-0.039</td>\n",
              "      <td>-1.335</td>\n",
              "      <td>0.041</td>\n",
              "    </tr>\n",
              "    <tr>\n",
              "      <th>zipcode</th>\n",
              "      <td>0.029</td>\n",
              "      <td>0.122</td>\n",
              "      <td>0.048</td>\n",
              "      <td>-0.074</td>\n",
              "      <td>0.013</td>\n",
              "      <td>-0.195</td>\n",
              "      <td>0.034</td>\n",
              "      <td>-0.039</td>\n",
              "      <td>1.131</td>\n",
              "      <td>0.304</td>\n",
              "      <td>0.080</td>\n",
              "    </tr>\n",
              "    <tr>\n",
              "      <th>sqft_living15</th>\n",
              "      <td>-0.281</td>\n",
              "      <td>-0.256</td>\n",
              "      <td>0.060</td>\n",
              "      <td>0.162</td>\n",
              "      <td>0.027</td>\n",
              "      <td>-0.284</td>\n",
              "      <td>0.058</td>\n",
              "      <td>-1.335</td>\n",
              "      <td>0.304</td>\n",
              "      <td>2.361</td>\n",
              "      <td>-0.220</td>\n",
              "    </tr>\n",
              "    <tr>\n",
              "      <th>sqft_lot15</th>\n",
              "      <td>0.060</td>\n",
              "      <td>0.003</td>\n",
              "      <td>-1.481</td>\n",
              "      <td>0.048</td>\n",
              "      <td>-0.023</td>\n",
              "      <td>0.006</td>\n",
              "      <td>-0.009</td>\n",
              "      <td>0.041</td>\n",
              "      <td>0.080</td>\n",
              "      <td>-0.220</td>\n",
              "      <td>2.110</td>\n",
              "    </tr>\n",
              "  </tbody>\n",
              "</table>\n",
              "</div>\n",
              "      <button class=\"colab-df-convert\" onclick=\"convertToInteractive('df-2186e82b-d80f-4914-af38-088e6fdabbd8')\"\n",
              "              title=\"Convert this dataframe to an interactive table.\"\n",
              "              style=\"display:none;\">\n",
              "        \n",
              "  <svg xmlns=\"http://www.w3.org/2000/svg\" height=\"24px\"viewBox=\"0 0 24 24\"\n",
              "       width=\"24px\">\n",
              "    <path d=\"M0 0h24v24H0V0z\" fill=\"none\"/>\n",
              "    <path d=\"M18.56 5.44l.94 2.06.94-2.06 2.06-.94-2.06-.94-.94-2.06-.94 2.06-2.06.94zm-11 1L8.5 8.5l.94-2.06 2.06-.94-2.06-.94L8.5 2.5l-.94 2.06-2.06.94zm10 10l.94 2.06.94-2.06 2.06-.94-2.06-.94-.94-2.06-.94 2.06-2.06.94z\"/><path d=\"M17.41 7.96l-1.37-1.37c-.4-.4-.92-.59-1.43-.59-.52 0-1.04.2-1.43.59L10.3 9.45l-7.72 7.72c-.78.78-.78 2.05 0 2.83L4 21.41c.39.39.9.59 1.41.59.51 0 1.02-.2 1.41-.59l7.78-7.78 2.81-2.81c.8-.78.8-2.07 0-2.86zM5.41 20L4 18.59l7.72-7.72 1.47 1.35L5.41 20z\"/>\n",
              "  </svg>\n",
              "      </button>\n",
              "      \n",
              "  <style>\n",
              "    .colab-df-container {\n",
              "      display:flex;\n",
              "      flex-wrap:wrap;\n",
              "      gap: 12px;\n",
              "    }\n",
              "\n",
              "    .colab-df-convert {\n",
              "      background-color: #E8F0FE;\n",
              "      border: none;\n",
              "      border-radius: 50%;\n",
              "      cursor: pointer;\n",
              "      display: none;\n",
              "      fill: #1967D2;\n",
              "      height: 32px;\n",
              "      padding: 0 0 0 0;\n",
              "      width: 32px;\n",
              "    }\n",
              "\n",
              "    .colab-df-convert:hover {\n",
              "      background-color: #E2EBFA;\n",
              "      box-shadow: 0px 1px 2px rgba(60, 64, 67, 0.3), 0px 1px 3px 1px rgba(60, 64, 67, 0.15);\n",
              "      fill: #174EA6;\n",
              "    }\n",
              "\n",
              "    [theme=dark] .colab-df-convert {\n",
              "      background-color: #3B4455;\n",
              "      fill: #D2E3FC;\n",
              "    }\n",
              "\n",
              "    [theme=dark] .colab-df-convert:hover {\n",
              "      background-color: #434B5C;\n",
              "      box-shadow: 0px 1px 3px 1px rgba(0, 0, 0, 0.15);\n",
              "      filter: drop-shadow(0px 1px 2px rgba(0, 0, 0, 0.3));\n",
              "      fill: #FFFFFF;\n",
              "    }\n",
              "  </style>\n",
              "\n",
              "      <script>\n",
              "        const buttonEl =\n",
              "          document.querySelector('#df-2186e82b-d80f-4914-af38-088e6fdabbd8 button.colab-df-convert');\n",
              "        buttonEl.style.display =\n",
              "          google.colab.kernel.accessAllowed ? 'block' : 'none';\n",
              "\n",
              "        async function convertToInteractive(key) {\n",
              "          const element = document.querySelector('#df-2186e82b-d80f-4914-af38-088e6fdabbd8');\n",
              "          const dataTable =\n",
              "            await google.colab.kernel.invokeFunction('convertToInteractive',\n",
              "                                                     [key], {});\n",
              "          if (!dataTable) return;\n",
              "\n",
              "          const docLinkHtml = 'Like what you see? Visit the ' +\n",
              "            '<a target=\"_blank\" href=https://colab.research.google.com/notebooks/data_table.ipynb>data table notebook</a>'\n",
              "            + ' to learn more about interactive tables.';\n",
              "          element.innerHTML = '';\n",
              "          dataTable['output_type'] = 'display_data';\n",
              "          await google.colab.output.renderOutput(dataTable, element);\n",
              "          const docLink = document.createElement('div');\n",
              "          docLink.innerHTML = docLinkHtml;\n",
              "          element.appendChild(docLink);\n",
              "        }\n",
              "      </script>\n",
              "    </div>\n",
              "  </div>\n",
              "  "
            ]
          },
          "metadata": {},
          "execution_count": 81
        }
      ]
    },
    {
      "cell_type": "code",
      "source": [
        "# Dividing our data into training and test sets\n",
        "\n",
        "from sklearn.model_selection import train_test_split\n",
        "from sklearn.preprocessing import StandardScaler\n",
        "\n",
        "X_train, X_test, y_train, y_test = train_test_split(X, y, test_size=0.2, random_state=0)\n",
        "\n",
        "# # # Standardising the X_train and the X_test to the same scale\n",
        "# # #\n",
        "# sc = StandardScaler()\n",
        "# X_train = sc.fit_transform(X_train)\n",
        "# X_test = sc.transform(X_test)\n"
      ],
      "metadata": {
        "id": "E85ld6jVmiBn"
      },
      "execution_count": 88,
      "outputs": []
    },
    {
      "cell_type": "code",
      "source": [
        "# Training the Algorithm\n",
        "# using the fit() method of the LinearRegression class\n",
        "\n",
        "from sklearn.linear_model import LinearRegression\n",
        "regressor = LinearRegression()\n",
        "# regressor = LinearRegression()\n",
        "regressor.fit(X_train, y_train)\n"
      ],
      "metadata": {
        "colab": {
          "base_uri": "https://localhost:8080/"
        },
        "id": "OHyPfb3Don-A",
        "outputId": "5feb7d3f-9dcb-4075-a95c-2cf40f1781dc"
      },
      "execution_count": 89,
      "outputs": [
        {
          "output_type": "execute_result",
          "data": {
            "text/plain": [
              "LinearRegression()"
            ]
          },
          "metadata": {},
          "execution_count": 89
        }
      ]
    },
    {
      "cell_type": "code",
      "source": [
        "# the regression model has to find the most optimal coefficients for all the attributes.\n",
        "coeff_df = pd.DataFrame(regressor.coef_, X.columns, columns=['Coefficient'])\n",
        "coeff_df"
      ],
      "metadata": {
        "colab": {
          "base_uri": "https://localhost:8080/",
          "height": 394
        },
        "id": "3zSltruHotQQ",
        "outputId": "85bcc619-f4f3-44ca-9d05-1eb840c5bd4b"
      },
      "execution_count": 90,
      "outputs": [
        {
          "output_type": "execute_result",
          "data": {
            "text/plain": [
              "               Coefficient\n",
              "bedrooms          6889.022\n",
              "bathrooms        62032.290\n",
              "sqft_lot             0.239\n",
              "floors          -29428.071\n",
              "waterfront      663897.230\n",
              "view             65213.457\n",
              "condition        65036.533\n",
              "grade           145490.191\n",
              "zipcode           1570.702\n",
              "sqft_living15       92.355\n",
              "sqft_lot15          -0.537"
            ],
            "text/html": [
              "\n",
              "  <div id=\"df-2c9b4c11-0ee7-46a0-b391-cdae2a397b29\">\n",
              "    <div class=\"colab-df-container\">\n",
              "      <div>\n",
              "<style scoped>\n",
              "    .dataframe tbody tr th:only-of-type {\n",
              "        vertical-align: middle;\n",
              "    }\n",
              "\n",
              "    .dataframe tbody tr th {\n",
              "        vertical-align: top;\n",
              "    }\n",
              "\n",
              "    .dataframe thead th {\n",
              "        text-align: right;\n",
              "    }\n",
              "</style>\n",
              "<table border=\"1\" class=\"dataframe\">\n",
              "  <thead>\n",
              "    <tr style=\"text-align: right;\">\n",
              "      <th></th>\n",
              "      <th>Coefficient</th>\n",
              "    </tr>\n",
              "  </thead>\n",
              "  <tbody>\n",
              "    <tr>\n",
              "      <th>bedrooms</th>\n",
              "      <td>6889.022</td>\n",
              "    </tr>\n",
              "    <tr>\n",
              "      <th>bathrooms</th>\n",
              "      <td>62032.290</td>\n",
              "    </tr>\n",
              "    <tr>\n",
              "      <th>sqft_lot</th>\n",
              "      <td>0.239</td>\n",
              "    </tr>\n",
              "    <tr>\n",
              "      <th>floors</th>\n",
              "      <td>-29428.071</td>\n",
              "    </tr>\n",
              "    <tr>\n",
              "      <th>waterfront</th>\n",
              "      <td>663897.230</td>\n",
              "    </tr>\n",
              "    <tr>\n",
              "      <th>view</th>\n",
              "      <td>65213.457</td>\n",
              "    </tr>\n",
              "    <tr>\n",
              "      <th>condition</th>\n",
              "      <td>65036.533</td>\n",
              "    </tr>\n",
              "    <tr>\n",
              "      <th>grade</th>\n",
              "      <td>145490.191</td>\n",
              "    </tr>\n",
              "    <tr>\n",
              "      <th>zipcode</th>\n",
              "      <td>1570.702</td>\n",
              "    </tr>\n",
              "    <tr>\n",
              "      <th>sqft_living15</th>\n",
              "      <td>92.355</td>\n",
              "    </tr>\n",
              "    <tr>\n",
              "      <th>sqft_lot15</th>\n",
              "      <td>-0.537</td>\n",
              "    </tr>\n",
              "  </tbody>\n",
              "</table>\n",
              "</div>\n",
              "      <button class=\"colab-df-convert\" onclick=\"convertToInteractive('df-2c9b4c11-0ee7-46a0-b391-cdae2a397b29')\"\n",
              "              title=\"Convert this dataframe to an interactive table.\"\n",
              "              style=\"display:none;\">\n",
              "        \n",
              "  <svg xmlns=\"http://www.w3.org/2000/svg\" height=\"24px\"viewBox=\"0 0 24 24\"\n",
              "       width=\"24px\">\n",
              "    <path d=\"M0 0h24v24H0V0z\" fill=\"none\"/>\n",
              "    <path d=\"M18.56 5.44l.94 2.06.94-2.06 2.06-.94-2.06-.94-.94-2.06-.94 2.06-2.06.94zm-11 1L8.5 8.5l.94-2.06 2.06-.94-2.06-.94L8.5 2.5l-.94 2.06-2.06.94zm10 10l.94 2.06.94-2.06 2.06-.94-2.06-.94-.94-2.06-.94 2.06-2.06.94z\"/><path d=\"M17.41 7.96l-1.37-1.37c-.4-.4-.92-.59-1.43-.59-.52 0-1.04.2-1.43.59L10.3 9.45l-7.72 7.72c-.78.78-.78 2.05 0 2.83L4 21.41c.39.39.9.59 1.41.59.51 0 1.02-.2 1.41-.59l7.78-7.78 2.81-2.81c.8-.78.8-2.07 0-2.86zM5.41 20L4 18.59l7.72-7.72 1.47 1.35L5.41 20z\"/>\n",
              "  </svg>\n",
              "      </button>\n",
              "      \n",
              "  <style>\n",
              "    .colab-df-container {\n",
              "      display:flex;\n",
              "      flex-wrap:wrap;\n",
              "      gap: 12px;\n",
              "    }\n",
              "\n",
              "    .colab-df-convert {\n",
              "      background-color: #E8F0FE;\n",
              "      border: none;\n",
              "      border-radius: 50%;\n",
              "      cursor: pointer;\n",
              "      display: none;\n",
              "      fill: #1967D2;\n",
              "      height: 32px;\n",
              "      padding: 0 0 0 0;\n",
              "      width: 32px;\n",
              "    }\n",
              "\n",
              "    .colab-df-convert:hover {\n",
              "      background-color: #E2EBFA;\n",
              "      box-shadow: 0px 1px 2px rgba(60, 64, 67, 0.3), 0px 1px 3px 1px rgba(60, 64, 67, 0.15);\n",
              "      fill: #174EA6;\n",
              "    }\n",
              "\n",
              "    [theme=dark] .colab-df-convert {\n",
              "      background-color: #3B4455;\n",
              "      fill: #D2E3FC;\n",
              "    }\n",
              "\n",
              "    [theme=dark] .colab-df-convert:hover {\n",
              "      background-color: #434B5C;\n",
              "      box-shadow: 0px 1px 3px 1px rgba(0, 0, 0, 0.15);\n",
              "      filter: drop-shadow(0px 1px 2px rgba(0, 0, 0, 0.3));\n",
              "      fill: #FFFFFF;\n",
              "    }\n",
              "  </style>\n",
              "\n",
              "      <script>\n",
              "        const buttonEl =\n",
              "          document.querySelector('#df-2c9b4c11-0ee7-46a0-b391-cdae2a397b29 button.colab-df-convert');\n",
              "        buttonEl.style.display =\n",
              "          google.colab.kernel.accessAllowed ? 'block' : 'none';\n",
              "\n",
              "        async function convertToInteractive(key) {\n",
              "          const element = document.querySelector('#df-2c9b4c11-0ee7-46a0-b391-cdae2a397b29');\n",
              "          const dataTable =\n",
              "            await google.colab.kernel.invokeFunction('convertToInteractive',\n",
              "                                                     [key], {});\n",
              "          if (!dataTable) return;\n",
              "\n",
              "          const docLinkHtml = 'Like what you see? Visit the ' +\n",
              "            '<a target=\"_blank\" href=https://colab.research.google.com/notebooks/data_table.ipynb>data table notebook</a>'\n",
              "            + ' to learn more about interactive tables.';\n",
              "          element.innerHTML = '';\n",
              "          dataTable['output_type'] = 'display_data';\n",
              "          await google.colab.output.renderOutput(dataTable, element);\n",
              "          const docLink = document.createElement('div');\n",
              "          docLink.innerHTML = docLinkHtml;\n",
              "          element.appendChild(docLink);\n",
              "        }\n",
              "      </script>\n",
              "    </div>\n",
              "  </div>\n",
              "  "
            ]
          },
          "metadata": {},
          "execution_count": 90
        }
      ]
    },
    {
      "cell_type": "code",
      "source": [
        "# Making Predictions\n",
        "# ---\n",
        "# To make pre-dictions on the test data, execute the following\n",
        "# ---\n",
        "# \n",
        "y_pred = regressor.predict(X_test)\n",
        "\n",
        "# To compare the actual output values for X_test with the predicted values\n",
        "# \n",
        "df_pred = pd.DataFrame({'Actual': y_test, 'Predicted': y_pred})\n",
        "# df_pred['Predicted'].round(7)\n",
        "pd.set_option('display.float_format', lambda x: '%.3f' % x)\n",
        "df_pred"
      ],
      "metadata": {
        "colab": {
          "base_uri": "https://localhost:8080/",
          "height": 424
        },
        "id": "-EfpeZkkpAvV",
        "outputId": "50215d5e-1fd0-467f-9243-1a75c5a2401a"
      },
      "execution_count": 91,
      "outputs": [
        {
          "output_type": "execute_result",
          "data": {
            "text/plain": [
              "           Actual   Predicted\n",
              "9791   216500.000  160283.816\n",
              "10281  451000.000  418456.077\n",
              "19859 1100000.000 1002249.293\n",
              "20059  650000.000  487921.919\n",
              "21204 1060000.000  956542.647\n",
              "...           ...         ...\n",
              "17763  530000.000  581437.096\n",
              "13212  370000.000  373975.126\n",
              "8109   440000.000  514663.761\n",
              "19727  334950.000  284983.203\n",
              "16124 1930000.000  985597.495\n",
              "\n",
              "[4322 rows x 2 columns]"
            ],
            "text/html": [
              "\n",
              "  <div id=\"df-e2ed85fb-6fe6-4393-9639-97043c4fe7b3\">\n",
              "    <div class=\"colab-df-container\">\n",
              "      <div>\n",
              "<style scoped>\n",
              "    .dataframe tbody tr th:only-of-type {\n",
              "        vertical-align: middle;\n",
              "    }\n",
              "\n",
              "    .dataframe tbody tr th {\n",
              "        vertical-align: top;\n",
              "    }\n",
              "\n",
              "    .dataframe thead th {\n",
              "        text-align: right;\n",
              "    }\n",
              "</style>\n",
              "<table border=\"1\" class=\"dataframe\">\n",
              "  <thead>\n",
              "    <tr style=\"text-align: right;\">\n",
              "      <th></th>\n",
              "      <th>Actual</th>\n",
              "      <th>Predicted</th>\n",
              "    </tr>\n",
              "  </thead>\n",
              "  <tbody>\n",
              "    <tr>\n",
              "      <th>9791</th>\n",
              "      <td>216500.000</td>\n",
              "      <td>160283.816</td>\n",
              "    </tr>\n",
              "    <tr>\n",
              "      <th>10281</th>\n",
              "      <td>451000.000</td>\n",
              "      <td>418456.077</td>\n",
              "    </tr>\n",
              "    <tr>\n",
              "      <th>19859</th>\n",
              "      <td>1100000.000</td>\n",
              "      <td>1002249.293</td>\n",
              "    </tr>\n",
              "    <tr>\n",
              "      <th>20059</th>\n",
              "      <td>650000.000</td>\n",
              "      <td>487921.919</td>\n",
              "    </tr>\n",
              "    <tr>\n",
              "      <th>21204</th>\n",
              "      <td>1060000.000</td>\n",
              "      <td>956542.647</td>\n",
              "    </tr>\n",
              "    <tr>\n",
              "      <th>...</th>\n",
              "      <td>...</td>\n",
              "      <td>...</td>\n",
              "    </tr>\n",
              "    <tr>\n",
              "      <th>17763</th>\n",
              "      <td>530000.000</td>\n",
              "      <td>581437.096</td>\n",
              "    </tr>\n",
              "    <tr>\n",
              "      <th>13212</th>\n",
              "      <td>370000.000</td>\n",
              "      <td>373975.126</td>\n",
              "    </tr>\n",
              "    <tr>\n",
              "      <th>8109</th>\n",
              "      <td>440000.000</td>\n",
              "      <td>514663.761</td>\n",
              "    </tr>\n",
              "    <tr>\n",
              "      <th>19727</th>\n",
              "      <td>334950.000</td>\n",
              "      <td>284983.203</td>\n",
              "    </tr>\n",
              "    <tr>\n",
              "      <th>16124</th>\n",
              "      <td>1930000.000</td>\n",
              "      <td>985597.495</td>\n",
              "    </tr>\n",
              "  </tbody>\n",
              "</table>\n",
              "<p>4322 rows × 2 columns</p>\n",
              "</div>\n",
              "      <button class=\"colab-df-convert\" onclick=\"convertToInteractive('df-e2ed85fb-6fe6-4393-9639-97043c4fe7b3')\"\n",
              "              title=\"Convert this dataframe to an interactive table.\"\n",
              "              style=\"display:none;\">\n",
              "        \n",
              "  <svg xmlns=\"http://www.w3.org/2000/svg\" height=\"24px\"viewBox=\"0 0 24 24\"\n",
              "       width=\"24px\">\n",
              "    <path d=\"M0 0h24v24H0V0z\" fill=\"none\"/>\n",
              "    <path d=\"M18.56 5.44l.94 2.06.94-2.06 2.06-.94-2.06-.94-.94-2.06-.94 2.06-2.06.94zm-11 1L8.5 8.5l.94-2.06 2.06-.94-2.06-.94L8.5 2.5l-.94 2.06-2.06.94zm10 10l.94 2.06.94-2.06 2.06-.94-2.06-.94-.94-2.06-.94 2.06-2.06.94z\"/><path d=\"M17.41 7.96l-1.37-1.37c-.4-.4-.92-.59-1.43-.59-.52 0-1.04.2-1.43.59L10.3 9.45l-7.72 7.72c-.78.78-.78 2.05 0 2.83L4 21.41c.39.39.9.59 1.41.59.51 0 1.02-.2 1.41-.59l7.78-7.78 2.81-2.81c.8-.78.8-2.07 0-2.86zM5.41 20L4 18.59l7.72-7.72 1.47 1.35L5.41 20z\"/>\n",
              "  </svg>\n",
              "      </button>\n",
              "      \n",
              "  <style>\n",
              "    .colab-df-container {\n",
              "      display:flex;\n",
              "      flex-wrap:wrap;\n",
              "      gap: 12px;\n",
              "    }\n",
              "\n",
              "    .colab-df-convert {\n",
              "      background-color: #E8F0FE;\n",
              "      border: none;\n",
              "      border-radius: 50%;\n",
              "      cursor: pointer;\n",
              "      display: none;\n",
              "      fill: #1967D2;\n",
              "      height: 32px;\n",
              "      padding: 0 0 0 0;\n",
              "      width: 32px;\n",
              "    }\n",
              "\n",
              "    .colab-df-convert:hover {\n",
              "      background-color: #E2EBFA;\n",
              "      box-shadow: 0px 1px 2px rgba(60, 64, 67, 0.3), 0px 1px 3px 1px rgba(60, 64, 67, 0.15);\n",
              "      fill: #174EA6;\n",
              "    }\n",
              "\n",
              "    [theme=dark] .colab-df-convert {\n",
              "      background-color: #3B4455;\n",
              "      fill: #D2E3FC;\n",
              "    }\n",
              "\n",
              "    [theme=dark] .colab-df-convert:hover {\n",
              "      background-color: #434B5C;\n",
              "      box-shadow: 0px 1px 3px 1px rgba(0, 0, 0, 0.15);\n",
              "      filter: drop-shadow(0px 1px 2px rgba(0, 0, 0, 0.3));\n",
              "      fill: #FFFFFF;\n",
              "    }\n",
              "  </style>\n",
              "\n",
              "      <script>\n",
              "        const buttonEl =\n",
              "          document.querySelector('#df-e2ed85fb-6fe6-4393-9639-97043c4fe7b3 button.colab-df-convert');\n",
              "        buttonEl.style.display =\n",
              "          google.colab.kernel.accessAllowed ? 'block' : 'none';\n",
              "\n",
              "        async function convertToInteractive(key) {\n",
              "          const element = document.querySelector('#df-e2ed85fb-6fe6-4393-9639-97043c4fe7b3');\n",
              "          const dataTable =\n",
              "            await google.colab.kernel.invokeFunction('convertToInteractive',\n",
              "                                                     [key], {});\n",
              "          if (!dataTable) return;\n",
              "\n",
              "          const docLinkHtml = 'Like what you see? Visit the ' +\n",
              "            '<a target=\"_blank\" href=https://colab.research.google.com/notebooks/data_table.ipynb>data table notebook</a>'\n",
              "            + ' to learn more about interactive tables.';\n",
              "          element.innerHTML = '';\n",
              "          dataTable['output_type'] = 'display_data';\n",
              "          await google.colab.output.renderOutput(dataTable, element);\n",
              "          const docLink = document.createElement('div');\n",
              "          docLink.innerHTML = docLinkHtml;\n",
              "          element.appendChild(docLink);\n",
              "        }\n",
              "      </script>\n",
              "    </div>\n",
              "  </div>\n",
              "  "
            ]
          },
          "metadata": {},
          "execution_count": 91
        }
      ]
    },
    {
      "cell_type": "code",
      "source": [
        "df_pred.describe()"
      ],
      "metadata": {
        "colab": {
          "base_uri": "https://localhost:8080/",
          "height": 300
        },
        "id": "9uEp9Hb3J1HH",
        "outputId": "ab39ba55-d5a3-4640-9d2c-2503378a0643"
      },
      "execution_count": 92,
      "outputs": [
        {
          "output_type": "execute_result",
          "data": {
            "text/plain": [
              "           Actual   Predicted\n",
              "count    4322.000    4322.000\n",
              "mean   534668.346  538460.411\n",
              "std    347822.480  272119.304\n",
              "min     81000.000 -815479.945\n",
              "25%    320000.000  361219.185\n",
              "50%    450000.000  494398.090\n",
              "75%    640750.000  667155.014\n",
              "max   6890000.000 2091206.399"
            ],
            "text/html": [
              "\n",
              "  <div id=\"df-78e91bc3-7844-4b2f-a793-ac146e0a0db3\">\n",
              "    <div class=\"colab-df-container\">\n",
              "      <div>\n",
              "<style scoped>\n",
              "    .dataframe tbody tr th:only-of-type {\n",
              "        vertical-align: middle;\n",
              "    }\n",
              "\n",
              "    .dataframe tbody tr th {\n",
              "        vertical-align: top;\n",
              "    }\n",
              "\n",
              "    .dataframe thead th {\n",
              "        text-align: right;\n",
              "    }\n",
              "</style>\n",
              "<table border=\"1\" class=\"dataframe\">\n",
              "  <thead>\n",
              "    <tr style=\"text-align: right;\">\n",
              "      <th></th>\n",
              "      <th>Actual</th>\n",
              "      <th>Predicted</th>\n",
              "    </tr>\n",
              "  </thead>\n",
              "  <tbody>\n",
              "    <tr>\n",
              "      <th>count</th>\n",
              "      <td>4322.000</td>\n",
              "      <td>4322.000</td>\n",
              "    </tr>\n",
              "    <tr>\n",
              "      <th>mean</th>\n",
              "      <td>534668.346</td>\n",
              "      <td>538460.411</td>\n",
              "    </tr>\n",
              "    <tr>\n",
              "      <th>std</th>\n",
              "      <td>347822.480</td>\n",
              "      <td>272119.304</td>\n",
              "    </tr>\n",
              "    <tr>\n",
              "      <th>min</th>\n",
              "      <td>81000.000</td>\n",
              "      <td>-815479.945</td>\n",
              "    </tr>\n",
              "    <tr>\n",
              "      <th>25%</th>\n",
              "      <td>320000.000</td>\n",
              "      <td>361219.185</td>\n",
              "    </tr>\n",
              "    <tr>\n",
              "      <th>50%</th>\n",
              "      <td>450000.000</td>\n",
              "      <td>494398.090</td>\n",
              "    </tr>\n",
              "    <tr>\n",
              "      <th>75%</th>\n",
              "      <td>640750.000</td>\n",
              "      <td>667155.014</td>\n",
              "    </tr>\n",
              "    <tr>\n",
              "      <th>max</th>\n",
              "      <td>6890000.000</td>\n",
              "      <td>2091206.399</td>\n",
              "    </tr>\n",
              "  </tbody>\n",
              "</table>\n",
              "</div>\n",
              "      <button class=\"colab-df-convert\" onclick=\"convertToInteractive('df-78e91bc3-7844-4b2f-a793-ac146e0a0db3')\"\n",
              "              title=\"Convert this dataframe to an interactive table.\"\n",
              "              style=\"display:none;\">\n",
              "        \n",
              "  <svg xmlns=\"http://www.w3.org/2000/svg\" height=\"24px\"viewBox=\"0 0 24 24\"\n",
              "       width=\"24px\">\n",
              "    <path d=\"M0 0h24v24H0V0z\" fill=\"none\"/>\n",
              "    <path d=\"M18.56 5.44l.94 2.06.94-2.06 2.06-.94-2.06-.94-.94-2.06-.94 2.06-2.06.94zm-11 1L8.5 8.5l.94-2.06 2.06-.94-2.06-.94L8.5 2.5l-.94 2.06-2.06.94zm10 10l.94 2.06.94-2.06 2.06-.94-2.06-.94-.94-2.06-.94 2.06-2.06.94z\"/><path d=\"M17.41 7.96l-1.37-1.37c-.4-.4-.92-.59-1.43-.59-.52 0-1.04.2-1.43.59L10.3 9.45l-7.72 7.72c-.78.78-.78 2.05 0 2.83L4 21.41c.39.39.9.59 1.41.59.51 0 1.02-.2 1.41-.59l7.78-7.78 2.81-2.81c.8-.78.8-2.07 0-2.86zM5.41 20L4 18.59l7.72-7.72 1.47 1.35L5.41 20z\"/>\n",
              "  </svg>\n",
              "      </button>\n",
              "      \n",
              "  <style>\n",
              "    .colab-df-container {\n",
              "      display:flex;\n",
              "      flex-wrap:wrap;\n",
              "      gap: 12px;\n",
              "    }\n",
              "\n",
              "    .colab-df-convert {\n",
              "      background-color: #E8F0FE;\n",
              "      border: none;\n",
              "      border-radius: 50%;\n",
              "      cursor: pointer;\n",
              "      display: none;\n",
              "      fill: #1967D2;\n",
              "      height: 32px;\n",
              "      padding: 0 0 0 0;\n",
              "      width: 32px;\n",
              "    }\n",
              "\n",
              "    .colab-df-convert:hover {\n",
              "      background-color: #E2EBFA;\n",
              "      box-shadow: 0px 1px 2px rgba(60, 64, 67, 0.3), 0px 1px 3px 1px rgba(60, 64, 67, 0.15);\n",
              "      fill: #174EA6;\n",
              "    }\n",
              "\n",
              "    [theme=dark] .colab-df-convert {\n",
              "      background-color: #3B4455;\n",
              "      fill: #D2E3FC;\n",
              "    }\n",
              "\n",
              "    [theme=dark] .colab-df-convert:hover {\n",
              "      background-color: #434B5C;\n",
              "      box-shadow: 0px 1px 3px 1px rgba(0, 0, 0, 0.15);\n",
              "      filter: drop-shadow(0px 1px 2px rgba(0, 0, 0, 0.3));\n",
              "      fill: #FFFFFF;\n",
              "    }\n",
              "  </style>\n",
              "\n",
              "      <script>\n",
              "        const buttonEl =\n",
              "          document.querySelector('#df-78e91bc3-7844-4b2f-a793-ac146e0a0db3 button.colab-df-convert');\n",
              "        buttonEl.style.display =\n",
              "          google.colab.kernel.accessAllowed ? 'block' : 'none';\n",
              "\n",
              "        async function convertToInteractive(key) {\n",
              "          const element = document.querySelector('#df-78e91bc3-7844-4b2f-a793-ac146e0a0db3');\n",
              "          const dataTable =\n",
              "            await google.colab.kernel.invokeFunction('convertToInteractive',\n",
              "                                                     [key], {});\n",
              "          if (!dataTable) return;\n",
              "\n",
              "          const docLinkHtml = 'Like what you see? Visit the ' +\n",
              "            '<a target=\"_blank\" href=https://colab.research.google.com/notebooks/data_table.ipynb>data table notebook</a>'\n",
              "            + ' to learn more about interactive tables.';\n",
              "          element.innerHTML = '';\n",
              "          dataTable['output_type'] = 'display_data';\n",
              "          await google.colab.output.renderOutput(dataTable, element);\n",
              "          const docLink = document.createElement('div');\n",
              "          docLink.innerHTML = docLinkHtml;\n",
              "          element.appendChild(docLink);\n",
              "        }\n",
              "      </script>\n",
              "    </div>\n",
              "  </div>\n",
              "  "
            ]
          },
          "metadata": {},
          "execution_count": 92
        }
      ]
    },
    {
      "cell_type": "markdown",
      "source": [
        "Our predictions seem to be close to the actual data, except for the min and max values"
      ],
      "metadata": {
        "id": "oswhPlM7KH7V"
      }
    },
    {
      "cell_type": "code",
      "source": [
        "# Evaluating the Algorithm\n",
        "# ---\n",
        "# \n",
        "from sklearn import metrics\n",
        "print('Mean Absolute Error:', metrics.mean_absolute_error(y_test, y_pred))\n",
        "print('Mean Squared Error:', metrics.mean_squared_error(y_test, y_pred))\n",
        "print('Root Mean Squared Error:', np.sqrt(metrics.mean_squared_error(y_test, y_pred)))\n",
        "print('R-Squared:', metrics.r2_score(y_test, y_pred))\n",
        "# print('Variance score: {0:.2f}'.format(regressor.score(X, y)))"
      ],
      "metadata": {
        "colab": {
          "base_uri": "https://localhost:8080/"
        },
        "id": "HsQi_9tvIRmE",
        "outputId": "59dfbf63-2c2a-42a4-9103-3d438c5b8ffd"
      },
      "execution_count": 93,
      "outputs": [
        {
          "output_type": "stream",
          "name": "stdout",
          "text": [
            "Mean Absolute Error: 154958.5100001449\n",
            "Mean Squared Error: 55017936672.40389\n",
            "Root Mean Squared Error: 234559.0259879246\n",
            "R-Squared: 0.5451276902454001\n"
          ]
        }
      ]
    },
    {
      "cell_type": "code",
      "source": [
        "# Test and Training Scores\n",
        "score = regressor.score(X_train, y_train)\n",
        "score2 = regressor.score(X_test, y_test)\n",
        "\n",
        "print('Training set accuracy: ', '%.2f'%(score))\n",
        "print('Test set accuracy: ', '%.2f'%(score2))"
      ],
      "metadata": {
        "colab": {
          "base_uri": "https://localhost:8080/"
        },
        "id": "7xMbBWJaIWl6",
        "outputId": "45f398ad-ccfe-422b-c7cb-d6c3f516a34d"
      },
      "execution_count": 94,
      "outputs": [
        {
          "output_type": "stream",
          "name": "stdout",
          "text": [
            "Training set accuracy:  0.57\n",
            "Test set accuracy:  0.55\n"
          ]
        }
      ]
    },
    {
      "cell_type": "markdown",
      "source": [
        "We can see that the value of root mean squared error is 200692.68, \n",
        "which is slightly greater than 10% of the mean value of the gas consumption in all states. \n",
        "\n",
        "This means that our algorithm was not very accurate but can still make reasonably good predictions.\n",
        "There are many factors that may have contributed to this inaccuracy, a few of which are :\n",
        "1. Need more data: Only one year worth of data isn't that much, whereas having multiple years worth could have helped us improve the accuracy quite a bit.\n",
        "2. Bad assumptions: We made the assumption that this data has a linear relationship, but that might not be the case. Visualizing the data may help you determine that. \n",
        "3. Poor features: The features we used may not have had a high enough correlation to the values we were trying to predict."
      ],
      "metadata": {
        "id": "FyG7EyS5NBXW"
      }
    },
    {
      "cell_type": "markdown",
      "source": [
        "**Residual plot**"
      ],
      "metadata": {
        "id": "TrkuiaNhu7ix"
      }
    },
    {
      "cell_type": "code",
      "source": [
        "# We now create the residual by substracting the test value from the predicted \n",
        "# value for each row in our dataset\n",
        "\n",
        "residuals = np.subtract(y_pred, y_test)\n",
        "\n",
        "# Let's describe our residual:\n",
        "pd.DataFrame(residuals).describe()\n",
        "\n",
        "residuals.mean()"
      ],
      "metadata": {
        "colab": {
          "base_uri": "https://localhost:8080/"
        },
        "id": "apkxy8yF3uoA",
        "outputId": "9083d0fe-3040-4343-f2ec-5f92f0c6224b"
      },
      "execution_count": 95,
      "outputs": [
        {
          "output_type": "execute_result",
          "data": {
            "text/plain": [
              "3792.0643711453195"
            ]
          },
          "metadata": {},
          "execution_count": 95
        }
      ]
    },
    {
      "cell_type": "code",
      "source": [
        "import matplotlib.pyplot as plt\n",
        "\n",
        "plt.scatter(y_pred, residuals, color='black')\n",
        "plt.ylabel('residual')\n",
        "plt.xlabel('fitted values')\n",
        "plt.axhline(y= residuals.mean(), color='red', linewidth=1)\n",
        "plt.show()"
      ],
      "metadata": {
        "colab": {
          "base_uri": "https://localhost:8080/",
          "height": 290
        },
        "id": "mRJkCDPo3_VF",
        "outputId": "0f58cfee-ce79-4341-d2ad-f6a81efc72c2"
      },
      "execution_count": 96,
      "outputs": [
        {
          "output_type": "display_data",
          "data": {
            "text/plain": [
              "<Figure size 432x288 with 1 Axes>"
            ],
            "image/png": "[encoded data removed]"
          },
          "metadata": {
            "needs_background": "light"
          }
        }
      ]
    },
    {
      "cell_type": "markdown",
      "source": [
        "Most of our residuals are randomnly scattered around 0, but it also tends to go out into a cone shape "
      ],
      "metadata": {
        "id": "MvbzLHiYJUeq"
      }
    },
    {
      "cell_type": "markdown",
      "source": [
        "**Heteroscedacity Testing**"
      ],
      "metadata": {
        "id": "cxVdrgQOvArS"
      }
    },
    {
      "cell_type": "code",
      "source": [
        "import scipy as sp\n",
        "\n",
        "test_result, p_value = sp.stats.bartlett(y_pred, residuals)\n",
        "\n",
        "# To interpret the results we must also compute a critical value of the chi squared distribution\n",
        "degree_of_freedom = len(y_pred)-1\n",
        "probability = 1 - p_value\n",
        "\n",
        "critical_value = sp.stats.chi2.ppf(probability, degree_of_freedom)\n",
        "print(critical_value)\n",
        "\n",
        "# If the test_result is greater than the critical value, then we reject our null\n",
        "# hypothesis. This would mean that there are patterns to the variance of the data\n",
        "\n",
        "# Otherwise, we can identify no patterns, and we accept the null hypothesis that \n",
        "# the variance is homogeneous across our data\n",
        "\n",
        "if (test_result > critical_value):\n",
        "  print('the variances are unequal, and the model should be reassessed')\n",
        "else:\n",
        "  print('the variances are homogeneous!')"
      ],
      "metadata": {
        "colab": {
          "base_uri": "https://localhost:8080/"
        },
        "id": "0EGjO4Ta5L8N",
        "outputId": "fb6b8f41-e0f7-48ce-8075-dae258f83825"
      },
      "execution_count": 97,
      "outputs": [
        {
          "output_type": "stream",
          "name": "stdout",
          "text": [
            "inf\n",
            "the variances are homogeneous!\n"
          ]
        }
      ]
    },
    {
      "cell_type": "markdown",
      "source": [
        "**Cross Validation**"
      ],
      "metadata": {
        "id": "MFOXe4_IvKRK"
      }
    },
    {
      "cell_type": "code",
      "source": [
        "from sklearn.model_selection import KFold\n",
        "from sklearn import metrics\n",
        "\n",
        "# We will use the same  independent variables for this\n",
        "# X = model_df[['tournament', 'home_rank', 'away_rank']].values\n",
        "# y = model_df['home_score'].values\n",
        "\n",
        "X = df[['bedrooms', 'bathrooms', 'sqft_lot', 'floors','waterfront', 'view', 'condition', 'grade','yr_built', \n",
        "       'yr_renovated', 'zipcode','sqft_living15', 'sqft_lot15']].values\n",
        "y = df['price'].values\n",
        "\n",
        "folds = KFold(n_splits=10)\n",
        "\n",
        "#Printing the number of folds we will use\n",
        "print('we are using ' +str(folds.get_n_splits(X)) + ' folds')\n",
        "\n",
        "# We now create and assess 10 models based on the folds we created.\n",
        "RMSES = [] # We will use this array to keep track of the RSME of each model\n",
        "count = 1  # This will just help \n",
        "for train_index, test_index in folds.split(X):\n",
        "  print('\\nTraining model ' + str(count))\n",
        "\n",
        "# set up the train and test based on the split determined by KFold\n",
        "# With 10 folds, we will end up with 90% of our data in the training set, and 10% in the test set\n",
        "  X_train, X_test = X[train_index], X[test_index]\n",
        "  y_train, y_test = y[train_index], y[test_index]\n",
        "\n",
        "  # fit a model accordingly\n",
        "  regressor = LinearRegression()  \n",
        "  regressor.fit(X_train, y_train)\n",
        "  # assess the accuraccy of the model\n",
        "  y_pred = regressor.predict(X_test)\n",
        "\n",
        "  rmse_value =  np.sqrt(metrics.mean_squared_error(y_test, y_pred))\n",
        "  RMSES.append(rmse_value)\n",
        "\n",
        "  print('Model ' + str(count) + ' Root Mean Squared Error:',rmse_value)\n",
        "  count = count + 1"
      ],
      "metadata": {
        "colab": {
          "base_uri": "https://localhost:8080/"
        },
        "id": "sOAytg82vIUo",
        "outputId": "3a231d8d-9bfd-44be-fb9f-f2a6661b121f"
      },
      "execution_count": 98,
      "outputs": [
        {
          "output_type": "stream",
          "name": "stdout",
          "text": [
            "we are using 10 folds\n",
            "\n",
            "Training model 1\n",
            "Model 1 Root Mean Squared Error: 233849.9859176558\n",
            "\n",
            "Training model 2\n",
            "Model 2 Root Mean Squared Error: 247340.8245076317\n",
            "\n",
            "Training model 3\n",
            "Model 3 Root Mean Squared Error: 215392.72042541477\n",
            "\n",
            "Training model 4\n",
            "Model 4 Root Mean Squared Error: 253048.27078939826\n",
            "\n",
            "Training model 5\n",
            "Model 5 Root Mean Squared Error: 210053.35199299094\n",
            "\n",
            "Training model 6\n",
            "Model 6 Root Mean Squared Error: 211922.9295752635\n",
            "\n",
            "Training model 7\n",
            "Model 7 Root Mean Squared Error: 207924.63306998817\n",
            "\n",
            "Training model 8\n",
            "Model 8 Root Mean Squared Error: 215010.17805652972\n",
            "\n",
            "Training model 9\n",
            "Model 9 Root Mean Squared Error: 225952.3810703063\n",
            "\n",
            "Training model 10\n",
            "Model 10 Root Mean Squared Error: 247495.9941867729\n"
          ]
        }
      ]
    },
    {
      "cell_type": "code",
      "source": [
        "# Mean of RMSES\n",
        "np.mean(RMSES)"
      ],
      "metadata": {
        "colab": {
          "base_uri": "https://localhost:8080/"
        },
        "id": "LTxnwa-vv2rC",
        "outputId": "0d7013c6-78ca-4b4f-8c5d-303523818e97"
      },
      "execution_count": 99,
      "outputs": [
        {
          "output_type": "execute_result",
          "data": {
            "text/plain": [
              "226799.12695919522"
            ]
          },
          "metadata": {},
          "execution_count": 99
        }
      ]
    },
    {
      "cell_type": "markdown",
      "source": [
        "From the assumptions listed above, we can see that our model satisfies the assumptions for multiple linear regression. There is no multicollinearity as evidenced by our VIF scores less than 5. The variances of our errors are also homogenous, as seen in Bartlett's test above. The residual plot above, has also shown that that our residuals are randomnly distributed. However, our RMSE is quite high for this model."
      ],
      "metadata": {
        "id": "wNEw6GLJIIcS"
      }
    },
    {
      "cell_type": "markdown",
      "source": [
        "## **7.0 Quantile Regression**"
      ],
      "metadata": {
        "id": "n2gTVr-2z_bF"
      }
    },
    {
      "cell_type": "code",
      "source": [
        "#Performing a qauntile regression of the 50th percentile.\n",
        "import statsmodels.formula.api as smf \n",
        "mod =smf.quantreg('y ~ X',df)\n",
        "res = mod.fit(0.25)\n",
        "res1 = mod.fit(0.5)\n",
        "res2 = mod.fit(0.75)\n",
        "print('25% Percentile')\n",
        "print(res.summary())\n",
        "print('50% Percentile')\n",
        "print(res1.summary())\n",
        "print('75% Percentile')\n",
        "print(res2.summary())"
      ],
      "metadata": {
        "colab": {
          "base_uri": "https://localhost:8080/"
        },
        "id": "ubggeCrDKvBM",
        "outputId": "a75f1d27-9c32-4f21-9f7a-181e8824d580"
      },
      "execution_count": 109,
      "outputs": [
        {
          "output_type": "stream",
          "name": "stdout",
          "text": [
            "25% Percentile\n",
            "                         QuantReg Regression Results                          \n",
            "==============================================================================\n",
            "Dep. Variable:                      y   Pseudo R-squared:               0.2529\n",
            "Model:                       QuantReg   Bandwidth:                   2.492e+04\n",
            "Method:                 Least Squares   Sparsity:                    3.703e+05\n",
            "Date:                Sat, 11 Jun 2022   No. Observations:                21607\n",
            "Time:                        20:28:33   Df Residuals:                    21593\n",
            "                                        Df Model:                           13\n",
            "==============================================================================\n",
            "                 coef    std err          t      P>|t|      [0.025      0.975]\n",
            "------------------------------------------------------------------------------\n",
            "Intercept   -380.5633   9.89e+04     -0.004      0.997   -1.94e+05    1.93e+05\n",
            "X[0]        7665.4148   1457.926      5.258      0.000    4807.772    1.05e+04\n",
            "X[1]        2.368e+04   2255.583     10.497      0.000    1.93e+04    2.81e+04\n",
            "X[2]           0.1918      0.039      4.898      0.000       0.115       0.269\n",
            "X[3]         2.47e+04   2576.563      9.587      0.000    1.97e+04    2.98e+04\n",
            "X[4]         103.5800   9872.031      0.010      0.992   -1.92e+04    1.95e+04\n",
            "X[5]         1.85e+04   1544.787     11.975      0.000    1.55e+04    2.15e+04\n",
            "X[6]       -5928.6086   1750.709     -3.386      0.001   -9360.128   -2497.089\n",
            "X[7]         5.45e+04   1528.241     35.665      0.000    5.15e+04    5.75e+04\n",
            "X[8]        -207.0306     49.721     -4.164      0.000    -304.487    -109.575\n",
            "X[9]          36.4810      2.917     12.505      0.000      30.763      42.199\n",
            "X[10]       1542.4276     68.930     22.377      0.000    1407.320    1677.535\n",
            "X[11]        114.6330      2.354     48.690      0.000     110.018     119.248\n",
            "X[12]          0.0736      0.063      1.175      0.240      -0.049       0.196\n",
            "==============================================================================\n",
            "\n",
            "The condition number is large, 5.01e+06. This might indicate that there are\n",
            "strong multicollinearity or other numerical problems.\n",
            "50% Percentile\n",
            "                         QuantReg Regression Results                          \n",
            "==============================================================================\n",
            "Dep. Variable:                      y   Pseudo R-squared:               0.3627\n",
            "Model:                       QuantReg   Bandwidth:                   2.533e+04\n",
            "Method:                 Least Squares   Sparsity:                    3.806e+05\n",
            "Date:                Sat, 11 Jun 2022   No. Observations:                21607\n",
            "Time:                        20:28:33   Df Residuals:                    21593\n",
            "                                        Df Model:                           13\n",
            "==============================================================================\n",
            "                 coef    std err          t      P>|t|      [0.025      0.975]\n",
            "------------------------------------------------------------------------------\n",
            "Intercept   1.668e+06   1.28e+05     13.016      0.000    1.42e+06    1.92e+06\n",
            "X[0]        1514.1326   1741.100      0.870      0.385   -1898.552    4926.818\n",
            "X[1]         3.67e+04   2772.792     13.237      0.000    3.13e+04    4.21e+04\n",
            "X[2]           0.1999      0.045      4.437      0.000       0.112       0.288\n",
            "X[3]        2.171e+04   3051.408      7.116      0.000    1.57e+04    2.77e+04\n",
            "X[4]        5.384e+05   1.64e+04     32.843      0.000    5.06e+05    5.71e+05\n",
            "X[5]        5.224e+04   1977.485     26.416      0.000    4.84e+04    5.61e+04\n",
            "X[6]        4.425e+04   2213.489     19.989      0.000    3.99e+04    4.86e+04\n",
            "X[7]        1.199e+05   1836.389     65.312      0.000    1.16e+05    1.24e+05\n",
            "X[8]       -1328.4366     64.707    -20.530      0.000   -1455.268   -1201.606\n",
            "X[9]          16.8526      3.453      4.880      0.000      10.084      23.621\n",
            "X[10]       1515.1547     75.426     20.088      0.000    1367.315    1662.995\n",
            "X[11]        104.1493      2.908     35.816      0.000      98.450     109.849\n",
            "X[12]         -0.3363      0.069     -4.881      0.000      -0.471      -0.201\n",
            "==============================================================================\n",
            "\n",
            "The condition number is large, 5.01e+06. This might indicate that there are\n",
            "strong multicollinearity or other numerical problems.\n",
            "75% Percentile\n",
            "                         QuantReg Regression Results                          \n",
            "==============================================================================\n",
            "Dep. Variable:                      y   Pseudo R-squared:               0.4368\n",
            "Model:                       QuantReg   Bandwidth:                   2.233e+04\n",
            "Method:                 Least Squares   Sparsity:                    4.578e+05\n",
            "Date:                Sat, 11 Jun 2022   No. Observations:                21607\n",
            "Time:                        20:28:33   Df Residuals:                    21593\n",
            "                                        Df Model:                           13\n",
            "==============================================================================\n",
            "                 coef    std err          t      P>|t|      [0.025      0.975]\n",
            "------------------------------------------------------------------------------\n",
            "Intercept    3.95e+06   1.47e+05     26.811      0.000    3.66e+06    4.24e+06\n",
            "X[0]        3783.7640   1926.260      1.964      0.050       8.153    7559.375\n",
            "X[1]        6.389e+04   3080.623     20.740      0.000    5.79e+04    6.99e+04\n",
            "X[2]           0.2640      0.047      5.590      0.000       0.171       0.357\n",
            "X[3]        1.932e+04   3316.378      5.825      0.000    1.28e+04    2.58e+04\n",
            "X[4]        8.951e+05   1.72e+04     52.085      0.000    8.61e+05    9.29e+05\n",
            "X[5]        6.822e+04   2057.577     33.155      0.000    6.42e+04    7.23e+04\n",
            "X[6]        3.596e+04   2387.240     15.063      0.000    3.13e+04    4.06e+04\n",
            "X[7]        1.386e+05   2120.241     65.360      0.000    1.34e+05    1.43e+05\n",
            "X[8]       -2510.6411     74.937    -33.503      0.000   -2657.524   -2363.759\n",
            "X[9]          41.7927      3.647     11.461      0.000      34.645      48.940\n",
            "X[10]        782.0604     77.034     10.152      0.000     631.068     933.052\n",
            "X[11]        101.8551      3.344     30.460      0.000      95.301     108.409\n",
            "X[12]         -0.3036      0.078     -3.908      0.000      -0.456      -0.151\n",
            "==============================================================================\n",
            "\n",
            "The condition number is large, 5.01e+06. This might indicate that there are\n",
            "strong multicollinearity or other numerical problems.\n"
          ]
        }
      ]
    },
    {
      "cell_type": "markdown",
      "source": [
        "Mean Absolute Error: 154958.5100001449\n",
        "Mean Squared Error: 55017936672.40389\n",
        "Root Mean Squared Error: 234559.0259879246\n",
        "R-Squared: 0.5451276902454001"
      ],
      "metadata": {
        "id": "82uduu5igW9q"
      }
    },
    {
      "cell_type": "markdown",
      "source": [
        "## **8.0 Ridge Regression**"
      ],
      "metadata": {
        "id": "MpdjmrROPdka"
      }
    },
    {
      "cell_type": "code",
      "source": [
        "from sklearn.model_selection import GridSearchCV\n",
        "from sklearn.linear_model import Ridge\n",
        "from sklearn.linear_model import LinearRegression\n",
        "from sklearn.metrics import mean_squared_error\n",
        "\n",
        "X =df[['bedrooms', 'bathrooms', 'sqft_living', 'sqft_lot', 'floors','waterfront', 'view', 'condition', 'grade', 'sqft_above',\n",
        "'sqft_basement', 'yr_built', 'yr_renovated', 'zipcode','sqft_living15', 'sqft_lot15']]\n",
        "# X =df[['bedrooms', 'bathrooms', 'sqft_lot', 'floors','waterfront', 'view', 'condition', 'grade','yr_built', \n",
        "#        'yr_renovated', 'zipcode','sqft_living15', 'sqft_lot15']]\n",
        "y = df['price']\n",
        "\n",
        "# In order to create our ridge model we need to first determine the most appropriate value for the l2 regularization. \n",
        "# L2 is the name of the hyperparameter that is used in ridge regression. \n",
        "# Determining the value of a hyperparameter requires the use of a grid. \n",
        "# In the code below, we first create our ridge model and indicate normalization in order to get better estimates. \n",
        "# Next we setup the grid that we will use. \n",
        "# The search object has several arguments within it. Alpha is hyperparameter we are trying to set. \n",
        "# The log space is the range of values we want to test. \n",
        "# We want the log of -5 to 2, but we only get 8 values from within that range evenly spread out. \n",
        "# Are metric is the mean squared error. Refit set true means to adjust the parameters while modeling \n",
        "# and cv is the number of folds to develop for the cross-validation. \n",
        "#\n",
        "ridge = Ridge(normalize=True)\n",
        "search = GridSearchCV(estimator=ridge,param_grid={'alpha':np.logspace(-5,2,8)},scoring='neg_mean_squared_error',n_jobs=1,refit=True,cv=10)"
      ],
      "metadata": {
        "id": "P1djz0wjPtjC"
      },
      "execution_count": 112,
      "outputs": []
    },
    {
      "cell_type": "code",
      "source": [
        "# We now use the .fit function to run the model and then use the .best_params_ and\n",
        "#  .best_scores_ function to determine the models strength. \n",
        "# \n",
        "search.fit(X,y)\n",
        "search.best_params_\n",
        "{'alpha': 0.01}\n",
        "abs(search.best_score_) \n",
        "\n",
        "# The best_params_ tells us what to set alpha too which in this case is 0.01. \n",
        "# The best_score_ tells us what the best possible mean squared error is. \n",
        "# In this case, the value of 0.38 is worse than what the baseline model was. "
      ],
      "metadata": {
        "colab": {
          "base_uri": "https://localhost:8080/"
        },
        "id": "Uah-bJjFP-1a",
        "outputId": "92c63fb2-82ca-47df-d83c-b48b3694e43a"
      },
      "execution_count": 113,
      "outputs": [
        {
          "output_type": "execute_result",
          "data": {
            "text/plain": [
              "47283231033.89476"
            ]
          },
          "metadata": {},
          "execution_count": 113
        }
      ]
    },
    {
      "cell_type": "code",
      "source": [
        "search.best_params_"
      ],
      "metadata": {
        "colab": {
          "base_uri": "https://localhost:8080/"
        },
        "id": "Pg3LaQyJeND9",
        "outputId": "a9121035-f2a9-478b-ce0e-f24c6f467a5e"
      },
      "execution_count": 114,
      "outputs": [
        {
          "output_type": "execute_result",
          "data": {
            "text/plain": [
              "{'alpha': 0.01}"
            ]
          },
          "metadata": {},
          "execution_count": 114
        }
      ]
    },
    {
      "cell_type": "code",
      "source": [
        "# We can confirm this by fitting our model with the ridge information and finding the mean squared error below\n",
        "#\n",
        "ridge = Ridge(normalize=True,alpha=0.01)\n",
        "ridge.fit(X,y)\n",
        "second_model = (mean_squared_error(y_true=y,y_pred=ridge.predict(X)))\n",
        "print(second_model)"
      ],
      "metadata": {
        "colab": {
          "base_uri": "https://localhost:8080/"
        },
        "id": "uVO5Xi93QNnp",
        "outputId": "3d984092-b839-428c-81d6-299b9f0e8f75"
      },
      "execution_count": 115,
      "outputs": [
        {
          "output_type": "stream",
          "name": "stdout",
          "text": [
            "46643356006.004295\n"
          ]
        }
      ]
    },
    {
      "cell_type": "code",
      "source": [
        "# The 0.35 is lower than the 0.38. This is because the last results are not cross-validated. \n",
        "# In addition, these results indicate that there is little difference between the ridge and baseline models. \n",
        "# This is confirmed with the coefficients of each model found below.\n",
        "# \n",
        "coef_dict_baseline = {}\n",
        "for coef, feat in zip(regressor.coef_,X.columns):\n",
        "    coef_dict_baseline[feat] = coef\n",
        "coef_dict_baseline\n",
        "\n",
        "# The coefficient values are about the same. This means that the penalization made little difference with this dataset."
      ],
      "metadata": {
        "colab": {
          "base_uri": "https://localhost:8080/"
        },
        "id": "EriP-2AtQV02",
        "outputId": "f94ee5d9-d8e7-4dae-8745-1c4697960177"
      },
      "execution_count": 116,
      "outputs": [
        {
          "output_type": "execute_result",
          "data": {
            "text/plain": [
              "{'bathrooms': 110421.76005735941,\n",
              " 'bedrooms': -8514.905677731978,\n",
              " 'condition': 149200.75308622647,\n",
              " 'floors': 595695.0884721633,\n",
              " 'grade': -4268.352780689699,\n",
              " 'sqft_above': 13.3049846363175,\n",
              " 'sqft_basement': 16.123560003627006,\n",
              " 'sqft_living': 0.1418658264883561,\n",
              " 'sqft_lot': 14810.397156312461,\n",
              " 'view': 22818.367306003733,\n",
              " 'waterfront': 48543.77749239593,\n",
              " 'yr_built': 105.90317830075946,\n",
              " 'yr_renovated': -0.39715584403893445}"
            ]
          },
          "metadata": {},
          "execution_count": 116
        }
      ]
    },
    {
      "cell_type": "markdown",
      "source": [
        "Mean Absolute Error: 154958.5100001449\n",
        "\n",
        "Mean Squared Error: 55017936672.40389\n",
        "\n",
        "Root Mean Squared Error: 234559.0259879246\n",
        "\n",
        "R-Squared: 0.5451276902454001"
      ],
      "metadata": {
        "id": "IZsGatWrjgoI"
      }
    },
    {
      "cell_type": "markdown",
      "source": [
        "## **9.0 Lasso Regression**"
      ],
      "metadata": {
        "id": "qhv0kBc5UPLr"
      }
    },
    {
      "cell_type": "code",
      "source": [
        "# Before building the models, let's first scale data. \n",
        "# Lasso put constraints on the size of the coefficients associated to each variable. \n",
        "# But, this value depends on the magnitude of each variable and it is therefore \n",
        "# necessary to center and reduce, or standardize, the variables.\n",
        "# \n",
        "\n",
        "# Importing StandardScaler\n",
        "#\n",
        "from sklearn.preprocessing import StandardScaler\n",
        "\n",
        "# Creating features and target matrixes\n",
        "#\n",
        "X =df[['bedrooms', 'bathrooms', 'sqft_living', 'sqft_lot', 'floors','waterfront', 'view', 'condition', 'grade', 'sqft_above',\n",
        "'sqft_basement', 'yr_built', 'yr_renovated', 'zipcode','sqft_living15', 'sqft_lot15']]\n",
        "# X =df[['bedrooms', 'bathrooms', 'sqft_lot', 'floors','waterfront', 'view', 'condition', 'grade','yr_built', \n",
        "#        'yr_renovated', 'zipcode','sqft_living15', 'sqft_lot15']]\n",
        "y = df['price']\n",
        "\n",
        "# Scaling data \n",
        "#\n",
        "# scaler = StandardScaler()\n",
        "# scaler.fit(X)\n",
        "# X = scaler.transform(X)"
      ],
      "metadata": {
        "id": "b6FnWPsIUWYG"
      },
      "execution_count": 118,
      "outputs": []
    },
    {
      "cell_type": "code",
      "source": [
        "# We can basically build the Lasso model. \n",
        "# But for now, we will train it on the whole dataset and look at an R-squared score and on the model coefficients. \n",
        "# Note, that we are not setting the alpha, it is defined as 1.\n",
        "# \n",
        "\n",
        "# Importing linear models\n",
        "# \n",
        "from sklearn import linear_model\n",
        "from sklearn.metrics import mean_squared_error\n",
        "\n",
        "# Creating lasso object\n",
        "# \n",
        "lasso = linear_model.Lasso() \n",
        "\n",
        "# Fitting the models\n",
        "# \n",
        "lasso.fit(X, y) \n",
        "\n",
        "# Print scores, MSE, and coefficients\n",
        "# \n",
        "print(\"lasso score:\", lasso.score(X, y)) \n",
        "print(\"lasso MSE:\", mean_squared_error(y, lasso.predict(X))) \n",
        "print(\"lasso coef:\", lasso.coef_) "
      ],
      "metadata": {
        "colab": {
          "base_uri": "https://localhost:8080/"
        },
        "id": "aPgRu1BkZjsx",
        "outputId": "d8e861d4-70fc-4d75-94a9-1cee61fcbd7d"
      },
      "execution_count": 119,
      "outputs": [
        {
          "output_type": "stream",
          "name": "stdout",
          "text": [
            "lasso score: 0.6545090965295892\n",
            "lasso MSE: 46635063586.06289\n",
            "lasso coef: [-4.31811282e+04  4.69871454e+04  2.98585964e+02 -4.70557656e-03\n",
            "  2.67985425e+04  5.76996037e+05  4.31205432e+04  1.94819092e+04\n",
            "  1.19227065e+05 -1.35414904e+02 -1.29145340e+02 -3.58299553e+03\n",
            "  1.01169999e+01 -1.26883795e+01  2.48534432e+01 -5.56738815e-01]\n"
          ]
        }
      ]
    },
    {
      "cell_type": "code",
      "source": [
        "# Splitting the data into training and test sets, building Lasso, \n",
        "# and choosing the regularization parameter with the help of GridSearch. \n",
        "# For that, we have to define the set of parameters for GridSearch. \n",
        "# In this case, a model with the highest R-squared score will give us the best parameters.\n",
        "# \n",
        "\n",
        "# Making necessary imports, split data into training and test sets, and choose a set of parameters \n",
        "from sklearn.model_selection import train_test_split\n",
        "from sklearn.model_selection import GridSearchCV\n",
        "import warnings\n",
        "warnings.filterwarnings(\"ignore\")\n",
        "\n",
        "X_train, X_test, y_train, y_test = train_test_split(X, y, test_size=0.25, random_state=101)\n",
        "parameters = {'alpha': np.concatenate((np.arange(0.1,2,0.1), np.arange(2, 5, 0.5), np.arange(5, 25, 1)))}\n",
        "\n",
        "linear = linear_model.LinearRegression()\n",
        "lasso = linear_model.Lasso() \n",
        "gridlasso = GridSearchCV(lasso, parameters, scoring ='r2') \n",
        "\n",
        "# Fitting models and print the best parameters, R-squared scores, MSE, and coefficients\n",
        "gridlasso.fit(X_train, y_train) \n",
        "linear.fit(X_train, y_train) \n",
        "print(\"lasso best parameters:\", gridlasso.best_params_) \n",
        "print(\"lasso score:\", gridlasso.score(X_test, y_test))\n",
        "print(\"linear score:\", linear.score(X_test, y_test)) \n",
        "print(\"lasso MSE:\", mean_squared_error(y_test, gridlasso.predict(X_test)))\n",
        "print(\"linear MSE:\", mean_squared_error(y_test, linear.predict(X_test))) \n",
        "print(\"lasso best estimator coef:\", gridlasso.best_estimator_.coef_)\n",
        "print(\"linear coef:\", linear.coef_)"
      ],
      "metadata": {
        "colab": {
          "base_uri": "https://localhost:8080/"
        },
        "id": "sXpU_p12ZmZh",
        "outputId": "7a4f5137-2b82-4519-f64e-4a2240ff522b"
      },
      "execution_count": 120,
      "outputs": [
        {
          "output_type": "stream",
          "name": "stdout",
          "text": [
            "lasso best parameters: {'alpha': 0.1}\n",
            "lasso score: 0.6608198643702232\n",
            "linear score: 0.6608197641185475\n",
            "lasso MSE: 45758201869.73727\n",
            "linear MSE: 45758215394.51639\n",
            "lasso best estimator coef: [-4.62224153e+04  4.55114047e+04  3.00940638e+02  5.58933925e-02\n",
            "  2.84560123e+04  5.93751288e+05  3.94734628e+04  1.93039070e+04\n",
            "  1.20207166e+05 -1.36563283e+02 -1.25009602e+02 -3.58022961e+03\n",
            "  1.23957419e+01 -5.67525107e+01  2.27987486e+01 -6.06234170e-01]\n",
            "linear coef: [-4.62225689e+04  4.55118310e+04  1.13435937e+02  5.58941024e-02\n",
            "  2.84564698e+04  5.93766136e+05  3.94729053e+04  1.93041735e+04\n",
            "  1.20207301e+05  5.09409827e+01  6.24949546e+01 -3.58023521e+03\n",
            "  1.23954813e+01 -5.67552502e+01  2.27987691e+01 -6.06233977e-01]\n"
          ]
        }
      ]
    },
    {
      "cell_type": "markdown",
      "source": [
        "The mean squared error of the linear and lasso regression are almost similar"
      ],
      "metadata": {
        "id": "cekuoGtsjA3i"
      }
    },
    {
      "cell_type": "markdown",
      "source": [
        "## **10.0 Elastic Net Regression**"
      ],
      "metadata": {
        "id": "s0Aa5FnUZ4Lx"
      }
    },
    {
      "cell_type": "code",
      "source": [
        "# Importing our libraries\n",
        "\n",
        "from sklearn.model_selection import GridSearchCV\n",
        "from sklearn.linear_model import ElasticNet\n",
        "from sklearn.linear_model import LinearRegression\n",
        "from sklearn.metrics import mean_squared_error"
      ],
      "metadata": {
        "id": "DAZevJX6aADT"
      },
      "execution_count": 121,
      "outputs": []
    },
    {
      "cell_type": "code",
      "source": [
        "# Data preparation\n",
        "# \n",
        "X =df[['bedrooms', 'bathrooms', 'sqft_living', 'sqft_lot', 'floors','waterfront', 'view', 'condition', 'grade', 'sqft_above',\n",
        "'sqft_basement', 'yr_built', 'yr_renovated', 'zipcode','sqft_living15', 'sqft_lot15']]\n",
        "# X =df[['bedrooms', 'bathrooms', 'sqft_lot', 'floors','waterfront', 'view', 'condition', 'grade','yr_built', \n",
        "#        'yr_renovated', 'zipcode','sqft_living15', 'sqft_lot15']]\n",
        "y = df['price']\n",
        "\n",
        "# Creating our linear regression model for the purpose of comparison\n",
        "# \n",
        "regression=LinearRegression()\n",
        "regression.fit(X,y)\n",
        "first_model=(mean_squared_error(y_true=y,y_pred=regression.predict(X)))\n",
        "first_model1 =(metrics.r2_score(y_true=y,y_pred=regression.predict(X)))\n",
        "print('Mean Squared Error :', first_model)\n",
        "print('R Squared :', first_model1)\n",
        "\n",
        "# This mean standard error score of 46635063424.38999 is our benchmark for determining \n",
        "# if the elastic net model will be better or worst."
      ],
      "metadata": {
        "colab": {
          "base_uri": "https://localhost:8080/"
        },
        "id": "WeRLqGZPaOgU",
        "outputId": "7d688118-617f-4cc6-be4b-2062f6bc07ef"
      },
      "execution_count": 133,
      "outputs": [
        {
          "output_type": "stream",
          "name": "stdout",
          "text": [
            "Mean Squared Error : 46635063424.38999\n",
            "R Squared : 0.6545090977273258\n"
          ]
        }
      ]
    },
    {
      "cell_type": "code",
      "source": [
        "# Below are the coefficients of this first model. We use a for loop to go through \n",
        "# the model and the zip function to combine the two columns.\n",
        "# \n",
        "coef_dict_baseline = {}\n",
        "for coef, feat in zip(regression.coef_,X.columns):\n",
        "    coef_dict_baseline[feat] = coef\n",
        "coef_dict_baseline"
      ],
      "metadata": {
        "colab": {
          "base_uri": "https://localhost:8080/"
        },
        "id": "IkCTfblbadwz",
        "outputId": "41f48bdb-0fa1-4959-d1f8-149c033cb4b0"
      },
      "execution_count": 123,
      "outputs": [
        {
          "output_type": "execute_result",
          "data": {
            "text/plain": [
              "{'bathrooms': 46991.354556359285,\n",
              " 'bedrooms': -43182.560326782856,\n",
              " 'condition': 19484.551519536817,\n",
              " 'floors': 26803.256441722508,\n",
              " 'grade': 119228.56235286364,\n",
              " 'sqft_above': 52.29791688712248,\n",
              " 'sqft_basement': 58.57049327646837,\n",
              " 'sqft_living': 110.86841003193331,\n",
              " 'sqft_living15': 24.85390892255691,\n",
              " 'sqft_lot': -0.0046978880927781574,\n",
              " 'sqft_lot15': -0.5567380096363195,\n",
              " 'view': 43114.93899966708,\n",
              " 'waterfront': 577148.7329783371,\n",
              " 'yr_built': -3583.055269859747,\n",
              " 'yr_renovated': 10.114326365957425,\n",
              " 'zipcode': -12.718649271870703}"
            ]
          },
          "metadata": {},
          "execution_count": 123
        }
      ]
    },
    {
      "cell_type": "code",
      "source": [
        "# Elastic Net Model\n",
        "# Elastic net, just like ridge and lasso regression, requires normalize data. \n",
        "# This argument  is set inside the ElasticNet function. \n",
        "# The second thing we need to do is create our grid.\n",
        "# \n",
        "elastic=ElasticNet(normalize=True)\n",
        "search=GridSearchCV(estimator=elastic,param_grid={'alpha':np.logspace(-5,2,8),'l1_ratio':[.2,.4,.6,.8]},scoring='neg_mean_squared_error',n_jobs=1,refit=True,cv=10)"
      ],
      "metadata": {
        "id": "svUk_aBAaiNM"
      },
      "execution_count": 124,
      "outputs": []
    },
    {
      "cell_type": "code",
      "source": [
        "# We will now fit our model and display the best parameters and the best results we can get with that setup.\n",
        "# \n",
        "search.fit(X,y)\n",
        "search.best_params_\n",
        "abs(search.best_score_)"
      ],
      "metadata": {
        "colab": {
          "base_uri": "https://localhost:8080/"
        },
        "id": "_EaAqiDJanDQ",
        "outputId": "bba5d762-80cf-4d39-ae39-b291583de1bc"
      },
      "execution_count": 125,
      "outputs": [
        {
          "output_type": "execute_result",
          "data": {
            "text/plain": [
              "47336571409.167564"
            ]
          },
          "metadata": {},
          "execution_count": 125
        }
      ]
    },
    {
      "cell_type": "code",
      "source": [
        "print(\"elastic net best parameters:\", search.best_params_)"
      ],
      "metadata": {
        "colab": {
          "base_uri": "https://localhost:8080/"
        },
        "id": "5buGbyXgaqTc",
        "outputId": "98cc5d69-a943-4ad4-a40c-8f9b3a70f15f"
      },
      "execution_count": 126,
      "outputs": [
        {
          "output_type": "stream",
          "name": "stdout",
          "text": [
            "lasso best parameters: {'alpha': 1e-05, 'l1_ratio': 0.8}\n"
          ]
        }
      ]
    },
    {
      "cell_type": "code",
      "source": [
        "# The best hyperparameters was an alpha set to 1e-05, and a l1_ratio of 0.8. \n",
        "# With these settings we got an MSE of 1.08. This is above our baseline model of MSE 47336571409.167564  for the \n",
        "# baseline model (46635063424.38999) \n",
        "# Which means that elastic net is doing worse than linear regression. \n",
        "# For clarity, we will set our hyperparameters to the recommended values and run on the data.\n",
        "# \n",
        "elastic=ElasticNet(normalize=True,alpha=1e-05,l1_ratio=0.8)\n",
        "elastic.fit(X,y)\n",
        "second_model=(mean_squared_error(y_true=y,y_pred=elastic.predict(X)))\n",
        "second_model1 =(metrics.r2_score(y_true=y,y_pred=elastic.predict(X)))\n",
        "print('Mean Squared Error :', second_model)\n",
        "print('R Squared :', second_model1)"
      ],
      "metadata": {
        "colab": {
          "base_uri": "https://localhost:8080/"
        },
        "id": "yQQjLtiMatxj",
        "outputId": "4f0cb857-d1d3-44a4-be34-7c54d3eeb5a8"
      },
      "execution_count": 131,
      "outputs": [
        {
          "output_type": "stream",
          "name": "stdout",
          "text": [
            "Mean Squared Error : 46764216814.72596\n",
            "R Squared : 0.653552278585628\n"
          ]
        }
      ]
    },
    {
      "cell_type": "markdown",
      "source": [
        "The mean squared error for elastic net **46764216814.72596** is worse than that of our linear regression **46635063424.38999** "
      ],
      "metadata": {
        "id": "ySASbNv0iRBr"
      }
    },
    {
      "cell_type": "code",
      "source": [
        "# Below are the coefficients\n",
        "# \n",
        "coef_dict_baseline = {}\n",
        "for coef, feat in zip(elastic.coef_,X.columns):\n",
        "    coef_dict_baseline[feat] = coef\n",
        "coef_dict_baseline\n",
        "\n",
        "# The coefficients are mostly the same. \n",
        "# Notice that occupation was completely removed from the model in the elastic net version. \n",
        "# This means that this values was no good to the algorithm. Traditional regression cannot do this."
      ],
      "metadata": {
        "colab": {
          "base_uri": "https://localhost:8080/"
        },
        "id": "rCjxJJKra1ou",
        "outputId": "150a6bc3-5cbb-4421-96f9-ee5dbaaf8ecf"
      },
      "execution_count": 74,
      "outputs": [
        {
          "output_type": "execute_result",
          "data": {
            "text/plain": [
              "{'bathrooms': 44318.89057816414,\n",
              " 'bedrooms': -37666.38749510622,\n",
              " 'condition': 21959.532588337654,\n",
              " 'floors': 26711.22842544869,\n",
              " 'grade': 108622.84064083843,\n",
              " 'sqft_above': 76.93189275448884,\n",
              " 'sqft_basement': 84.13726952998029,\n",
              " 'sqft_living': 82.07491646290312,\n",
              " 'sqft_living15': 34.604859341206705,\n",
              " 'sqft_lot': -0.004944301609096113,\n",
              " 'sqft_lot15': -0.5147973119736884,\n",
              " 'view': 44947.72081756392,\n",
              " 'waterfront': 556922.7635172363,\n",
              " 'yr_built': -3209.4057175509265,\n",
              " 'yr_renovated': 16.37108154985769,\n",
              " 'zipcode': 126.77702968626078}"
            ]
          },
          "metadata": {},
          "execution_count": 74
        }
      ]
    },
    {
      "cell_type": "markdown",
      "source": [
        "Mean Absolute Error: 154958.5100001449\n",
        "\n",
        "Mean Squared Error: 55017936672.40389\n",
        "\n",
        "Root Mean Squared Error: 234559.0259879246\n",
        "\n",
        "R-Squared: 0.5451276902454001"
      ],
      "metadata": {
        "id": "e79fNDy3jQti"
      }
    }
  ]
}